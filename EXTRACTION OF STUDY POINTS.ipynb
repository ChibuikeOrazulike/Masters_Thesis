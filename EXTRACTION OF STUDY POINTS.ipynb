{
 "cells": [
  {
   "cell_type": "code",
   "execution_count": 12,
   "id": "5a04c285",
   "metadata": {
    "collapsed": true
   },
   "outputs": [
    {
     "name": "stdout",
     "output_type": "stream",
     "text": [
      "Requirement already satisfied: geopandas in c:\\users\\emman\\anaconda3\\lib\\site-packages (0.12.2)\n",
      "Requirement already satisfied: shapely in c:\\users\\emman\\anaconda3\\lib\\site-packages (2.0.1)\n",
      "Requirement already satisfied: pandas>=1.0.0 in c:\\users\\emman\\anaconda3\\lib\\site-packages (from geopandas) (1.4.4)\n",
      "Requirement already satisfied: fiona>=1.8 in c:\\users\\emman\\anaconda3\\lib\\site-packages (from geopandas) (1.9.3)\n",
      "Requirement already satisfied: pyproj>=2.6.1.post1 in c:\\users\\emman\\anaconda3\\lib\\site-packages (from geopandas) (3.3.1)\n",
      "Requirement already satisfied: packaging in c:\\users\\emman\\anaconda3\\lib\\site-packages (from geopandas) (21.3)\n",
      "Requirement already satisfied: numpy>=1.14 in c:\\users\\emman\\anaconda3\\lib\\site-packages (from shapely) (1.24.3)\n",
      "Requirement already satisfied: attrs>=19.2.0 in c:\\users\\emman\\anaconda3\\lib\\site-packages (from fiona>=1.8->geopandas) (21.4.0)\n",
      "Requirement already satisfied: certifi in c:\\users\\emman\\anaconda3\\lib\\site-packages (from fiona>=1.8->geopandas) (2022.9.14)\n",
      "Requirement already satisfied: click~=8.0 in c:\\users\\emman\\anaconda3\\lib\\site-packages (from fiona>=1.8->geopandas) (8.0.4)\n",
      "Requirement already satisfied: click-plugins>=1.0 in c:\\users\\emman\\anaconda3\\lib\\site-packages (from fiona>=1.8->geopandas) (1.1.1)\n",
      "Requirement already satisfied: cligj>=0.5 in c:\\users\\emman\\anaconda3\\lib\\site-packages (from fiona>=1.8->geopandas) (0.7.2)\n",
      "Requirement already satisfied: munch>=2.3.2 in c:\\users\\emman\\anaconda3\\lib\\site-packages (from fiona>=1.8->geopandas) (2.5.0)\n",
      "Requirement already satisfied: importlib-metadata in c:\\users\\emman\\anaconda3\\lib\\site-packages (from fiona>=1.8->geopandas) (4.11.3)\n",
      "Requirement already satisfied: python-dateutil>=2.8.1 in c:\\users\\emman\\anaconda3\\lib\\site-packages (from pandas>=1.0.0->geopandas) (2.8.2)\n",
      "Requirement already satisfied: pytz>=2020.1 in c:\\users\\emman\\anaconda3\\lib\\site-packages (from pandas>=1.0.0->geopandas) (2022.1)\n",
      "Requirement already satisfied: pyparsing!=3.0.5,>=2.0.2 in c:\\users\\emman\\anaconda3\\lib\\site-packages (from packaging->geopandas) (3.0.9)\n",
      "Requirement already satisfied: colorama in c:\\users\\emman\\anaconda3\\lib\\site-packages (from click~=8.0->fiona>=1.8->geopandas) (0.4.5)\n",
      "Requirement already satisfied: six in c:\\users\\emman\\anaconda3\\lib\\site-packages (from munch>=2.3.2->fiona>=1.8->geopandas) (1.16.0)\n",
      "Requirement already satisfied: zipp>=0.5 in c:\\users\\emman\\anaconda3\\lib\\site-packages (from importlib-metadata->fiona>=1.8->geopandas) (3.8.0)\n",
      "Note: you may need to restart the kernel to use updated packages.\n"
     ]
    },
    {
     "name": "stderr",
     "output_type": "stream",
     "text": [
      "\n",
      "[notice] A new release of pip is available: 23.1.1 -> 23.1.2\n",
      "[notice] To update, run: python.exe -m pip install --upgrade pip\n"
     ]
    }
   ],
   "source": [
    "pip install geopandas shapely"
   ]
  },
  {
   "cell_type": "code",
   "execution_count": 1,
   "id": "f92e80d7",
   "metadata": {},
   "outputs": [],
   "source": [
    "import geopandas as gpd\n",
    "import pandas as pd\n",
    "from shapely.geometry import Point, Polygon\n",
    "import numpy as np"
   ]
  },
  {
   "cell_type": "code",
   "execution_count": 39,
   "id": "26f9de0b",
   "metadata": {},
   "outputs": [],
   "source": [
    "# Import the shapefile\n",
    "shapefile_path = 'D:\\TU_dresden\\Thesis\\SHP\\MEDKAM_Karst__v1_poly.shp'\n",
    "polygons = gpd.read_file(shapefile_path)"
   ]
  },
  {
   "cell_type": "code",
   "execution_count": 40,
   "id": "fe5f80b0",
   "metadata": {},
   "outputs": [],
   "source": [
    "# Import the data points\n",
    "data_path = 'D:/TU_dresden/Thesis/karst_recharge_simulation_data/coord.csv'\n",
    "points_data = pd.read_csv(data_path, header=None)\n"
   ]
  },
  {
   "cell_type": "code",
   "execution_count": 41,
   "id": "d03abdb5",
   "metadata": {},
   "outputs": [],
   "source": [
    "points = [Point(x, y) for x, y in zip(points_data[1], points_data[0])]"
   ]
  },
  {
   "cell_type": "code",
   "execution_count": 42,
   "id": "ae06599c",
   "metadata": {},
   "outputs": [],
   "source": [
    "points_gdf = gpd.GeoDataFrame({'geometry': points}, crs=polygons.crs)"
   ]
  },
  {
   "cell_type": "code",
   "execution_count": 43,
   "id": "067bed46",
   "metadata": {},
   "outputs": [
    {
     "name": "stderr",
     "output_type": "stream",
     "text": [
      "C:\\Users\\emman\\anaconda3\\lib\\site-packages\\IPython\\core\\interactiveshell.py:3377: FutureWarning: The `op` parameter is deprecated and will be removed in a future release. Please use the `predicate` parameter instead.\n",
      "  if (await self.run_code(code, result,  async_=asy)):\n"
     ]
    }
   ],
   "source": [
    "points_in_polygons = gpd.sjoin(points_gdf, polygons, op='within')"
   ]
  },
  {
   "cell_type": "code",
   "execution_count": 44,
   "id": "34ab2a4f",
   "metadata": {},
   "outputs": [
    {
     "data": {
      "text/html": [
       "<div>\n",
       "<style scoped>\n",
       "    .dataframe tbody tr th:only-of-type {\n",
       "        vertical-align: middle;\n",
       "    }\n",
       "\n",
       "    .dataframe tbody tr th {\n",
       "        vertical-align: top;\n",
       "    }\n",
       "\n",
       "    .dataframe thead th {\n",
       "        text-align: right;\n",
       "    }\n",
       "</style>\n",
       "<table border=\"1\" class=\"dataframe\">\n",
       "  <thead>\n",
       "    <tr style=\"text-align: right;\">\n",
       "      <th></th>\n",
       "      <th>geometry</th>\n",
       "      <th>index_right</th>\n",
       "      <th>MEDKAMclas</th>\n",
       "      <th>MEDKAM_Cla</th>\n",
       "    </tr>\n",
       "  </thead>\n",
       "  <tbody>\n",
       "    <tr>\n",
       "      <th>6450</th>\n",
       "      <td>POINT (10.37500 51.12500)</td>\n",
       "      <td>3</td>\n",
       "      <td>Karst aquifers in sedimentary and metamorphic ...</td>\n",
       "      <td>1</td>\n",
       "    </tr>\n",
       "    <tr>\n",
       "      <th>6468</th>\n",
       "      <td>POINT (18.87500 51.12500)</td>\n",
       "      <td>3</td>\n",
       "      <td>Karst aquifers in sedimentary and metamorphic ...</td>\n",
       "      <td>1</td>\n",
       "    </tr>\n",
       "    <tr>\n",
       "      <th>6469</th>\n",
       "      <td>POINT (19.12500 51.12500)</td>\n",
       "      <td>3</td>\n",
       "      <td>Karst aquifers in sedimentary and metamorphic ...</td>\n",
       "      <td>1</td>\n",
       "    </tr>\n",
       "    <tr>\n",
       "      <th>6471</th>\n",
       "      <td>POINT (19.62500 51.12500)</td>\n",
       "      <td>3</td>\n",
       "      <td>Karst aquifers in sedimentary and metamorphic ...</td>\n",
       "      <td>1</td>\n",
       "    </tr>\n",
       "    <tr>\n",
       "      <th>6651</th>\n",
       "      <td>POINT (10.87500 50.87500)</td>\n",
       "      <td>3</td>\n",
       "      <td>Karst aquifers in sedimentary and metamorphic ...</td>\n",
       "      <td>1</td>\n",
       "    </tr>\n",
       "    <tr>\n",
       "      <th>...</th>\n",
       "      <td>...</td>\n",
       "      <td>...</td>\n",
       "      <td>...</td>\n",
       "      <td>...</td>\n",
       "    </tr>\n",
       "    <tr>\n",
       "      <th>28647</th>\n",
       "      <td>POINT (27.37500 29.37500)</td>\n",
       "      <td>1</td>\n",
       "      <td>Karst aquifers in evaporite rocks</td>\n",
       "      <td>2</td>\n",
       "    </tr>\n",
       "    <tr>\n",
       "      <th>28648</th>\n",
       "      <td>POINT (27.62500 29.37500)</td>\n",
       "      <td>1</td>\n",
       "      <td>Karst aquifers in evaporite rocks</td>\n",
       "      <td>2</td>\n",
       "    </tr>\n",
       "    <tr>\n",
       "      <th>28963</th>\n",
       "      <td>POINT (26.62500 29.12500)</td>\n",
       "      <td>1</td>\n",
       "      <td>Karst aquifers in evaporite rocks</td>\n",
       "      <td>2</td>\n",
       "    </tr>\n",
       "    <tr>\n",
       "      <th>28964</th>\n",
       "      <td>POINT (26.87500 29.12500)</td>\n",
       "      <td>1</td>\n",
       "      <td>Karst aquifers in evaporite rocks</td>\n",
       "      <td>2</td>\n",
       "    </tr>\n",
       "    <tr>\n",
       "      <th>29849</th>\n",
       "      <td>POINT (28.87500 28.37500)</td>\n",
       "      <td>1</td>\n",
       "      <td>Karst aquifers in evaporite rocks</td>\n",
       "      <td>2</td>\n",
       "    </tr>\n",
       "  </tbody>\n",
       "</table>\n",
       "<p>5908 rows × 4 columns</p>\n",
       "</div>"
      ],
      "text/plain": [
       "                        geometry  index_right  \\\n",
       "6450   POINT (10.37500 51.12500)            3   \n",
       "6468   POINT (18.87500 51.12500)            3   \n",
       "6469   POINT (19.12500 51.12500)            3   \n",
       "6471   POINT (19.62500 51.12500)            3   \n",
       "6651   POINT (10.87500 50.87500)            3   \n",
       "...                          ...          ...   \n",
       "28647  POINT (27.37500 29.37500)            1   \n",
       "28648  POINT (27.62500 29.37500)            1   \n",
       "28963  POINT (26.62500 29.12500)            1   \n",
       "28964  POINT (26.87500 29.12500)            1   \n",
       "29849  POINT (28.87500 28.37500)            1   \n",
       "\n",
       "                                              MEDKAMclas MEDKAM_Cla  \n",
       "6450   Karst aquifers in sedimentary and metamorphic ...          1  \n",
       "6468   Karst aquifers in sedimentary and metamorphic ...          1  \n",
       "6469   Karst aquifers in sedimentary and metamorphic ...          1  \n",
       "6471   Karst aquifers in sedimentary and metamorphic ...          1  \n",
       "6651   Karst aquifers in sedimentary and metamorphic ...          1  \n",
       "...                                                  ...        ...  \n",
       "28647                  Karst aquifers in evaporite rocks          2  \n",
       "28648                  Karst aquifers in evaporite rocks          2  \n",
       "28963                  Karst aquifers in evaporite rocks          2  \n",
       "28964                  Karst aquifers in evaporite rocks          2  \n",
       "29849                  Karst aquifers in evaporite rocks          2  \n",
       "\n",
       "[5908 rows x 4 columns]"
      ]
     },
     "execution_count": 44,
     "metadata": {},
     "output_type": "execute_result"
    }
   ],
   "source": [
    "points_in_polygons"
   ]
  },
  {
   "cell_type": "code",
   "execution_count": 13,
   "id": "9522a7ed",
   "metadata": {},
   "outputs": [
    {
     "name": "stdout",
     "output_type": "stream",
     "text": [
      "Correlation coefficient: [[1.         0.24019223]\n",
      " [0.24019223 1.        ]]\n"
     ]
    }
   ],
   "source": [
    "# Generate two random time series with 100 elements each\n",
    "ts1 = (8,2,10)\n",
    "ts2 = (20,21,22)\n",
    "\n",
    "# Compute the correlation coefficient between the two time series\n",
    "corr = np.corrcoef(ts1, ts2)\n",
    "\n",
    "print(\"Correlation coefficient:\", corr)"
   ]
  },
  {
   "cell_type": "code",
   "execution_count": 8,
   "id": "00940d88",
   "metadata": {},
   "outputs": [
    {
     "data": {
      "text/plain": [
       "-0.04133485177574646"
      ]
     },
     "execution_count": 8,
     "metadata": {},
     "output_type": "execute_result"
    }
   ],
   "source": [
    "corr"
   ]
  },
  {
   "cell_type": "code",
   "execution_count": null,
   "id": "45e14810",
   "metadata": {},
   "outputs": [],
   "source": []
  }
 ],
 "metadata": {
  "kernelspec": {
   "display_name": "Python 3 (ipykernel)",
   "language": "python",
   "name": "python3"
  },
  "language_info": {
   "codemirror_mode": {
    "name": "ipython",
    "version": 3
   },
   "file_extension": ".py",
   "mimetype": "text/x-python",
   "name": "python",
   "nbconvert_exporter": "python",
   "pygments_lexer": "ipython3",
   "version": "3.9.13"
  }
 },
 "nbformat": 4,
 "nbformat_minor": 5
}
