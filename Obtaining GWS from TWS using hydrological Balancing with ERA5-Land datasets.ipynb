{
 "cells": [
  {
   "cell_type": "code",
   "execution_count": null,
   "id": "90ffd693",
   "metadata": {},
   "outputs": [],
   "source": [
    "import pandas as pd\n",
    "import numpy as np\n",
    "import xarray as xr\n",
    "import netCDF4 as nc\n",
    "import datetime as dt\n",
    "from netCDF4 import num2date"
   ]
  },
  {
   "cell_type": "code",
   "execution_count": null,
   "id": "a9bd7f42",
   "metadata": {},
   "outputs": [],
   "source": [
    "#FiRST OF ALL GETTING THE DATE COLUMN FROM THE NETCDF FILE AND THIS DATE AS THE COLUMN NAME IN EXTRACTED DATASETS"
   ]
  },
  {
   "cell_type": "code",
   "execution_count": null,
   "id": "6070a2ce",
   "metadata": {},
   "outputs": [],
   "source": [
    "nc1 = nc.Dataset('Soil_upscaled.nc')#I used the soil netcdf as it matches every other dataset"
   ]
  },
  {
   "cell_type": "code",
   "execution_count": null,
   "id": "e58174f2",
   "metadata": {},
   "outputs": [],
   "source": [
    "times = nc1.variables['time'][3:216]"
   ]
  },
  {
   "cell_type": "code",
   "execution_count": null,
   "id": "7dc0c596",
   "metadata": {},
   "outputs": [],
   "source": [
    "units = nc1.variables['time'].units"
   ]
  },
  {
   "cell_type": "code",
   "execution_count": null,
   "id": "602bd4eb",
   "metadata": {},
   "outputs": [],
   "source": [
    "dtimes = nc.num2date(times, units = units)"
   ]
  },
  {
   "cell_type": "code",
   "execution_count": null,
   "id": "62ba628b",
   "metadata": {},
   "outputs": [],
   "source": [
    "date_array = [dt.datetime(date.year, date.month, date.day) for date in dtimes]\n",
    "date_array"
   ]
  },
  {
   "cell_type": "code",
   "execution_count": null,
   "id": "2c48f67d",
   "metadata": {},
   "outputs": [],
   "source": [
    "Surface_water = pd.read_csv('surface_runoff.csv')\n",
    "Surface_water_subset = Surface_water.iloc[:, 2:215]#Subsetting from column 2-145(variables excluding lat-lon values)\n",
    "Surface_water_subset.set_axis(date_array, axis ='columns', inplace=True)#Replacing column name with the dates\n",
    "SWA = Surface_water_subset.multiply(1000)\n",
    "SWA"
   ]
  },
  {
   "cell_type": "code",
   "execution_count": null,
   "id": "1ba9aa13",
   "metadata": {},
   "outputs": [],
   "source": [
    "#SWA.to_csv('SWA.csv', index=False)"
   ]
  },
  {
   "cell_type": "code",
   "execution_count": null,
   "id": "0f48b3d4",
   "metadata": {},
   "outputs": [],
   "source": []
  },
  {
   "cell_type": "code",
   "execution_count": null,
   "id": "a0ca45e2",
   "metadata": {},
   "outputs": [],
   "source": [
    "lat_lon_values = Surface_water.iloc[:, 0:2]"
   ]
  },
  {
   "cell_type": "code",
   "execution_count": null,
   "id": "1889036e",
   "metadata": {},
   "outputs": [],
   "source": [
    "lat_lon_values"
   ]
  },
  {
   "cell_type": "code",
   "execution_count": null,
   "id": "96da40aa",
   "metadata": {},
   "outputs": [],
   "source": [
    "SWA = pd.concat([lat_lon_values.iloc[:, 0:2], SWA], axis=1)\n",
    "SWA"
   ]
  },
  {
   "cell_type": "code",
   "execution_count": null,
   "id": "ea0e3e94",
   "metadata": {},
   "outputs": [],
   "source": [
    "SWA.to_csv('Surface_water_ERA5.csv', index=False)"
   ]
  },
  {
   "cell_type": "code",
   "execution_count": null,
   "id": "a6be936d",
   "metadata": {},
   "outputs": [],
   "source": [
    "Snow_water = pd.read_csv('Snow_water.csv')\n",
    "Snow_water_subset = Snow_water.iloc[:, 2:215]#Subsetting from column 2-145(variables excluding lat-lon values)\n",
    "Snow_water_subset.set_axis(date_array, axis ='columns', inplace=True)\n",
    "SWE = Snow_water_subset.multiply(1000)\n",
    "SWE = pd.concat([lat_lon_values.iloc[:, 0:2], SWE], axis=1)\n",
    "SWE"
   ]
  },
  {
   "cell_type": "code",
   "execution_count": null,
   "id": "94843ae2",
   "metadata": {},
   "outputs": [],
   "source": [
    "SWE.to_csv('Snow_water_ERA5.csv', index=False)"
   ]
  },
  {
   "cell_type": "code",
   "execution_count": null,
   "id": "1bf17315",
   "metadata": {},
   "outputs": [],
   "source": []
  },
  {
   "cell_type": "code",
   "execution_count": null,
   "id": "c3ba7e82",
   "metadata": {
    "scrolled": true
   },
   "outputs": [],
   "source": [
    "Soil_src = pd.read_csv('Soil_src.csv')\n",
    "Soil_src_subset = Soil_src.iloc[:, 2:215]#Subsetting from column 2-145(variables excluding lat-lon values)\n",
    "Soil_src_subset.set_axis(date_array, axis ='columns', inplace=True)\n",
    "Src = Soil_src_subset.multiply(1000)\n",
    "Src"
   ]
  },
  {
   "cell_type": "code",
   "execution_count": null,
   "id": "cd53a1bd",
   "metadata": {},
   "outputs": [],
   "source": [
    "Soil_swl1 = pd.read_csv('Soil_swl1.csv')\n",
    "Soil_swl1_subset = Soil_swl1.iloc[:, 2:215]#Subsetting from column 2-145(variables excluding lat-lon values)\n",
    "Soil_swl1_subset.set_axis(date_array, axis ='columns', inplace=True)\n",
    "Swl1 = Soil_swl1_subset.multiply(70) #Volume of water in soil layer 1 (0 - 7 cm) \n",
    "Swl1"
   ]
  },
  {
   "cell_type": "code",
   "execution_count": null,
   "id": "ce22fabd",
   "metadata": {},
   "outputs": [],
   "source": [
    "Soil_swl2 = pd.read_csv('Soil_swl2.csv')\n",
    "Soil_swl2_subset = Soil_swl2.iloc[:, 2:215]#Subsetting from column 2-145(variables excluding lat-lon values)\n",
    "Soil_swl2_subset.set_axis(date_array, axis ='columns', inplace=True)\n",
    "Swl2 = Soil_swl2_subset.multiply(210) #Volume of water in soil layer 2 (7 -28 cm) of the ECMWF Integrated Forecasting System.\n",
    "Swl2"
   ]
  },
  {
   "cell_type": "code",
   "execution_count": null,
   "id": "80cc0c5d",
   "metadata": {},
   "outputs": [],
   "source": [
    "Soil_swl3 = pd.read_csv('Soil_swl3.csv')\n",
    "Soil_swl3_subset = Soil_swl3.iloc[:, 2:215]#Subsetting from column 2-145(variables excluding lat-lon values)\n",
    "Soil_swl3_subset.set_axis(date_array, axis ='columns', inplace=True)\n",
    "Swl3 = Soil_swl3_subset.multiply(720)#Volume of water in soil layer 3 (28-100 cm) of the ECMWF Integrated Forecasting System.\n",
    "Swl3"
   ]
  },
  {
   "cell_type": "code",
   "execution_count": null,
   "id": "9a481317",
   "metadata": {},
   "outputs": [],
   "source": [
    "Soil_swl4 = pd.read_csv('Soil_swl4.csv')\n",
    "Soil_swl4_subset = Soil_swl4.iloc[:, 2:215]#Subsetting from column 2-145(variables excluding lat-lon values)\n",
    "Soil_swl4_subset.set_axis(date_array, axis ='columns', inplace=True)\n",
    "Swl4 = Soil_swl4_subset.multiply(1890)#Volume of water in soil layer 4 (100-289 cm) of the ECMWF Integrated Forecasting System.\n",
    "Swl4"
   ]
  },
  {
   "cell_type": "code",
   "execution_count": null,
   "id": "d0f60a60",
   "metadata": {},
   "outputs": [],
   "source": [
    "Total_soil = Src.add(Swl1, fill_value=0).add(Swl2,fill_value=0).add(Swl3, fill_value=0).add(Swl4,fill_value=0)\n",
    "Total_soil"
   ]
  },
  {
   "cell_type": "code",
   "execution_count": null,
   "id": "8c585c2e",
   "metadata": {},
   "outputs": [],
   "source": [
    "Total_soil\n",
    "Total_soil_with_coord = pd.concat([lat_lon_values.iloc[:, 0:2], Total_soil], axis=1)\n",
    "Total_soil_with_coord"
   ]
  },
  {
   "cell_type": "code",
   "execution_count": null,
   "id": "edd5b13c",
   "metadata": {},
   "outputs": [],
   "source": [
    "Total_soil_with_coord.to_csv('Total_soil_ERA5.csv', index=False)"
   ]
  },
  {
   "cell_type": "code",
   "execution_count": null,
   "id": "f4fadadf",
   "metadata": {},
   "outputs": [],
   "source": [
    "Total_Soil_Snow_Surface = Total_soil.add(SWE, fill_value=0).add(SWA,fill_value=0)"
   ]
  },
  {
   "cell_type": "code",
   "execution_count": null,
   "id": "e15d07b7",
   "metadata": {},
   "outputs": [],
   "source": [
    "Total_Soil_Snow_Surface"
   ]
  },
  {
   "cell_type": "code",
   "execution_count": null,
   "id": "39412f94",
   "metadata": {},
   "outputs": [],
   "source": [
    "lat_lon_values = Surface_water.iloc[:, 0:2]"
   ]
  },
  {
   "cell_type": "code",
   "execution_count": null,
   "id": "2139da9d",
   "metadata": {},
   "outputs": [],
   "source": [
    "lat_lon_values"
   ]
  },
  {
   "cell_type": "code",
   "execution_count": null,
   "id": "a450d2e1",
   "metadata": {},
   "outputs": [],
   "source": []
  },
  {
   "cell_type": "code",
   "execution_count": null,
   "id": "bf729982",
   "metadata": {},
   "outputs": [],
   "source": [
    "Total_Soil_Snow_Surface = pd.concat([lat_lon_values.iloc[:, 0:2], Total_Soil_Snow_Surface], axis=1)"
   ]
  },
  {
   "cell_type": "code",
   "execution_count": null,
   "id": "d1b25689",
   "metadata": {},
   "outputs": [],
   "source": [
    "Total_Soil_Snow_Surface.columns =  Total_Soil_Snow_Surface.columns.astype(str)#CONVERTED THE COLUMS TO STRING FROM DATE FORMAT, ELSE THIS WOULD NOT HAVE WORKED."
   ]
  },
  {
   "cell_type": "code",
   "execution_count": null,
   "id": "fa563ce9",
   "metadata": {},
   "outputs": [],
   "source": [
    "Total_Soil_Snow_Surface"
   ]
  },
  {
   "cell_type": "code",
   "execution_count": null,
   "id": "8ffb569b",
   "metadata": {},
   "outputs": [],
   "source": []
  },
  {
   "cell_type": "code",
   "execution_count": null,
   "id": "4840fb86",
   "metadata": {},
   "outputs": [],
   "source": [
    "#=================HYDROLOGICAL BALANCING PROPER ΔTWS=ΔSM+ΔSWE+ΔSWA+ΔGWS ================================================="
   ]
  },
  {
   "cell_type": "code",
   "execution_count": null,
   "id": "1f7c59e6",
   "metadata": {},
   "outputs": [],
   "source": [
    "TWS= pd.read_csv('lwe_thickness_retimed.csv')\n",
    "TWS"
   ]
  },
  {
   "cell_type": "code",
   "execution_count": null,
   "id": "925f1120",
   "metadata": {
    "scrolled": true
   },
   "outputs": [],
   "source": [
    "TWS_mm = TWS.multiply(10)\n",
    "TWS_mm\n"
   ]
  },
  {
   "cell_type": "code",
   "execution_count": null,
   "id": "199d4a2f",
   "metadata": {},
   "outputs": [],
   "source": [
    "GWS = TWS_mm.subtract(Total_Soil_Snow_Surface, fill_value=0)"
   ]
  },
  {
   "cell_type": "code",
   "execution_count": null,
   "id": "2009a4f8",
   "metadata": {},
   "outputs": [],
   "source": [
    "GWS = GWS.drop(columns=['lat', 'lon']) #I dropped the latitude and longitude values because the substraction affected the values\n",
    "GWS"
   ]
  },
  {
   "cell_type": "code",
   "execution_count": null,
   "id": "7da7ba58",
   "metadata": {},
   "outputs": [],
   "source": [
    "GWS = pd.concat([lat_lon_values, GWS], axis=1) #Added fresh Lat-Long values to the GWS Series"
   ]
  },
  {
   "cell_type": "code",
   "execution_count": null,
   "id": "ed687cf3",
   "metadata": {},
   "outputs": [],
   "source": [
    "GWS"
   ]
  },
  {
   "cell_type": "code",
   "execution_count": null,
   "id": "a1621a5f",
   "metadata": {},
   "outputs": [],
   "source": [
    "GWS.to_csv('GWS.csv', index=False)"
   ]
  },
  {
   "cell_type": "code",
   "execution_count": null,
   "id": "e3b7217f",
   "metadata": {},
   "outputs": [],
   "source": []
  },
  {
   "cell_type": "code",
   "execution_count": null,
   "id": "3f1a44f7",
   "metadata": {},
   "outputs": [],
   "source": [
    "#=================HYDROLOGICAL BALANCING ΔTWS=ΔSWE+ΔSWA+ΔGWS (No soil moisture)=============================================="
   ]
  },
  {
   "cell_type": "code",
   "execution_count": null,
   "id": "77d6058e",
   "metadata": {},
   "outputs": [],
   "source": [
    "TWS= pd.read_csv('lwe_thickness_retimed.csv')\n",
    "TWS"
   ]
  },
  {
   "cell_type": "code",
   "execution_count": null,
   "id": "52e43a30",
   "metadata": {},
   "outputs": [],
   "source": [
    "TWS_mm = TWS.multiply(10) #converting from centimeter to millimeter\n",
    "TWS_mm"
   ]
  },
  {
   "cell_type": "code",
   "execution_count": null,
   "id": "ea22d8ec",
   "metadata": {
    "scrolled": true
   },
   "outputs": [],
   "source": [
    "SWE_SWA = SWE.add(SWA,fill_value=0)\n",
    "SWE_SWA = pd.concat([lat_lon_values.iloc[:, 0:2], SWE_SWA], axis=1)\n",
    "SWE_SWA.columns =SWE_SWA.columns.astype(str)#CONVERTED THE COLUMS TO STRING FROM DATE FORMAT, ELSE THIS WOULD NOT HAVE WORKED.\n",
    "SWE_SWA"
   ]
  },
  {
   "cell_type": "code",
   "execution_count": null,
   "id": "33d35de8",
   "metadata": {},
   "outputs": [],
   "source": [
    "GWS_no_soil = TWS_mm.subtract(SWE_SWA, fill_value=0)\n",
    "GWS_no_soil"
   ]
  },
  {
   "cell_type": "code",
   "execution_count": null,
   "id": "31a84224",
   "metadata": {},
   "outputs": [],
   "source": [
    "GWS_no_soil = GWS_no_soil.drop(columns=['lat', 'lon']) #I dropped the latitude and longitude values because the substraction affected the values"
   ]
  },
  {
   "cell_type": "code",
   "execution_count": null,
   "id": "a724b2c2",
   "metadata": {},
   "outputs": [],
   "source": [
    "GWS_no_soil = pd.concat([lat_lon_values, GWS_no_soil], axis=1) #Added fresh Lat-Long values to the GWS Series"
   ]
  },
  {
   "cell_type": "code",
   "execution_count": null,
   "id": "9acefe32",
   "metadata": {},
   "outputs": [],
   "source": [
    "GWS_no_soil"
   ]
  },
  {
   "cell_type": "code",
   "execution_count": null,
   "id": "b436615c",
   "metadata": {},
   "outputs": [],
   "source": [
    "GWS_no_soil.to_csv('GWS_no_soil.csv', index=False)"
   ]
  }
 ],
 "metadata": {
  "kernelspec": {
   "display_name": "Python 3 (ipykernel)",
   "language": "python",
   "name": "python3"
  },
  "language_info": {
   "codemirror_mode": {
    "name": "ipython",
    "version": 3
   },
   "file_extension": ".py",
   "mimetype": "text/x-python",
   "name": "python",
   "nbconvert_exporter": "python",
   "pygments_lexer": "ipython3",
   "version": "3.9.13"
  }
 },
 "nbformat": 4,
 "nbformat_minor": 5
}
