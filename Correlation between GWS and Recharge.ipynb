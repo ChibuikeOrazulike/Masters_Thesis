{
 "cells": [
  {
   "cell_type": "code",
   "execution_count": null,
   "id": "b1e0d85a",
   "metadata": {},
   "outputs": [],
   "source": [
    "import pandas as pd\n",
    "import numpy as np\n",
    "import matplotlib.pyplot as plt\n",
    "import cartopy.crs as ccrs\n",
    "import cartopy.feature as cfeature\n",
    "import geopandas as gpd\n",
    "import numpy as np\n",
    "import matplotlib.colors as mcolors\n",
    "from matplotlib.cm import ScalarMappable\n",
    "from scipy.stats import spearmanr\n",
    "from matplotlib.patches import PathPatch\n",
    "from matplotlib.path import Path\n",
    "from shapely.geometry import Polygon, MultiPolygon\n",
    "import matplotlib.patches as patches\n",
    "import matplotlib.lines as mlines"
   ]
  },
  {
   "cell_type": "code",
   "execution_count": null,
   "id": "5f1d61fe",
   "metadata": {},
   "outputs": [],
   "source": [
    "#==========================================USING THE SPEARMANS RANK CORRELATION COEFFICIENT==================================#"
   ]
  },
  {
   "cell_type": "code",
   "execution_count": null,
   "id": "10a10803",
   "metadata": {},
   "outputs": [],
   "source": [
    "A = pd.read_csv('GWS.csv')\n"
   ]
  },
  {
   "cell_type": "code",
   "execution_count": null,
   "id": "3acd5bfd",
   "metadata": {},
   "outputs": [],
   "source": [
    "# Loaded data frames (replace 'data1.csv' and 'data2.csv' with your file paths)\n",
    "df1 = pd.read_csv('GWS.csv')\n",
    "df2 = pd.read_csv('recharge_with_coord.csv')\n",
    "#df2.iloc[:, 2:] = df2.iloc[:, 2:] * 10 #tried to assume that the value of the recharge is in millimeter\n"
   ]
  },
  {
   "cell_type": "code",
   "execution_count": null,
   "id": "4331c608",
   "metadata": {},
   "outputs": [],
   "source": [
    "# Created an empty DataFrame to store the results\n",
    "correlation_df = pd.DataFrame(columns=['latitude', 'longitude', 'correlation', 'p_value'])"
   ]
  },
  {
   "cell_type": "code",
   "execution_count": null,
   "id": "72dcbf34",
   "metadata": {},
   "outputs": [],
   "source": [
    "# Looped through each row and compute the correlation\n",
    "for index, row in df1.iterrows():\n",
    "    lat = row['lat']\n",
    "    lon = row['lon']\n",
    "    \n",
    "    # Extracted time series from both data frames\n",
    "    ts1 = row[2:]\n",
    "    ts2 = df2.iloc[index, 2:]\n",
    "    \n",
    "    # Computed the Spearman rank correlation coefficient and p-value\n",
    "    corr, p_value = spearmanr(ts1, ts2)\n",
    "    \n",
    "    # Appended the result to the correlation data frame\n",
    "    correlation_df = correlation_df.append({'latitude': lat, 'longitude': lon, 'correlation': corr, 'p_value': p_value}, ignore_index=True)\n",
    "\n",
    "# View edthe correlation_df\n",
    "print(correlation_df)"
   ]
  },
  {
   "cell_type": "code",
   "execution_count": null,
   "id": "03f2ca35",
   "metadata": {},
   "outputs": [],
   "source": [
    "A = correlation_df['correlation'].idxmin()"
   ]
  },
  {
   "cell_type": "code",
   "execution_count": null,
   "id": "8d2b58e2",
   "metadata": {},
   "outputs": [],
   "source": [
    "# Function to add a scalebar\n",
    "def add_scalebar(ax, length, location=(0.5, 0.05), linewidth=4):\n",
    "    llx0, llx1, lly0, lly1 = ax.get_extent(ccrs.PlateCarree())\n",
    "    sbllx = (llx1 + llx0) / 2\n",
    "    sblly = lly0 + (lly1 - lly0) * location[1]\n",
    "    tmc = ccrs.TransverseMercator(sbllx, sblly)\n",
    "    x0, x1, y0, y1 = ax.get_extent(tmc)\n",
    "    sbx = x0 + (x1 - x0) * location[0]\n",
    "    sby = y0 + (y1 - y0) * location[1]\n",
    "    bar_xs = [sbx - length * 500, sbx + length * 500]\n",
    "    ax.plot(bar_xs, [sby, sby], transform=tmc, color='k', linewidth=linewidth)\n",
    "    ax.text(sbx, sby, str(length) + ' km', transform=tmc,\n",
    "            horizontalalignment='center', verticalalignment='bottom')\n",
    "\n",
    "cmap = mcolors.ListedColormap(['darkred', 'green', 'steelblue', 'yellow'])\n",
    "bounds = [-1, -0.6, 0, 0.6, 1]\n",
    "norm = mcolors.BoundaryNorm(bounds, cmap.N)\n",
    "\n",
    "correlation_df['color'] = np.select(\n",
    "    [correlation_df['correlation'] <= -0.6,\n",
    "     (correlation_df['correlation'] > -0.6) & (correlation_df['correlation'] < 0),\n",
    "     (correlation_df['correlation'] >= 0) & (correlation_df['correlation'] < 0.6),\n",
    "     correlation_df['correlation'] >= 0.6],\n",
    "    ['darkred', 'green', 'steelblue', 'yellow'])\n",
    "\n",
    "fig = plt.figure(figsize=(15, 15))\n",
    "ax = fig.add_subplot(1, 1, 1, projection=ccrs.PlateCarree())\n",
    "\n",
    "gdf = gpd.read_file('study_extent.shp')\n",
    "\n",
    "for geometry in gdf['geometry']:\n",
    "    if isinstance(geometry, Polygon):\n",
    "        x, y = geometry.exterior.coords.xy\n",
    "        ax.add_patch(PathPatch(Path(list(zip(x, y))), fill=None, edgecolor='k', linewidth=5))\n",
    "    elif isinstance(geometry, MultiPolygon):\n",
    "        for subgeometry in geometry:\n",
    "            x, y = subgeometry.exterior.coords.xy\n",
    "            ax.add_patch(PathPatch(Path(list(zip(x, y))), fill=None, edgecolor='k', linewidth=5))\n",
    "\n",
    "ax.add_feature(cfeature.COASTLINE)\n",
    "ax.add_feature(cfeature.BORDERS, linestyle=':')\n",
    "ax.gridlines(draw_labels=True, linestyle='--')\n",
    "\n",
    "sc = ax.scatter(correlation_df['longitude'], correlation_df['latitude'], c=correlation_df['color'],\n",
    "                marker='s', s=30, edgecolor=correlation_df['color'], transform=ccrs.PlateCarree())\n",
    "\n",
    "# Created a ScalarMappable object for the colorbar\n",
    "sm = ScalarMappable(cmap=cmap, norm=norm)\n",
    "sm.set_array([])  # You need to set an empty array for the ScalarMappable object\n",
    "\n",
    "cbar = plt.colorbar(sm, orientation='horizontal', shrink=0.5, ticks=[-0.8, -0.3, 0.3, 0.8], pad=0.05)\n",
    "cbar.set_label('Correlation Coefficient', fontsize=15)\n",
    "cbar.set_ticklabels(['< -0.6', '-0.6 to 0', '0 to 0.6', '> 0.6'])\n",
    "\n",
    "ax.set_extent([-10, 49, 25.5, 49])\n",
    "\n",
    "add_scalebar(ax, 500)\n",
    "\n",
    "arrow_x, arrow_y = 0.97, .9\n",
    "ax.text(arrow_x, arrow_y, u'\\u25B2\\nN', transform=ax.transAxes, ha='center', va='bottom', fontsize=32, fontweight='bold')\n",
    "\n",
    "plt.title('Spatial Correlation between Groundwater Storage and Recharge \\n GWS (without soil moisture-ERA5-Land)', fontsize=20, pad =20)\n",
    "plt.show()"
   ]
  },
  {
   "cell_type": "code",
   "execution_count": null,
   "id": "e3fb912b",
   "metadata": {},
   "outputs": [],
   "source": [
    "corr_value = -0.83\n",
    "correlation_df_subset = correlation_df[correlation_df['correlation'] < corr_value]\n",
    "correlation_df_subset"
   ]
  },
  {
   "cell_type": "code",
   "execution_count": null,
   "id": "d4737e51",
   "metadata": {},
   "outputs": [],
   "source": [
    "W = (correlation_df['correlation'] <= -0.6).sum()\n",
    "X = ((correlation_df['correlation'] > -0.6) & (correlation_df['correlation'] < 0)).sum()\n",
    "Y = ((correlation_df['correlation'] >= 0) & (correlation_df['correlation'] < 0.6)).sum()\n",
    "Z = (correlation_df['correlation'] >= 0.6).sum()\n",
    "\n",
    "print(W, X, Y, Z)"
   ]
  },
  {
   "cell_type": "code",
   "execution_count": null,
   "id": "74b8d1fb",
   "metadata": {},
   "outputs": [],
   "source": [
    "data1 = df1.iloc[:, 3:]\n",
    "data2 = df2.iloc[:, 3:]\n",
    "\n",
    "# Transposed the DataFrames so that the time component becomes the index\n",
    "data1 = data1.T\n",
    "data2 = data2.T\n",
    "\n",
    "# Converted the index of each DataFrame to a proper datetime format\n",
    "data1.index = pd.to_datetime(data1.index)\n",
    "data2.index = pd.to_datetime(data2.index)\n",
    "\n",
    "# Created a figure object and add two axes to it\n",
    "fig, ax1 = plt.subplots()\n",
    "ax2 = ax1.twinx()\n",
    "\n",
    "#Specified the axis\n",
    "index = A\n",
    "\n",
    "# Plotted the two time series on separate axes\n",
    "ax1.plot(data1.iloc[:, index], label='GWS', color='b')\n",
    "ax2.plot(data2.iloc[:, index], label='Recharge', color='r')\n",
    "\n",
    "# Added axis labels and title\n",
    "ax1.set_xlabel('Time')\n",
    "ax1.set_ylabel('GWS (mm)', color='b')\n",
    "ax2.set_ylabel('Recharge (mm)', color='r')\n",
    "plt.title('Maximum negative correlation (-0.83) between GWS (without soil moisture) and recharge lat = 39.875 and lon = 20.375', fontsize=10)\n",
    "\n",
    "# Added a legend and display the plot\n",
    "ax1.legend(loc='upper left')\n",
    "ax2.legend(loc='upper right')\n",
    "plt.show()\n"
   ]
  },
  {
   "cell_type": "code",
   "execution_count": null,
   "id": "f00fd661",
   "metadata": {},
   "outputs": [],
   "source": []
  },
  {
   "cell_type": "code",
   "execution_count": null,
   "id": "896ec402",
   "metadata": {},
   "outputs": [],
   "source": [
    "#=============================Spearman's Rank Correlation where the soil is not considered===================================================="
   ]
  },
  {
   "cell_type": "code",
   "execution_count": null,
   "id": "2a1a9267",
   "metadata": {},
   "outputs": [],
   "source": [
    "# Loaded data frames (replace 'data1.csv' and 'data2.csv' with your file paths)\n",
    "df1 = pd.read_csv('GWS_no_soil.csv')\n",
    "df2 = pd.read_csv('recharge_with_coord.csv')\n",
    "#df2.iloc[:, 2:] = df2.iloc[:, 2:] * 10 #tried to assume that the value of the recharge is in millimeter\n"
   ]
  },
  {
   "cell_type": "code",
   "execution_count": null,
   "id": "a9ec89a1",
   "metadata": {},
   "outputs": [],
   "source": [
    "# Initialized a new data frame to store the correlation coefficients\n",
    "correlation_df = pd.DataFrame(columns=['latitude', 'longitude', 'correlation', 'p_value'])"
   ]
  },
  {
   "cell_type": "code",
   "execution_count": null,
   "id": "b7e1cecb",
   "metadata": {},
   "outputs": [],
   "source": [
    "# Looped through each row and compute the correlation\n",
    "for index, row in df1.iterrows():\n",
    "    lat = row['lat']\n",
    "    lon = row['lon']\n",
    "    \n",
    "    # Extracted time series from both data frames\n",
    "    ts1 = row[2:]\n",
    "    ts2 = df2.iloc[index, 2:]\n",
    "    \n",
    "    # Computed the Spearman rank correlation coefficient and p-value\n",
    "    corr, p_value = spearmanr(ts1, ts2)\n",
    "    \n",
    "    # Appended the result to the correlation data frame\n",
    "    correlation_df = correlation_df.append({'latitude': lat, 'longitude': lon, 'correlation': corr, 'p_value': p_value}, ignore_index=True)\n",
    "\n",
    "# Viewed the correlation_df\n",
    "print(correlation_df)"
   ]
  },
  {
   "cell_type": "code",
   "execution_count": null,
   "id": "6af495f6",
   "metadata": {},
   "outputs": [],
   "source": [
    "correlation_df"
   ]
  },
  {
   "cell_type": "code",
   "execution_count": null,
   "id": "750dcf40",
   "metadata": {},
   "outputs": [],
   "source": [
    "A = correlation_df['correlation'].idxmax()\n",
    "A"
   ]
  },
  {
   "cell_type": "code",
   "execution_count": null,
   "id": "b5b502cc",
   "metadata": {
    "scrolled": false
   },
   "outputs": [],
   "source": [
    "# Function to add a scalebar\n",
    "def add_scalebar(ax, length, location=(0.5, 0.05), linewidth=4):\n",
    "    llx0, llx1, lly0, lly1 = ax.get_extent(ccrs.PlateCarree())\n",
    "    sbllx = (llx1 + llx0) / 2\n",
    "    sblly = lly0 + (lly1 - lly0) * location[1]\n",
    "    tmc = ccrs.TransverseMercator(sbllx, sblly)\n",
    "    x0, x1, y0, y1 = ax.get_extent(tmc)\n",
    "    sbx = x0 + (x1 - x0) * location[0]\n",
    "    sby = y0 + (y1 - y0) * location[1]\n",
    "    bar_xs = [sbx - length * 500, sbx + length * 500]\n",
    "    ax.plot(bar_xs, [sby, sby], transform=tmc, color='k', linewidth=linewidth)\n",
    "    ax.text(sbx, sby, str(length) + ' km', transform=tmc,\n",
    "            horizontalalignment='center', verticalalignment='bottom')\n",
    "\n",
    "cmap = mcolors.ListedColormap(['darkred', 'green', 'steelblue', 'yellow'])\n",
    "bounds = [-1, -0.6, 0, 0.6, 1]\n",
    "norm = mcolors.BoundaryNorm(bounds, cmap.N)\n",
    "\n",
    "correlation_df['color'] = np.select(\n",
    "    [correlation_df['correlation'] <= -0.6,\n",
    "     (correlation_df['correlation'] > -0.6) & (correlation_df['correlation'] < 0),\n",
    "     (correlation_df['correlation'] >= 0) & (correlation_df['correlation'] < 0.6),\n",
    "     correlation_df['correlation'] >= 0.6],\n",
    "    ['darkred', 'green', 'steelblue', 'yellow'])\n",
    "\n",
    "fig = plt.figure(figsize=(15, 15))\n",
    "ax = fig.add_subplot(1, 1, 1, projection=ccrs.PlateCarree())\n",
    "\n",
    "gdf = gpd.read_file('study_extent.shp')\n",
    "\n",
    "for geometry in gdf['geometry']:\n",
    "    if isinstance(geometry, Polygon):\n",
    "        x, y = geometry.exterior.coords.xy\n",
    "        ax.add_patch(PathPatch(Path(list(zip(x, y))), fill=None, edgecolor='k', linewidth=5))\n",
    "    elif isinstance(geometry, MultiPolygon):\n",
    "        for subgeometry in geometry:\n",
    "            x, y = subgeometry.exterior.coords.xy\n",
    "            ax.add_patch(PathPatch(Path(list(zip(x, y))), fill=None, edgecolor='k', linewidth=5))\n",
    "\n",
    "ax.add_feature(cfeature.COASTLINE)\n",
    "ax.add_feature(cfeature.BORDERS, linestyle=':')\n",
    "ax.gridlines(draw_labels=True, linestyle='--')\n",
    "\n",
    "sc = ax.scatter(correlation_df['longitude'], correlation_df['latitude'], c=correlation_df['color'],\n",
    "                marker='s', s=30, edgecolor=correlation_df['color'], transform=ccrs.PlateCarree())\n",
    "\n",
    "# Create a ScalarMappable object for the colorbar\n",
    "sm = ScalarMappable(cmap=cmap, norm=norm)\n",
    "sm.set_array([])  # You need to set an empty array for the ScalarMappable object\n",
    "\n",
    "cbar = plt.colorbar(sm, orientation='horizontal', shrink=0.5, ticks=[-0.8, -0.3, 0.3, 0.8], pad=0.05)\n",
    "cbar.set_label('Correlation Coefficient', fontsize=15)\n",
    "cbar.set_ticklabels(['< -0.6', '-0.6 to 0', '0 to 0.6', '> 0.6'])\n",
    "\n",
    "ax.set_extent([-10, 49, 25.5, 49])\n",
    "\n",
    "add_scalebar(ax, 500)\n",
    "\n",
    "arrow_x, arrow_y = 0.97, .9\n",
    "ax.text(arrow_x, arrow_y, u'\\u25B2\\nN', transform=ax.transAxes, ha='center', va='bottom', fontsize=32, fontweight='bold')\n",
    "\n",
    "plt.title('Spatial Correlation between Groundwater Storage and Recharge \\n GWS (including soil moisture-ERA5-Land)', fontsize=20, pad =20)\n",
    "plt.show()"
   ]
  },
  {
   "cell_type": "code",
   "execution_count": null,
   "id": "1d07526f",
   "metadata": {
    "scrolled": false
   },
   "outputs": [],
   "source": [
    "corr_value = 0.78\n",
    "correlation_df_subset = correlation_df[correlation_df['correlation'] > corr_value]\n",
    "correlation_df_subset"
   ]
  },
  {
   "cell_type": "code",
   "execution_count": null,
   "id": "460f8c0a",
   "metadata": {},
   "outputs": [],
   "source": [
    "W = (correlation_df['correlation'] <= -0.6).sum()\n",
    "X = ((correlation_df['correlation'] > -0.6) & (correlation_df['correlation'] <= 0)).sum()\n",
    "Y = ((correlation_df['correlation'] > 0) & (correlation_df['correlation'] < 0.6)).sum()\n",
    "Z = (correlation_df['correlation'] >= 0.6).sum()\n",
    "\n",
    "print(W, X, Y, Z)"
   ]
  },
  {
   "cell_type": "code",
   "execution_count": null,
   "id": "79b8b609",
   "metadata": {},
   "outputs": [],
   "source": [
    "# Plotted the correlation coefficients on a map\n",
    "fig = plt.figure(figsize=(15, 15))\n",
    "ax = fig.add_subplot(1, 1, 1, projection=ccrs.PlateCarree())\n",
    "\n",
    "# Added geographical features\n",
    "ax.add_feature(cfeature.COASTLINE)\n",
    "ax.add_feature(cfeature.BORDERS, linestyle=':')\n",
    "ax.gridlines(draw_labels=True, linestyle='--')\n",
    "\n",
    "# Defined custom colormap and normalization function\n",
    "cmap = mcolors.ListedColormap(['red', 'blue'])\n",
    "norm = mcolors.BoundaryNorm([0, 0.05, 1], cmap.N)\n",
    "\n",
    "# Determined the colors for each point based on the p_value column\n",
    "colors = cmap(norm(correlation_df['p_value'].values))\n",
    "\n",
    "# Plotted the correlation coefficients as scatter points with the same edgecolor as the points\n",
    "sc = ax.scatter(correlation_df['longitude'], correlation_df['latitude'], c=correlation_df['p_value'],\n",
    "                cmap=cmap, norm=norm, marker='o', s=100, edgecolor=colors, linewidth=1, transform=ccrs.PlateCarree())\n",
    "\n",
    "# Added a colorbar\n",
    "cbar = plt.colorbar(sc, orientation='horizontal', shrink=0.5, ticks=[0.025, 0.525])\n",
    "cbar.set_label('P-value')\n",
    "cbar.ax.set_xticklabels(['< 0.05', '> 0.05'])\n",
    "\n",
    "# Set map extent (optional)\n",
    "ax.set_extent([-11, 48, 27, 51])\n",
    "\n",
    "plt.title('Level of Significance of Correlation between Groundwater Storage and Recharge')\n",
    "plt.show()"
   ]
  },
  {
   "cell_type": "code",
   "execution_count": null,
   "id": "1721f27b",
   "metadata": {
    "scrolled": false
   },
   "outputs": [],
   "source": [
    "data1 = df1.iloc[:, 3:]\n",
    "data2 = df2.iloc[:, 3:]\n",
    "\n",
    "# Transposed the DataFrames so that the time component becomes the index\n",
    "data1 = data1.T\n",
    "data2 = data2.T\n",
    "\n",
    "# Converted the index of each DataFrame to a proper datetime format\n",
    "data1.index = pd.to_datetime(data1.index)\n",
    "data2.index = pd.to_datetime(data2.index)\n",
    "\n",
    "# Create a figure object and add two axes to it\n",
    "fig, ax1 = plt.subplots(figsize=(10, 6))\n",
    "ax2 = ax1.twinx()\n",
    "\n",
    "#Specified the axis\n",
    "index = A\n",
    "\n",
    "# Plotted the two time series on separate axes\n",
    "ax1.plot(data1.iloc[:, index], label='GWS', color='b')\n",
    "ax2.plot(data2.iloc[:, index], label='Recharge', color='r')\n",
    "\n",
    "# Added axis labels and title\n",
    "ax1.set_xlabel('Time')\n",
    "ax1.set_ylabel('GWS (mm)', color='b')\n",
    "ax2.set_ylabel('Recharge (mm)', color='r')\n",
    "plt.title('Maximum positive correlation (0.78) between GWS (Including soil moisture) and recharge \\n lat = 44.125 and lon = -0.375', fontsize=10)\n",
    "\n",
    "# Added a legend and display the plot\n",
    "ax1.legend(loc='upper left')\n",
    "ax2.legend(loc='upper right')\n",
    "plt.show()\n"
   ]
  },
  {
   "cell_type": "code",
   "execution_count": null,
   "id": "7ab1c999",
   "metadata": {},
   "outputs": [],
   "source": []
  }
 ],
 "metadata": {
  "kernelspec": {
   "display_name": "Python 3 (ipykernel)",
   "language": "python",
   "name": "python3"
  },
  "language_info": {
   "codemirror_mode": {
    "name": "ipython",
    "version": 3
   },
   "file_extension": ".py",
   "mimetype": "text/x-python",
   "name": "python",
   "nbconvert_exporter": "python",
   "pygments_lexer": "ipython3",
   "version": "3.9.13"
  }
 },
 "nbformat": 4,
 "nbformat_minor": 5
}
