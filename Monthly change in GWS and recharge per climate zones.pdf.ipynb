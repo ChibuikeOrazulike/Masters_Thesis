{
 "cells": [
  {
   "cell_type": "code",
   "execution_count": null,
   "id": "1f2113f6",
   "metadata": {},
   "outputs": [],
   "source": [
    "import pandas as pd\n",
    "import geopandas as gpd\n",
    "from shapely.geometry import Point"
   ]
  },
  {
   "cell_type": "code",
   "execution_count": null,
   "id": "3d1f13d0",
   "metadata": {},
   "outputs": [],
   "source": [
    "df = pd.read_csv('MonthlyStorageChange.csv')\n",
    "df"
   ]
  },
  {
   "cell_type": "code",
   "execution_count": null,
   "id": "435b1383",
   "metadata": {},
   "outputs": [],
   "source": [
    "# Converted DataFrame to GeoDataFrame\n",
    "geometry = [Point(xy) for xy in zip(df['lon'], df['lat'])]\n",
    "df = df.drop(['lon', 'lat'], axis=1)\n",
    "gdf = gpd.GeoDataFrame(df, geometry=geometry, crs=\"EPSG:4326\")  # Set the CRS to WGS84"
   ]
  },
  {
   "cell_type": "code",
   "execution_count": null,
   "id": "9ab618af",
   "metadata": {},
   "outputs": [],
   "source": [
    "# Loaded world shapefile\n",
    "world = gpd.read_file('world_koppen.shp')  # replace with your path\n",
    "world"
   ]
  },
  {
   "cell_type": "code",
   "execution_count": null,
   "id": "3df8d39c",
   "metadata": {},
   "outputs": [],
   "source": []
  },
  {
   "cell_type": "code",
   "execution_count": null,
   "id": "38c1f0ef",
   "metadata": {},
   "outputs": [],
   "source": [
    "# Made sure both GeoDataFrames are in the same CRS\n",
    "world = world.to_crs(gdf.crs)"
   ]
  },
  {
   "cell_type": "code",
   "execution_count": null,
   "id": "e04444c7",
   "metadata": {},
   "outputs": [],
   "source": [
    "# Performed a spatial join between points and polygons (here, climate zones)\n",
    "gdf_sjoined = gpd.sjoin(gdf, world, how=\"inner\", op=\"within\")"
   ]
  },
  {
   "cell_type": "code",
   "execution_count": null,
   "id": "bab6d7c6",
   "metadata": {},
   "outputs": [],
   "source": [
    "# Grouped by country and calculate the mean\n",
    "mean_ave_by_country = gdf_sjoined.groupby('climate')['Ave'].mean()  # replace 'name' with your climate zone column name"
   ]
  },
  {
   "cell_type": "code",
   "execution_count": null,
   "id": "707f1674",
   "metadata": {},
   "outputs": [],
   "source": [
    "# Converted Series to DataFrame\n",
    "mean_ave_df1 = mean_ave_by_country.reset_index()\n",
    "print(mean_ave_df1)"
   ]
  },
  {
   "cell_type": "code",
   "execution_count": null,
   "id": "8729a62d",
   "metadata": {},
   "outputs": [],
   "source": [
    "mean_ave_df1['Ave'].idxmax()\n"
   ]
  },
  {
   "cell_type": "code",
   "execution_count": null,
   "id": "ee6c41e9",
   "metadata": {
    "scrolled": false
   },
   "outputs": [],
   "source": [
    "import seaborn as sns\n",
    "import matplotlib.pyplot as plt\n",
    "\n",
    "# Set a theme\n",
    "sns.set_theme(style=\"whitegrid\")\n",
    "\n",
    "# Created a figure and axes\n",
    "fig, ax = plt.subplots(figsize=(15, 10))\n",
    "\n",
    "# Created the barplot with seaborn\n",
    "barplot = sns.barplot(x=\"Ave\", y=\"climate\", data=mean_ave_df, ax=ax)\n",
    "\n",
    "# Iterated over the bars and set the color manually\n",
    "for bar in barplot.patches:\n",
    "    if bar.get_width() < 0:\n",
    "        bar.set_color('darkred')  # use darkred for negative values\n",
    "    else:\n",
    "        bar.set_color('blue')  # use blue for positive values\n",
    "\n",
    "# Set grid\n",
    "ax.grid(True, which='both', color='black', linewidth=0.1)\n",
    "\n",
    "# Added labels and title\n",
    "ax.set_xlabel(\"Mean Ave (mm)\", fontsize=20)\n",
    "ax.set_ylabel(\"Country\", fontsize=20)\n",
    "ax.set_title(\"Mean Monthly Change in GWS(without soil moisture) Averaged per climate zone\", fontsize=25)\n",
    "\n",
    "# Set y-axis labels to bold\n",
    "for label in ax.get_yticklabels():\n",
    "    label.set_weight('bold')\n",
    "\n",
    "# Showed the plot\n",
    "plt.show()"
   ]
  },
  {
   "cell_type": "code",
   "execution_count": null,
   "id": "8cb8bb8f",
   "metadata": {},
   "outputs": [],
   "source": []
  },
  {
   "cell_type": "code",
   "execution_count": null,
   "id": "866e9833",
   "metadata": {},
   "outputs": [],
   "source": [
    "#◀◀◀◀◀◀◀◀◀◀◀◀◀◀◀◀◀◀◀◀◀◀◀◀◀◀◀◀GWS (INCLUDING SOIL MOISTURE)▶▶▶▶▶▶▶▶▶▶▶▶▶▶▶▶▶▶▶▶▶▶▶▶▶▶▶▶▶▶▶▶▶▶▶"
   ]
  },
  {
   "cell_type": "code",
   "execution_count": null,
   "id": "06b9129d",
   "metadata": {},
   "outputs": [],
   "source": [
    "df = pd.read_csv('MonthlyStorageChange_incl_soil.csv')\n",
    "df"
   ]
  },
  {
   "cell_type": "code",
   "execution_count": null,
   "id": "6f624a74",
   "metadata": {},
   "outputs": [],
   "source": [
    "# Converted DataFrame to GeoDataFrame\n",
    "geometry = [Point(xy) for xy in zip(df['lon'], df['lat'])]\n",
    "df = df.drop(['lon', 'lat'], axis=1)\n",
    "gdf = gpd.GeoDataFrame(df, geometry=geometry, crs=\"EPSG:4326\")  # Set the CRS to WGS84"
   ]
  },
  {
   "cell_type": "code",
   "execution_count": null,
   "id": "38ab6d18",
   "metadata": {},
   "outputs": [],
   "source": [
    "# Loaded world shapefile\n",
    "world = gpd.read_file('world_koppen.shp')  # replace with your path"
   ]
  },
  {
   "cell_type": "code",
   "execution_count": null,
   "id": "cdb1f078",
   "metadata": {},
   "outputs": [],
   "source": [
    "# Made sure both GeoDataFrames are in the same CRS\n",
    "world = world.to_crs(gdf.crs)"
   ]
  },
  {
   "cell_type": "code",
   "execution_count": null,
   "id": "0021238f",
   "metadata": {},
   "outputs": [],
   "source": [
    "# Performed a spatial join between points and polygons (here, countries)\n",
    "gdf_sjoined = gpd.sjoin(gdf, world, how=\"inner\", op=\"within\")"
   ]
  },
  {
   "cell_type": "code",
   "execution_count": null,
   "id": "7fd4aa19",
   "metadata": {},
   "outputs": [],
   "source": [
    "# Grouped by country and calculate the mean\n",
    "mean_ave_by_country = gdf_sjoined.groupby('climate')['Ave'].mean()  # replace 'name' with your country column name"
   ]
  },
  {
   "cell_type": "code",
   "execution_count": null,
   "id": "4f10aabb",
   "metadata": {},
   "outputs": [],
   "source": [
    "# Converted Series to DataFrame\n",
    "mean_ave_df2 = mean_ave_by_country.reset_index()\n",
    "print(mean_ave_df2)"
   ]
  },
  {
   "cell_type": "code",
   "execution_count": null,
   "id": "62f14009",
   "metadata": {},
   "outputs": [],
   "source": [
    "mean_ave_df2['Ave'].idxmax()\n"
   ]
  },
  {
   "cell_type": "code",
   "execution_count": null,
   "id": "5c03b2cc",
   "metadata": {
    "scrolled": false
   },
   "outputs": [],
   "source": [
    "import seaborn as sns\n",
    "import matplotlib.pyplot as plt\n",
    "\n",
    "# Set a theme\n",
    "sns.set_theme(style=\"whitegrid\")\n",
    "\n",
    "# Created a figure and axes\n",
    "fig, ax = plt.subplots(figsize=(15, 10))\n",
    "\n",
    "# Created the barplot with seaborn\n",
    "barplot = sns.barplot(x=\"Ave\", y=\"climate\", data=mean_ave_df2, ax=ax)\n",
    "\n",
    "# Iterated over the bars and set the color manually\n",
    "for bar in barplot.patches:\n",
    "    if bar.get_width() < 0:\n",
    "        bar.set_color('darkred')  # use darkred for negative values\n",
    "    else:\n",
    "        bar.set_color('blue')  # use blue for positive values\n",
    "\n",
    "# Set grid\n",
    "ax.grid(True, which='both', color='black', linewidth=0.1)\n",
    "\n",
    "# Added labels and title\n",
    "ax.set_xlabel(\"Mean Ave (mm)\", fontsize=20)\n",
    "ax.set_ylabel(\"Country\", fontsize=20)\n",
    "ax.set_title(\"Mean Monthly Change in GWS(including soil moisture) Averaged per climate zone\", fontsize=25)\n",
    "\n",
    "# Set y-axis labels to bold\n",
    "for label in ax.get_yticklabels():\n",
    "    label.set_weight('bold')\n",
    "\n",
    "# Showed the plot\n",
    "plt.show()"
   ]
  },
  {
   "cell_type": "code",
   "execution_count": null,
   "id": "40e4f805",
   "metadata": {},
   "outputs": [],
   "source": []
  },
  {
   "cell_type": "code",
   "execution_count": null,
   "id": "54284442",
   "metadata": {},
   "outputs": [],
   "source": [
    "#◀◀◀◀◀◀◀◀◀◀◀◀◀◀◀◀◀◀◀◀◀◀◀◀◀◀◀◀RECHARGE▶▶▶▶▶▶▶▶▶▶▶▶▶▶▶▶▶▶▶▶▶▶▶▶▶▶▶▶▶▶▶▶▶▶▶"
   ]
  },
  {
   "cell_type": "code",
   "execution_count": null,
   "id": "704e5d7d",
   "metadata": {},
   "outputs": [],
   "source": [
    "df = pd.read_csv('MonthlyStorageChange_Recharge.csv')\n",
    "df"
   ]
  },
  {
   "cell_type": "code",
   "execution_count": null,
   "id": "918a443a",
   "metadata": {},
   "outputs": [],
   "source": [
    "# Converted DataFrame to GeoDataFrame\n",
    "geometry = [Point(xy) for xy in zip(df['lon'], df['lat'])]\n",
    "df = df.drop(['lon', 'lat'], axis=1)\n",
    "gdf = gpd.GeoDataFrame(df, geometry=geometry, crs=\"EPSG:4326\")  # Set the CRS to WGS84"
   ]
  },
  {
   "cell_type": "code",
   "execution_count": null,
   "id": "2261bab2",
   "metadata": {},
   "outputs": [],
   "source": [
    "# Loaded world shapefile\n",
    "world = gpd.read_file('world_koppen.shp')  # replace with your path"
   ]
  },
  {
   "cell_type": "code",
   "execution_count": null,
   "id": "d0830b84",
   "metadata": {},
   "outputs": [],
   "source": [
    "# Made sure both GeoDataFrames are in the same CRS\n",
    "world = world.to_crs(gdf.crs)"
   ]
  },
  {
   "cell_type": "code",
   "execution_count": null,
   "id": "00d3c78a",
   "metadata": {},
   "outputs": [],
   "source": [
    "# Performed a spatial join between points and polygons (here, countries)\n",
    "gdf_sjoined = gpd.sjoin(gdf, world, how=\"inner\", op=\"within\")"
   ]
  },
  {
   "cell_type": "code",
   "execution_count": null,
   "id": "0cb6990f",
   "metadata": {},
   "outputs": [],
   "source": [
    "# Grouped by country and calculate the mean\n",
    "mean_ave_by_country = gdf_sjoined.groupby('climate')['Ave'].mean()  # replace 'name' with your country column name"
   ]
  },
  {
   "cell_type": "code",
   "execution_count": null,
   "id": "51a34080",
   "metadata": {},
   "outputs": [],
   "source": [
    "# Converted Series to DataFrame\n",
    "mean_ave_df3 = mean_ave_by_country.reset_index()\n",
    "print(mean_ave_df3)"
   ]
  },
  {
   "cell_type": "code",
   "execution_count": null,
   "id": "dfa1001b",
   "metadata": {},
   "outputs": [],
   "source": [
    "mean_ave_df3['Ave'].idxmax()\n"
   ]
  },
  {
   "cell_type": "code",
   "execution_count": null,
   "id": "dbfb6a5a",
   "metadata": {
    "scrolled": false
   },
   "outputs": [],
   "source": [
    "import seaborn as sns\n",
    "import matplotlib.pyplot as plt\n",
    "\n",
    "# Set a theme\n",
    "sns.set_theme(style=\"whitegrid\")\n",
    "\n",
    "# Created a figure and axes\n",
    "fig, ax = plt.subplots(figsize=(15, 10))\n",
    "\n",
    "# Created the barplot with seaborn\n",
    "barplot = sns.barplot(x=\"Ave\", y=\"climate\", data=mean_ave_df3, ax=ax)\n",
    "\n",
    "# Iterated over the bars and set the color manually\n",
    "for bar in barplot.patches:\n",
    "    if bar.get_width() < 0:\n",
    "        bar.set_color('darkred')  # use darkred for negative values\n",
    "    else:\n",
    "        bar.set_color('blue')  # use blue for positive values\n",
    "\n",
    "# Set grid\n",
    "ax.grid(True, which='both', color='black', linewidth=0.1)\n",
    "\n",
    "# Added labels and title\n",
    "ax.set_xlabel(\"Mean Ave (mm)\", fontsize=20)\n",
    "ax.set_ylabel(\"Country\", fontsize=20)\n",
    "ax.set_title(\"Mean Monthly Change in Recharge Averaged per climate zone\", fontsize=25)\n",
    "\n",
    "# Set y-axis labels to bold\n",
    "for label in ax.get_yticklabels():\n",
    "    label.set_weight('bold')\n",
    "\n",
    "# Showed the plot\n",
    "plt.show()"
   ]
  },
  {
   "cell_type": "code",
   "execution_count": null,
   "id": "ef05475e",
   "metadata": {},
   "outputs": [],
   "source": [
    "Stor1_Rech = mean_ave_df1\n",
    "Stor1_Rech['Rech'] = mean_ave_df3['Ave']\n",
    "Stor1_Rech"
   ]
  },
  {
   "cell_type": "code",
   "execution_count": null,
   "id": "09a52877",
   "metadata": {},
   "outputs": [],
   "source": [
    "import seaborn as sns\n",
    "import matplotlib.pyplot as plt\n",
    "import matplotlib.patches as mpatches\n",
    "\n",
    "# Set a theme\n",
    "sns.set_theme(style=\"whitegrid\")\n",
    "\n",
    "# Created a figure and axes\n",
    "fig, ax = plt.subplots(figsize=(15, 10))\n",
    "\n",
    "# Created the barplot with seaborn for 'Ave' column\n",
    "barplot1 = sns.barplot(x=\"Ave\", y=\"climate\", data=Stor1_Rech, ax=ax, color='purple')\n",
    "\n",
    "# Created the barplot with seaborn for 'rech' column - make sure to replace 'rech' with your actual column name\n",
    "barplot2 = sns.barplot(x=\"Rech\", y=\"climate\", data=Stor1_Rech, ax=ax, color='red', alpha=0.5)\n",
    "\n",
    "# Set grid\n",
    "ax.grid(True, which='both', color='black', linewidth=0.1)\n",
    "\n",
    "# Added labels and title\n",
    "ax.set_xlabel(\"Mean Ave (mm)\", fontsize=25)\n",
    "ax.set_ylabel(\"Climate zone\", fontsize=25)\n",
    "ax.set_title(\"Mean Monthly Change in GWS (excluding soil moisture) and Recharge \\n Averaged per climate zone\", fontsize=25)\n",
    "\n",
    "# Set y-axis labels to bold\n",
    "for label in ax.get_yticklabels():\n",
    "    label.set_weight('bold')\n",
    "\n",
    "# Increased the font size for x-axis and y-axis labels\n",
    "ax.tick_params(axis='x', labelsize=15)\n",
    "ax.tick_params(axis='y', labelsize=15)\n",
    "\n",
    "# Created a legend\n",
    "blue_patch = mpatches.Patch(color='purple', label='GWS')\n",
    "red_patch = mpatches.Patch(color='red', label='Rech', alpha=0.5)\n",
    "plt.legend(handles=[blue_patch, red_patch], fontsize=20)\n",
    "\n",
    "# Showed the plot\n",
    "plt.show()"
   ]
  },
  {
   "cell_type": "code",
   "execution_count": null,
   "id": "6ba1aa5a",
   "metadata": {
    "scrolled": false
   },
   "outputs": [],
   "source": [
    "Stor2_Rech = mean_ave_df2\n",
    "Stor2_Rech['Rech'] = mean_ave_df3['Ave']\n",
    "Stor2_Rech"
   ]
  },
  {
   "cell_type": "code",
   "execution_count": null,
   "id": "950fbccc",
   "metadata": {},
   "outputs": [],
   "source": [
    "import seaborn as sns\n",
    "import matplotlib.pyplot as plt\n",
    "import matplotlib.patches as mpatches\n",
    "\n",
    "# Set a theme\n",
    "sns.set_theme(style=\"whitegrid\")\n",
    "\n",
    "# Created a figure and axes\n",
    "fig, ax = plt.subplots(figsize=(15, 10))\n",
    "\n",
    "# Created the barplot with seaborn for 'Ave' column\n",
    "barplot1 = sns.barplot(x=\"Ave\", y=\"climate\", data=Stor2_Rech, ax=ax, color='purple')\n",
    "\n",
    "# Created the barplot with seaborn for 'rech' column - make sure to replace 'rech' with your actual column name\n",
    "barplot2 = sns.barplot(x=\"Rech\", y=\"climate\", data=Stor2_Rech, ax=ax, color='red', alpha=0.5)\n",
    "\n",
    "# Set grid\n",
    "ax.grid(True, which='both', color='black', linewidth=0.1)\n",
    "\n",
    "# Added labels and title\n",
    "ax.set_xlabel(\"Mean Ave (mm)\", fontsize=25)\n",
    "ax.set_ylabel(\"Climate zone\", fontsize=25)\n",
    "ax.set_title(\"Mean Monthly Change in GWS (including soil moisture) and Recharge \\n Averaged per climate zone\", fontsize=25)\n",
    "\n",
    "# Set y-axis labels to bold\n",
    "for label in ax.get_yticklabels():\n",
    "    label.set_weight('bold')\n",
    "\n",
    "# Increased the font size for x-axis and y-axis labels\n",
    "ax.tick_params(axis='x', labelsize=15)\n",
    "ax.tick_params(axis='y', labelsize=15)\n",
    "\n",
    "# Created a legend\n",
    "blue_patch = mpatches.Patch(color='purple', label='GWS')\n",
    "red_patch = mpatches.Patch(color='red', label='Rech', alpha=0.5)\n",
    "plt.legend(handles=[blue_patch, red_patch], fontsize=20)\n",
    "\n",
    "# Showed the plot\n",
    "plt.show()"
   ]
  }
 ],
 "metadata": {
  "kernelspec": {
   "display_name": "Python 3 (ipykernel)",
   "language": "python",
   "name": "python3"
  },
  "language_info": {
   "codemirror_mode": {
    "name": "ipython",
    "version": 3
   },
   "file_extension": ".py",
   "mimetype": "text/x-python",
   "name": "python",
   "nbconvert_exporter": "python",
   "pygments_lexer": "ipython3",
   "version": "3.9.13"
  }
 },
 "nbformat": 4,
 "nbformat_minor": 5
}
