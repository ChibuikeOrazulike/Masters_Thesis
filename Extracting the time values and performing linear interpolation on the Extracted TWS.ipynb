{
 "cells": [
  {
   "cell_type": "code",
   "execution_count": null,
   "id": "51697ed8",
   "metadata": {},
   "outputs": [],
   "source": [
    "import pandas as pd\n",
    "import numpy as np\n",
    "from datetime import datetime"
   ]
  },
  {
   "cell_type": "code",
   "execution_count": null,
   "id": "1857554c",
   "metadata": {},
   "outputs": [],
   "source": [
    "df = pd.read_csv('lwe_thickness_time_series.csv')\n",
    "#df"
   ]
  },
  {
   "cell_type": "code",
   "execution_count": null,
   "id": "a6577417",
   "metadata": {},
   "outputs": [],
   "source": [
    "# Extracting the lon-lat from the dataframe and droping the columns from the extracted TWS\n",
    "lat_lon_df = df[['lat', 'lon']]\n",
    "time_series_df = df.drop(columns=['lat', 'lon'])"
   ]
  },
  {
   "cell_type": "code",
   "execution_count": null,
   "id": "c30356de",
   "metadata": {},
   "outputs": [],
   "source": [
    "#RETIMING THE DATA FRAME.\n",
    "\n",
    "# Transposed the DataFrame\n",
    "time_series_df = time_series_df.T\n",
    "\n",
    "# Converted column names to datetime\n",
    "time_series_df.index = pd.to_datetime(time_series_df.index)\n",
    "\n",
    "# Custom function to calculate average for months with more than one reading\n",
    "# or keep the first non-null value for months with only one reading\n",
    "def custom_resampler(array_like):\n",
    "    non_null_values = array_like.dropna()\n",
    "    if len(non_null_values) > 1:\n",
    "        return np.mean(non_null_values)\n",
    "    elif len(non_null_values) == 1:\n",
    "        return non_null_values.iloc[0]\n",
    "    else:\n",
    "        return np.nan\n",
    "\n",
    "# Resampled the DataFrame using the custom function\n",
    "time_series_df = time_series_df.resample('MS').apply(custom_resampler)\n",
    "\n",
    "# Transposed the DataFrame back\n",
    "time_series_df = time_series_df.T\n",
    "\n",
    "# Interpolated missing values\n",
    "time_series_df.interpolate(method='linear', axis=1, limit_direction='both', inplace=True)"
   ]
  },
  {
   "cell_type": "code",
   "execution_count": null,
   "id": "647bb618",
   "metadata": {},
   "outputs": [],
   "source": [
    "# Combined the lat/lon columns and the time series data\n",
    "result_df = pd.concat([lat_lon_df, time_series_df], axis=1)"
   ]
  },
  {
   "cell_type": "code",
   "execution_count": null,
   "id": "0bca56af",
   "metadata": {
    "scrolled": true
   },
   "outputs": [],
   "source": [
    "# Made sure column names are formatted as strings\n",
    "result_df.columns = result_df.columns.astype(str)"
   ]
  },
  {
   "cell_type": "code",
   "execution_count": null,
   "id": "27fde1b3",
   "metadata": {},
   "outputs": [],
   "source": [
    "result_df"
   ]
  },
  {
   "cell_type": "code",
   "execution_count": null,
   "id": "ae857c18",
   "metadata": {},
   "outputs": [],
   "source": [
    "result_df.to_csv('lwe_thickness_retimed.csv', index=False)"
   ]
  }
 ],
 "metadata": {
  "kernelspec": {
   "display_name": "Python 3 (ipykernel)",
   "language": "python",
   "name": "python3"
  },
  "language_info": {
   "codemirror_mode": {
    "name": "ipython",
    "version": 3
   },
   "file_extension": ".py",
   "mimetype": "text/x-python",
   "name": "python",
   "nbconvert_exporter": "python",
   "pygments_lexer": "ipython3",
   "version": "3.9.13"
  }
 },
 "nbformat": 4,
 "nbformat_minor": 5
}
