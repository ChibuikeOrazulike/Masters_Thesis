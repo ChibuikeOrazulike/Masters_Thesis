{
 "cells": [
  {
   "cell_type": "code",
   "execution_count": 1,
   "id": "2339dc6a",
   "metadata": {},
   "outputs": [
    {
     "name": "stdout",
     "output_type": "stream",
     "text": [
      "Requirement already satisfied: xarray in c:\\users\\emman\\anaconda3\\lib\\site-packages (0.20.1)\n",
      "Requirement already satisfied: scipy in c:\\users\\emman\\anaconda3\\lib\\site-packages (1.9.1)\n",
      "Requirement already satisfied: numpy>=1.18 in c:\\users\\emman\\anaconda3\\lib\\site-packages (from xarray) (1.24.3)\n",
      "Requirement already satisfied: pandas>=1.1 in c:\\users\\emman\\anaconda3\\lib\\site-packages (from xarray) (1.4.4)\n",
      "Requirement already satisfied: python-dateutil>=2.8.1 in c:\\users\\emman\\anaconda3\\lib\\site-packages (from pandas>=1.1->xarray) (2.8.2)\n",
      "Requirement already satisfied: pytz>=2020.1 in c:\\users\\emman\\anaconda3\\lib\\site-packages (from pandas>=1.1->xarray) (2022.1)\n",
      "Requirement already satisfied: six>=1.5 in c:\\users\\emman\\anaconda3\\lib\\site-packages (from python-dateutil>=2.8.1->pandas>=1.1->xarray) (1.16.0)\n",
      "Note: you may need to restart the kernel to use updated packages.\n"
     ]
    },
    {
     "name": "stderr",
     "output_type": "stream",
     "text": [
      "\n",
      "[notice] A new release of pip is available: 23.1.1 -> 23.1.2\n",
      "[notice] To update, run: python.exe -m pip install --upgrade pip\n"
     ]
    }
   ],
   "source": [
    "pip install xarray scipy"
   ]
  },
  {
   "cell_type": "code",
   "execution_count": 2,
   "id": "4792a42c",
   "metadata": {},
   "outputs": [],
   "source": [
    "import xarray as xr\n",
    "import numpy as np\n",
    "from scipy.interpolate import griddata"
   ]
  },
  {
   "cell_type": "code",
   "execution_count": 3,
   "id": "17f24a92",
   "metadata": {},
   "outputs": [],
   "source": [
    "#FOR THE SURFACE RUNOFF========================================================================================================="
   ]
  },
  {
   "cell_type": "code",
   "execution_count": 4,
   "id": "b578e030",
   "metadata": {},
   "outputs": [],
   "source": [
    "# Load the NetCDF file\n",
    "input_file = \"Surface_runoff.nc\"\n",
    "output_file = \"Surface_runoff_confirmed.nc\"\n",
    "ds = xr.open_dataset(input_file)\n",
    "#ds"
   ]
  },
  {
   "cell_type": "code",
   "execution_count": 5,
   "id": "ba22bf93",
   "metadata": {},
   "outputs": [],
   "source": [
    "# Get the existing coordinates and surface_runoff data\n",
    "lons = ds.longitude.values\n",
    "lats = ds.latitude.values\n",
    "surface_runoff = ds.sro.values"
   ]
  },
  {
   "cell_type": "code",
   "execution_count": 6,
   "id": "b072a69b",
   "metadata": {},
   "outputs": [],
   "source": [
    "# Create the new grid with 0.25-degree resolution\n",
    "new_lons = np.arange(-14.875, lons.max(), 0.25)#-14.875 is used to resample the coordinates to match both GRACE & rech data\n",
    "new_lats = np.arange(25.125, lats.max(), 0.25)#25.125 is used to resample the coordinates to match both GRACE & rech data\n",
    "new_lons, new_lats = np.meshgrid(new_lons, new_lats)"
   ]
  },
  {
   "cell_type": "code",
   "execution_count": 7,
   "id": "a2fa0ea8",
   "metadata": {},
   "outputs": [],
   "source": [
    "# Create a meshgrid of the original coordinates\n",
    "lons_mesh, lats_mesh = np.meshgrid(lons, lats)"
   ]
  },
  {
   "cell_type": "code",
   "execution_count": 8,
   "id": "13162901",
   "metadata": {},
   "outputs": [],
   "source": [
    "# Perform the interpolation using griddata\n",
    "new_surface_runoff = np.empty((surface_runoff.shape[0], new_lats.shape[0], new_lons.shape[1]))\n",
    "for t in range(surface_runoff.shape[0]):\n",
    "    new_surface_runoff[t] = griddata(\n",
    "        (lons_mesh.ravel(), lats_mesh.ravel()),\n",
    "        surface_runoff[t].ravel(),\n",
    "        (new_lons, new_lats),\n",
    "        method=\"linear\",\n",
    "        fill_value=np.nan,\n",
    "    )"
   ]
  },
  {
   "cell_type": "code",
   "execution_count": 9,
   "id": "315e2fa6",
   "metadata": {},
   "outputs": [],
   "source": [
    "# Create a new xarray.Dataset with the upscaled data\n",
    "new_ds = xr.Dataset(\n",
    "    {\n",
    "        \"surface_runoff\": ((\"time\", \"latitude\", \"longitude\"), new_surface_runoff)\n",
    "    },\n",
    "    coords={\n",
    "        \"time\": ds.time.values,\n",
    "        \"latitude\": ((\"latitude\",), new_lats[:, 0]),\n",
    "        \"longitude\": ((\"longitude\",), new_lons[0, :]),\n",
    "    },\n",
    ")"
   ]
  },
  {
   "cell_type": "code",
   "execution_count": 10,
   "id": "c367d06b",
   "metadata": {},
   "outputs": [],
   "source": [
    "# Save the upscaled data to a new NetCDF file\n",
    "new_ds.to_netcdf(output_file)"
   ]
  },
  {
   "cell_type": "code",
   "execution_count": 15,
   "id": "7b877c2d",
   "metadata": {},
   "outputs": [],
   "source": [
    "#FOR THE SOILS src========================================================================================================="
   ]
  },
  {
   "cell_type": "code",
   "execution_count": 16,
   "id": "76d4d413",
   "metadata": {
    "collapsed": true
   },
   "outputs": [
    {
     "data": {
      "text/html": [
       "<div><svg style=\"position: absolute; width: 0; height: 0; overflow: hidden\">\n",
       "<defs>\n",
       "<symbol id=\"icon-database\" viewBox=\"0 0 32 32\">\n",
       "<path d=\"M16 0c-8.837 0-16 2.239-16 5v4c0 2.761 7.163 5 16 5s16-2.239 16-5v-4c0-2.761-7.163-5-16-5z\"></path>\n",
       "<path d=\"M16 17c-8.837 0-16-2.239-16-5v6c0 2.761 7.163 5 16 5s16-2.239 16-5v-6c0 2.761-7.163 5-16 5z\"></path>\n",
       "<path d=\"M16 26c-8.837 0-16-2.239-16-5v6c0 2.761 7.163 5 16 5s16-2.239 16-5v-6c0 2.761-7.163 5-16 5z\"></path>\n",
       "</symbol>\n",
       "<symbol id=\"icon-file-text2\" viewBox=\"0 0 32 32\">\n",
       "<path d=\"M28.681 7.159c-0.694-0.947-1.662-2.053-2.724-3.116s-2.169-2.030-3.116-2.724c-1.612-1.182-2.393-1.319-2.841-1.319h-15.5c-1.378 0-2.5 1.121-2.5 2.5v27c0 1.378 1.122 2.5 2.5 2.5h23c1.378 0 2.5-1.122 2.5-2.5v-19.5c0-0.448-0.137-1.23-1.319-2.841zM24.543 5.457c0.959 0.959 1.712 1.825 2.268 2.543h-4.811v-4.811c0.718 0.556 1.584 1.309 2.543 2.268zM28 29.5c0 0.271-0.229 0.5-0.5 0.5h-23c-0.271 0-0.5-0.229-0.5-0.5v-27c0-0.271 0.229-0.5 0.5-0.5 0 0 15.499-0 15.5 0v7c0 0.552 0.448 1 1 1h7v19.5z\"></path>\n",
       "<path d=\"M23 26h-14c-0.552 0-1-0.448-1-1s0.448-1 1-1h14c0.552 0 1 0.448 1 1s-0.448 1-1 1z\"></path>\n",
       "<path d=\"M23 22h-14c-0.552 0-1-0.448-1-1s0.448-1 1-1h14c0.552 0 1 0.448 1 1s-0.448 1-1 1z\"></path>\n",
       "<path d=\"M23 18h-14c-0.552 0-1-0.448-1-1s0.448-1 1-1h14c0.552 0 1 0.448 1 1s-0.448 1-1 1z\"></path>\n",
       "</symbol>\n",
       "</defs>\n",
       "</svg>\n",
       "<style>/* CSS stylesheet for displaying xarray objects in jupyterlab.\n",
       " *\n",
       " */\n",
       "\n",
       ":root {\n",
       "  --xr-font-color0: var(--jp-content-font-color0, rgba(0, 0, 0, 1));\n",
       "  --xr-font-color2: var(--jp-content-font-color2, rgba(0, 0, 0, 0.54));\n",
       "  --xr-font-color3: var(--jp-content-font-color3, rgba(0, 0, 0, 0.38));\n",
       "  --xr-border-color: var(--jp-border-color2, #e0e0e0);\n",
       "  --xr-disabled-color: var(--jp-layout-color3, #bdbdbd);\n",
       "  --xr-background-color: var(--jp-layout-color0, white);\n",
       "  --xr-background-color-row-even: var(--jp-layout-color1, white);\n",
       "  --xr-background-color-row-odd: var(--jp-layout-color2, #eeeeee);\n",
       "}\n",
       "\n",
       "html[theme=dark],\n",
       "body.vscode-dark {\n",
       "  --xr-font-color0: rgba(255, 255, 255, 1);\n",
       "  --xr-font-color2: rgba(255, 255, 255, 0.54);\n",
       "  --xr-font-color3: rgba(255, 255, 255, 0.38);\n",
       "  --xr-border-color: #1F1F1F;\n",
       "  --xr-disabled-color: #515151;\n",
       "  --xr-background-color: #111111;\n",
       "  --xr-background-color-row-even: #111111;\n",
       "  --xr-background-color-row-odd: #313131;\n",
       "}\n",
       "\n",
       ".xr-wrap {\n",
       "  display: block;\n",
       "  min-width: 300px;\n",
       "  max-width: 700px;\n",
       "}\n",
       "\n",
       ".xr-text-repr-fallback {\n",
       "  /* fallback to plain text repr when CSS is not injected (untrusted notebook) */\n",
       "  display: none;\n",
       "}\n",
       "\n",
       ".xr-header {\n",
       "  padding-top: 6px;\n",
       "  padding-bottom: 6px;\n",
       "  margin-bottom: 4px;\n",
       "  border-bottom: solid 1px var(--xr-border-color);\n",
       "}\n",
       "\n",
       ".xr-header > div,\n",
       ".xr-header > ul {\n",
       "  display: inline;\n",
       "  margin-top: 0;\n",
       "  margin-bottom: 0;\n",
       "}\n",
       "\n",
       ".xr-obj-type,\n",
       ".xr-array-name {\n",
       "  margin-left: 2px;\n",
       "  margin-right: 10px;\n",
       "}\n",
       "\n",
       ".xr-obj-type {\n",
       "  color: var(--xr-font-color2);\n",
       "}\n",
       "\n",
       ".xr-sections {\n",
       "  padding-left: 0 !important;\n",
       "  display: grid;\n",
       "  grid-template-columns: 150px auto auto 1fr 20px 20px;\n",
       "}\n",
       "\n",
       ".xr-section-item {\n",
       "  display: contents;\n",
       "}\n",
       "\n",
       ".xr-section-item input {\n",
       "  display: none;\n",
       "}\n",
       "\n",
       ".xr-section-item input + label {\n",
       "  color: var(--xr-disabled-color);\n",
       "}\n",
       "\n",
       ".xr-section-item input:enabled + label {\n",
       "  cursor: pointer;\n",
       "  color: var(--xr-font-color2);\n",
       "}\n",
       "\n",
       ".xr-section-item input:enabled + label:hover {\n",
       "  color: var(--xr-font-color0);\n",
       "}\n",
       "\n",
       ".xr-section-summary {\n",
       "  grid-column: 1;\n",
       "  color: var(--xr-font-color2);\n",
       "  font-weight: 500;\n",
       "}\n",
       "\n",
       ".xr-section-summary > span {\n",
       "  display: inline-block;\n",
       "  padding-left: 0.5em;\n",
       "}\n",
       "\n",
       ".xr-section-summary-in:disabled + label {\n",
       "  color: var(--xr-font-color2);\n",
       "}\n",
       "\n",
       ".xr-section-summary-in + label:before {\n",
       "  display: inline-block;\n",
       "  content: '►';\n",
       "  font-size: 11px;\n",
       "  width: 15px;\n",
       "  text-align: center;\n",
       "}\n",
       "\n",
       ".xr-section-summary-in:disabled + label:before {\n",
       "  color: var(--xr-disabled-color);\n",
       "}\n",
       "\n",
       ".xr-section-summary-in:checked + label:before {\n",
       "  content: '▼';\n",
       "}\n",
       "\n",
       ".xr-section-summary-in:checked + label > span {\n",
       "  display: none;\n",
       "}\n",
       "\n",
       ".xr-section-summary,\n",
       ".xr-section-inline-details {\n",
       "  padding-top: 4px;\n",
       "  padding-bottom: 4px;\n",
       "}\n",
       "\n",
       ".xr-section-inline-details {\n",
       "  grid-column: 2 / -1;\n",
       "}\n",
       "\n",
       ".xr-section-details {\n",
       "  display: none;\n",
       "  grid-column: 1 / -1;\n",
       "  margin-bottom: 5px;\n",
       "}\n",
       "\n",
       ".xr-section-summary-in:checked ~ .xr-section-details {\n",
       "  display: contents;\n",
       "}\n",
       "\n",
       ".xr-array-wrap {\n",
       "  grid-column: 1 / -1;\n",
       "  display: grid;\n",
       "  grid-template-columns: 20px auto;\n",
       "}\n",
       "\n",
       ".xr-array-wrap > label {\n",
       "  grid-column: 1;\n",
       "  vertical-align: top;\n",
       "}\n",
       "\n",
       ".xr-preview {\n",
       "  color: var(--xr-font-color3);\n",
       "}\n",
       "\n",
       ".xr-array-preview,\n",
       ".xr-array-data {\n",
       "  padding: 0 5px !important;\n",
       "  grid-column: 2;\n",
       "}\n",
       "\n",
       ".xr-array-data,\n",
       ".xr-array-in:checked ~ .xr-array-preview {\n",
       "  display: none;\n",
       "}\n",
       "\n",
       ".xr-array-in:checked ~ .xr-array-data,\n",
       ".xr-array-preview {\n",
       "  display: inline-block;\n",
       "}\n",
       "\n",
       ".xr-dim-list {\n",
       "  display: inline-block !important;\n",
       "  list-style: none;\n",
       "  padding: 0 !important;\n",
       "  margin: 0;\n",
       "}\n",
       "\n",
       ".xr-dim-list li {\n",
       "  display: inline-block;\n",
       "  padding: 0;\n",
       "  margin: 0;\n",
       "}\n",
       "\n",
       ".xr-dim-list:before {\n",
       "  content: '(';\n",
       "}\n",
       "\n",
       ".xr-dim-list:after {\n",
       "  content: ')';\n",
       "}\n",
       "\n",
       ".xr-dim-list li:not(:last-child):after {\n",
       "  content: ',';\n",
       "  padding-right: 5px;\n",
       "}\n",
       "\n",
       ".xr-has-index {\n",
       "  font-weight: bold;\n",
       "}\n",
       "\n",
       ".xr-var-list,\n",
       ".xr-var-item {\n",
       "  display: contents;\n",
       "}\n",
       "\n",
       ".xr-var-item > div,\n",
       ".xr-var-item label,\n",
       ".xr-var-item > .xr-var-name span {\n",
       "  background-color: var(--xr-background-color-row-even);\n",
       "  margin-bottom: 0;\n",
       "}\n",
       "\n",
       ".xr-var-item > .xr-var-name:hover span {\n",
       "  padding-right: 5px;\n",
       "}\n",
       "\n",
       ".xr-var-list > li:nth-child(odd) > div,\n",
       ".xr-var-list > li:nth-child(odd) > label,\n",
       ".xr-var-list > li:nth-child(odd) > .xr-var-name span {\n",
       "  background-color: var(--xr-background-color-row-odd);\n",
       "}\n",
       "\n",
       ".xr-var-name {\n",
       "  grid-column: 1;\n",
       "}\n",
       "\n",
       ".xr-var-dims {\n",
       "  grid-column: 2;\n",
       "}\n",
       "\n",
       ".xr-var-dtype {\n",
       "  grid-column: 3;\n",
       "  text-align: right;\n",
       "  color: var(--xr-font-color2);\n",
       "}\n",
       "\n",
       ".xr-var-preview {\n",
       "  grid-column: 4;\n",
       "}\n",
       "\n",
       ".xr-var-name,\n",
       ".xr-var-dims,\n",
       ".xr-var-dtype,\n",
       ".xr-preview,\n",
       ".xr-attrs dt {\n",
       "  white-space: nowrap;\n",
       "  overflow: hidden;\n",
       "  text-overflow: ellipsis;\n",
       "  padding-right: 10px;\n",
       "}\n",
       "\n",
       ".xr-var-name:hover,\n",
       ".xr-var-dims:hover,\n",
       ".xr-var-dtype:hover,\n",
       ".xr-attrs dt:hover {\n",
       "  overflow: visible;\n",
       "  width: auto;\n",
       "  z-index: 1;\n",
       "}\n",
       "\n",
       ".xr-var-attrs,\n",
       ".xr-var-data {\n",
       "  display: none;\n",
       "  background-color: var(--xr-background-color) !important;\n",
       "  padding-bottom: 5px !important;\n",
       "}\n",
       "\n",
       ".xr-var-attrs-in:checked ~ .xr-var-attrs,\n",
       ".xr-var-data-in:checked ~ .xr-var-data {\n",
       "  display: block;\n",
       "}\n",
       "\n",
       ".xr-var-data > table {\n",
       "  float: right;\n",
       "}\n",
       "\n",
       ".xr-var-name span,\n",
       ".xr-var-data,\n",
       ".xr-attrs {\n",
       "  padding-left: 25px !important;\n",
       "}\n",
       "\n",
       ".xr-attrs,\n",
       ".xr-var-attrs,\n",
       ".xr-var-data {\n",
       "  grid-column: 1 / -1;\n",
       "}\n",
       "\n",
       "dl.xr-attrs {\n",
       "  padding: 0;\n",
       "  margin: 0;\n",
       "  display: grid;\n",
       "  grid-template-columns: 125px auto;\n",
       "}\n",
       "\n",
       ".xr-attrs dt,\n",
       ".xr-attrs dd {\n",
       "  padding: 0;\n",
       "  margin: 0;\n",
       "  float: left;\n",
       "  padding-right: 10px;\n",
       "  width: auto;\n",
       "}\n",
       "\n",
       ".xr-attrs dt {\n",
       "  font-weight: normal;\n",
       "  grid-column: 1;\n",
       "}\n",
       "\n",
       ".xr-attrs dt:hover span {\n",
       "  display: inline-block;\n",
       "  background: var(--xr-background-color);\n",
       "  padding-right: 10px;\n",
       "}\n",
       "\n",
       ".xr-attrs dd {\n",
       "  grid-column: 2;\n",
       "  white-space: pre-wrap;\n",
       "  word-break: break-all;\n",
       "}\n",
       "\n",
       ".xr-icon-database,\n",
       ".xr-icon-file-text2 {\n",
       "  display: inline-block;\n",
       "  vertical-align: middle;\n",
       "  width: 1em;\n",
       "  height: 1.5em !important;\n",
       "  stroke-width: 0;\n",
       "  stroke: currentColor;\n",
       "  fill: currentColor;\n",
       "}\n",
       "</style><pre class='xr-text-repr-fallback'>&lt;xarray.Dataset&gt;\n",
       "Dimensions:    (longitude: 601, latitude: 261, time: 144)\n",
       "Coordinates:\n",
       "  * longitude  (longitude) float32 -10.0 -9.9 -9.8 -9.7 ... 49.7 49.8 49.9 50.0\n",
       "  * latitude   (latitude) float32 52.0 51.9 51.8 51.7 ... 26.3 26.2 26.1 26.0\n",
       "  * time       (time) datetime64[ns] 2003-01-01 2003-02-01 ... 2014-12-01\n",
       "Data variables:\n",
       "    src        (time, latitude, longitude) float32 ...\n",
       "    swvl1      (time, latitude, longitude) float32 ...\n",
       "    swvl2      (time, latitude, longitude) float32 ...\n",
       "    swvl3      (time, latitude, longitude) float32 ...\n",
       "    swvl4      (time, latitude, longitude) float32 ...\n",
       "Attributes:\n",
       "    Conventions:  CF-1.6\n",
       "    history:      2023-05-01 16:22:08 GMT by grib_to_netcdf-2.24.0: /opt/ecmw...</pre><div class='xr-wrap' hidden><div class='xr-header'><div class='xr-obj-type'>xarray.Dataset</div></div><ul class='xr-sections'><li class='xr-section-item'><input id='section-25bec0b3-a0aa-4b32-80f7-9d1f135608ac' class='xr-section-summary-in' type='checkbox' disabled ><label for='section-25bec0b3-a0aa-4b32-80f7-9d1f135608ac' class='xr-section-summary'  title='Expand/collapse section'>Dimensions:</label><div class='xr-section-inline-details'><ul class='xr-dim-list'><li><span class='xr-has-index'>longitude</span>: 601</li><li><span class='xr-has-index'>latitude</span>: 261</li><li><span class='xr-has-index'>time</span>: 144</li></ul></div><div class='xr-section-details'></div></li><li class='xr-section-item'><input id='section-b7aefa90-c009-4376-9a80-ec9a623f98a7' class='xr-section-summary-in' type='checkbox'  checked><label for='section-b7aefa90-c009-4376-9a80-ec9a623f98a7' class='xr-section-summary' >Coordinates: <span>(3)</span></label><div class='xr-section-inline-details'></div><div class='xr-section-details'><ul class='xr-var-list'><li class='xr-var-item'><div class='xr-var-name'><span class='xr-has-index'>longitude</span></div><div class='xr-var-dims'>(longitude)</div><div class='xr-var-dtype'>float32</div><div class='xr-var-preview xr-preview'>-10.0 -9.9 -9.8 ... 49.8 49.9 50.0</div><input id='attrs-f705c174-bb89-453f-b334-ef2e207563b5' class='xr-var-attrs-in' type='checkbox' ><label for='attrs-f705c174-bb89-453f-b334-ef2e207563b5' title='Show/Hide attributes'><svg class='icon xr-icon-file-text2'><use xlink:href='#icon-file-text2'></use></svg></label><input id='data-af0faf27-bb5a-442a-afb2-3ae8e2dcfabb' class='xr-var-data-in' type='checkbox'><label for='data-af0faf27-bb5a-442a-afb2-3ae8e2dcfabb' title='Show/Hide data repr'><svg class='icon xr-icon-database'><use xlink:href='#icon-database'></use></svg></label><div class='xr-var-attrs'><dl class='xr-attrs'><dt><span>units :</span></dt><dd>degrees_east</dd><dt><span>long_name :</span></dt><dd>longitude</dd></dl></div><div class='xr-var-data'><pre>array([-10. ,  -9.9,  -9.8, ...,  49.8,  49.9,  50. ], dtype=float32)</pre></div></li><li class='xr-var-item'><div class='xr-var-name'><span class='xr-has-index'>latitude</span></div><div class='xr-var-dims'>(latitude)</div><div class='xr-var-dtype'>float32</div><div class='xr-var-preview xr-preview'>52.0 51.9 51.8 ... 26.2 26.1 26.0</div><input id='attrs-91054728-c133-49ec-b85c-db5f1f9152bd' class='xr-var-attrs-in' type='checkbox' ><label for='attrs-91054728-c133-49ec-b85c-db5f1f9152bd' title='Show/Hide attributes'><svg class='icon xr-icon-file-text2'><use xlink:href='#icon-file-text2'></use></svg></label><input id='data-10dbb7c0-b422-43d0-a35d-cac46aa9320f' class='xr-var-data-in' type='checkbox'><label for='data-10dbb7c0-b422-43d0-a35d-cac46aa9320f' title='Show/Hide data repr'><svg class='icon xr-icon-database'><use xlink:href='#icon-database'></use></svg></label><div class='xr-var-attrs'><dl class='xr-attrs'><dt><span>units :</span></dt><dd>degrees_north</dd><dt><span>long_name :</span></dt><dd>latitude</dd></dl></div><div class='xr-var-data'><pre>array([52. , 51.9, 51.8, ..., 26.2, 26.1, 26. ], dtype=float32)</pre></div></li><li class='xr-var-item'><div class='xr-var-name'><span class='xr-has-index'>time</span></div><div class='xr-var-dims'>(time)</div><div class='xr-var-dtype'>datetime64[ns]</div><div class='xr-var-preview xr-preview'>2003-01-01 ... 2014-12-01</div><input id='attrs-c3dca40b-229e-4a6d-8e5f-98bb2ab7a5e6' class='xr-var-attrs-in' type='checkbox' ><label for='attrs-c3dca40b-229e-4a6d-8e5f-98bb2ab7a5e6' title='Show/Hide attributes'><svg class='icon xr-icon-file-text2'><use xlink:href='#icon-file-text2'></use></svg></label><input id='data-8a7edcaf-9a57-4c96-804e-4cb509999f4b' class='xr-var-data-in' type='checkbox'><label for='data-8a7edcaf-9a57-4c96-804e-4cb509999f4b' title='Show/Hide data repr'><svg class='icon xr-icon-database'><use xlink:href='#icon-database'></use></svg></label><div class='xr-var-attrs'><dl class='xr-attrs'><dt><span>long_name :</span></dt><dd>time</dd></dl></div><div class='xr-var-data'><pre>array([&#x27;2003-01-01T00:00:00.000000000&#x27;, &#x27;2003-02-01T00:00:00.000000000&#x27;,\n",
       "       &#x27;2003-03-01T00:00:00.000000000&#x27;, &#x27;2003-04-01T00:00:00.000000000&#x27;,\n",
       "       &#x27;2003-05-01T00:00:00.000000000&#x27;, &#x27;2003-06-01T00:00:00.000000000&#x27;,\n",
       "       &#x27;2003-07-01T00:00:00.000000000&#x27;, &#x27;2003-08-01T00:00:00.000000000&#x27;,\n",
       "       &#x27;2003-09-01T00:00:00.000000000&#x27;, &#x27;2003-10-01T00:00:00.000000000&#x27;,\n",
       "       &#x27;2003-11-01T00:00:00.000000000&#x27;, &#x27;2003-12-01T00:00:00.000000000&#x27;,\n",
       "       &#x27;2004-01-01T00:00:00.000000000&#x27;, &#x27;2004-02-01T00:00:00.000000000&#x27;,\n",
       "       &#x27;2004-03-01T00:00:00.000000000&#x27;, &#x27;2004-04-01T00:00:00.000000000&#x27;,\n",
       "       &#x27;2004-05-01T00:00:00.000000000&#x27;, &#x27;2004-06-01T00:00:00.000000000&#x27;,\n",
       "       &#x27;2004-07-01T00:00:00.000000000&#x27;, &#x27;2004-08-01T00:00:00.000000000&#x27;,\n",
       "       &#x27;2004-09-01T00:00:00.000000000&#x27;, &#x27;2004-10-01T00:00:00.000000000&#x27;,\n",
       "       &#x27;2004-11-01T00:00:00.000000000&#x27;, &#x27;2004-12-01T00:00:00.000000000&#x27;,\n",
       "       &#x27;2005-01-01T00:00:00.000000000&#x27;, &#x27;2005-02-01T00:00:00.000000000&#x27;,\n",
       "       &#x27;2005-03-01T00:00:00.000000000&#x27;, &#x27;2005-04-01T00:00:00.000000000&#x27;,\n",
       "       &#x27;2005-05-01T00:00:00.000000000&#x27;, &#x27;2005-06-01T00:00:00.000000000&#x27;,\n",
       "       &#x27;2005-07-01T00:00:00.000000000&#x27;, &#x27;2005-08-01T00:00:00.000000000&#x27;,\n",
       "       &#x27;2005-09-01T00:00:00.000000000&#x27;, &#x27;2005-10-01T00:00:00.000000000&#x27;,\n",
       "       &#x27;2005-11-01T00:00:00.000000000&#x27;, &#x27;2005-12-01T00:00:00.000000000&#x27;,\n",
       "       &#x27;2006-01-01T00:00:00.000000000&#x27;, &#x27;2006-02-01T00:00:00.000000000&#x27;,\n",
       "       &#x27;2006-03-01T00:00:00.000000000&#x27;, &#x27;2006-04-01T00:00:00.000000000&#x27;,\n",
       "       &#x27;2006-05-01T00:00:00.000000000&#x27;, &#x27;2006-06-01T00:00:00.000000000&#x27;,\n",
       "       &#x27;2006-07-01T00:00:00.000000000&#x27;, &#x27;2006-08-01T00:00:00.000000000&#x27;,\n",
       "       &#x27;2006-09-01T00:00:00.000000000&#x27;, &#x27;2006-10-01T00:00:00.000000000&#x27;,\n",
       "       &#x27;2006-11-01T00:00:00.000000000&#x27;, &#x27;2006-12-01T00:00:00.000000000&#x27;,\n",
       "       &#x27;2007-01-01T00:00:00.000000000&#x27;, &#x27;2007-02-01T00:00:00.000000000&#x27;,\n",
       "       &#x27;2007-03-01T00:00:00.000000000&#x27;, &#x27;2007-04-01T00:00:00.000000000&#x27;,\n",
       "       &#x27;2007-05-01T00:00:00.000000000&#x27;, &#x27;2007-06-01T00:00:00.000000000&#x27;,\n",
       "       &#x27;2007-07-01T00:00:00.000000000&#x27;, &#x27;2007-08-01T00:00:00.000000000&#x27;,\n",
       "       &#x27;2007-09-01T00:00:00.000000000&#x27;, &#x27;2007-10-01T00:00:00.000000000&#x27;,\n",
       "       &#x27;2007-11-01T00:00:00.000000000&#x27;, &#x27;2007-12-01T00:00:00.000000000&#x27;,\n",
       "       &#x27;2008-01-01T00:00:00.000000000&#x27;, &#x27;2008-02-01T00:00:00.000000000&#x27;,\n",
       "       &#x27;2008-03-01T00:00:00.000000000&#x27;, &#x27;2008-04-01T00:00:00.000000000&#x27;,\n",
       "       &#x27;2008-05-01T00:00:00.000000000&#x27;, &#x27;2008-06-01T00:00:00.000000000&#x27;,\n",
       "       &#x27;2008-07-01T00:00:00.000000000&#x27;, &#x27;2008-08-01T00:00:00.000000000&#x27;,\n",
       "       &#x27;2008-09-01T00:00:00.000000000&#x27;, &#x27;2008-10-01T00:00:00.000000000&#x27;,\n",
       "       &#x27;2008-11-01T00:00:00.000000000&#x27;, &#x27;2008-12-01T00:00:00.000000000&#x27;,\n",
       "       &#x27;2009-01-01T00:00:00.000000000&#x27;, &#x27;2009-02-01T00:00:00.000000000&#x27;,\n",
       "       &#x27;2009-03-01T00:00:00.000000000&#x27;, &#x27;2009-04-01T00:00:00.000000000&#x27;,\n",
       "       &#x27;2009-05-01T00:00:00.000000000&#x27;, &#x27;2009-06-01T00:00:00.000000000&#x27;,\n",
       "       &#x27;2009-07-01T00:00:00.000000000&#x27;, &#x27;2009-08-01T00:00:00.000000000&#x27;,\n",
       "       &#x27;2009-09-01T00:00:00.000000000&#x27;, &#x27;2009-10-01T00:00:00.000000000&#x27;,\n",
       "       &#x27;2009-11-01T00:00:00.000000000&#x27;, &#x27;2009-12-01T00:00:00.000000000&#x27;,\n",
       "       &#x27;2010-01-01T00:00:00.000000000&#x27;, &#x27;2010-02-01T00:00:00.000000000&#x27;,\n",
       "       &#x27;2010-03-01T00:00:00.000000000&#x27;, &#x27;2010-04-01T00:00:00.000000000&#x27;,\n",
       "       &#x27;2010-05-01T00:00:00.000000000&#x27;, &#x27;2010-06-01T00:00:00.000000000&#x27;,\n",
       "       &#x27;2010-07-01T00:00:00.000000000&#x27;, &#x27;2010-08-01T00:00:00.000000000&#x27;,\n",
       "       &#x27;2010-09-01T00:00:00.000000000&#x27;, &#x27;2010-10-01T00:00:00.000000000&#x27;,\n",
       "       &#x27;2010-11-01T00:00:00.000000000&#x27;, &#x27;2010-12-01T00:00:00.000000000&#x27;,\n",
       "       &#x27;2011-01-01T00:00:00.000000000&#x27;, &#x27;2011-02-01T00:00:00.000000000&#x27;,\n",
       "       &#x27;2011-03-01T00:00:00.000000000&#x27;, &#x27;2011-04-01T00:00:00.000000000&#x27;,\n",
       "       &#x27;2011-05-01T00:00:00.000000000&#x27;, &#x27;2011-06-01T00:00:00.000000000&#x27;,\n",
       "       &#x27;2011-07-01T00:00:00.000000000&#x27;, &#x27;2011-08-01T00:00:00.000000000&#x27;,\n",
       "       &#x27;2011-09-01T00:00:00.000000000&#x27;, &#x27;2011-10-01T00:00:00.000000000&#x27;,\n",
       "       &#x27;2011-11-01T00:00:00.000000000&#x27;, &#x27;2011-12-01T00:00:00.000000000&#x27;,\n",
       "       &#x27;2012-01-01T00:00:00.000000000&#x27;, &#x27;2012-02-01T00:00:00.000000000&#x27;,\n",
       "       &#x27;2012-03-01T00:00:00.000000000&#x27;, &#x27;2012-04-01T00:00:00.000000000&#x27;,\n",
       "       &#x27;2012-05-01T00:00:00.000000000&#x27;, &#x27;2012-06-01T00:00:00.000000000&#x27;,\n",
       "       &#x27;2012-07-01T00:00:00.000000000&#x27;, &#x27;2012-08-01T00:00:00.000000000&#x27;,\n",
       "       &#x27;2012-09-01T00:00:00.000000000&#x27;, &#x27;2012-10-01T00:00:00.000000000&#x27;,\n",
       "       &#x27;2012-11-01T00:00:00.000000000&#x27;, &#x27;2012-12-01T00:00:00.000000000&#x27;,\n",
       "       &#x27;2013-01-01T00:00:00.000000000&#x27;, &#x27;2013-02-01T00:00:00.000000000&#x27;,\n",
       "       &#x27;2013-03-01T00:00:00.000000000&#x27;, &#x27;2013-04-01T00:00:00.000000000&#x27;,\n",
       "       &#x27;2013-05-01T00:00:00.000000000&#x27;, &#x27;2013-06-01T00:00:00.000000000&#x27;,\n",
       "       &#x27;2013-07-01T00:00:00.000000000&#x27;, &#x27;2013-08-01T00:00:00.000000000&#x27;,\n",
       "       &#x27;2013-09-01T00:00:00.000000000&#x27;, &#x27;2013-10-01T00:00:00.000000000&#x27;,\n",
       "       &#x27;2013-11-01T00:00:00.000000000&#x27;, &#x27;2013-12-01T00:00:00.000000000&#x27;,\n",
       "       &#x27;2014-01-01T00:00:00.000000000&#x27;, &#x27;2014-02-01T00:00:00.000000000&#x27;,\n",
       "       &#x27;2014-03-01T00:00:00.000000000&#x27;, &#x27;2014-04-01T00:00:00.000000000&#x27;,\n",
       "       &#x27;2014-05-01T00:00:00.000000000&#x27;, &#x27;2014-06-01T00:00:00.000000000&#x27;,\n",
       "       &#x27;2014-07-01T00:00:00.000000000&#x27;, &#x27;2014-08-01T00:00:00.000000000&#x27;,\n",
       "       &#x27;2014-09-01T00:00:00.000000000&#x27;, &#x27;2014-10-01T00:00:00.000000000&#x27;,\n",
       "       &#x27;2014-11-01T00:00:00.000000000&#x27;, &#x27;2014-12-01T00:00:00.000000000&#x27;],\n",
       "      dtype=&#x27;datetime64[ns]&#x27;)</pre></div></li></ul></div></li><li class='xr-section-item'><input id='section-5d78dc92-8072-4a28-a9f7-7c660d49bbd1' class='xr-section-summary-in' type='checkbox'  checked><label for='section-5d78dc92-8072-4a28-a9f7-7c660d49bbd1' class='xr-section-summary' >Data variables: <span>(5)</span></label><div class='xr-section-inline-details'></div><div class='xr-section-details'><ul class='xr-var-list'><li class='xr-var-item'><div class='xr-var-name'><span>src</span></div><div class='xr-var-dims'>(time, latitude, longitude)</div><div class='xr-var-dtype'>float32</div><div class='xr-var-preview xr-preview'>...</div><input id='attrs-f55a9be1-f1f3-40fe-9ce4-35186f81288b' class='xr-var-attrs-in' type='checkbox' ><label for='attrs-f55a9be1-f1f3-40fe-9ce4-35186f81288b' title='Show/Hide attributes'><svg class='icon xr-icon-file-text2'><use xlink:href='#icon-file-text2'></use></svg></label><input id='data-3bafb90f-1582-4253-a90c-b9b5219ee849' class='xr-var-data-in' type='checkbox'><label for='data-3bafb90f-1582-4253-a90c-b9b5219ee849' title='Show/Hide data repr'><svg class='icon xr-icon-database'><use xlink:href='#icon-database'></use></svg></label><div class='xr-var-attrs'><dl class='xr-attrs'><dt><span>units :</span></dt><dd>m of water equivalent</dd><dt><span>long_name :</span></dt><dd>Skin reservoir content</dd></dl></div><div class='xr-var-data'><pre>[22587984 values with dtype=float32]</pre></div></li><li class='xr-var-item'><div class='xr-var-name'><span>swvl1</span></div><div class='xr-var-dims'>(time, latitude, longitude)</div><div class='xr-var-dtype'>float32</div><div class='xr-var-preview xr-preview'>...</div><input id='attrs-a5727231-855a-4ab2-9a44-21810eb71055' class='xr-var-attrs-in' type='checkbox' ><label for='attrs-a5727231-855a-4ab2-9a44-21810eb71055' title='Show/Hide attributes'><svg class='icon xr-icon-file-text2'><use xlink:href='#icon-file-text2'></use></svg></label><input id='data-835cccb7-c81a-49a6-b343-58e473dde191' class='xr-var-data-in' type='checkbox'><label for='data-835cccb7-c81a-49a6-b343-58e473dde191' title='Show/Hide data repr'><svg class='icon xr-icon-database'><use xlink:href='#icon-database'></use></svg></label><div class='xr-var-attrs'><dl class='xr-attrs'><dt><span>units :</span></dt><dd>m**3 m**-3</dd><dt><span>long_name :</span></dt><dd>Volumetric soil water layer 1</dd></dl></div><div class='xr-var-data'><pre>[22587984 values with dtype=float32]</pre></div></li><li class='xr-var-item'><div class='xr-var-name'><span>swvl2</span></div><div class='xr-var-dims'>(time, latitude, longitude)</div><div class='xr-var-dtype'>float32</div><div class='xr-var-preview xr-preview'>...</div><input id='attrs-fcee9cec-a6d7-4d03-af7f-1c10313a8883' class='xr-var-attrs-in' type='checkbox' ><label for='attrs-fcee9cec-a6d7-4d03-af7f-1c10313a8883' title='Show/Hide attributes'><svg class='icon xr-icon-file-text2'><use xlink:href='#icon-file-text2'></use></svg></label><input id='data-01a840e4-5d9c-4a49-bd8b-b5c8acb87db7' class='xr-var-data-in' type='checkbox'><label for='data-01a840e4-5d9c-4a49-bd8b-b5c8acb87db7' title='Show/Hide data repr'><svg class='icon xr-icon-database'><use xlink:href='#icon-database'></use></svg></label><div class='xr-var-attrs'><dl class='xr-attrs'><dt><span>units :</span></dt><dd>m**3 m**-3</dd><dt><span>long_name :</span></dt><dd>Volumetric soil water layer 2</dd></dl></div><div class='xr-var-data'><pre>[22587984 values with dtype=float32]</pre></div></li><li class='xr-var-item'><div class='xr-var-name'><span>swvl3</span></div><div class='xr-var-dims'>(time, latitude, longitude)</div><div class='xr-var-dtype'>float32</div><div class='xr-var-preview xr-preview'>...</div><input id='attrs-236ee0c4-2c01-471c-b4d6-ee8344cc36b2' class='xr-var-attrs-in' type='checkbox' ><label for='attrs-236ee0c4-2c01-471c-b4d6-ee8344cc36b2' title='Show/Hide attributes'><svg class='icon xr-icon-file-text2'><use xlink:href='#icon-file-text2'></use></svg></label><input id='data-d5b1c458-1d92-44f0-b0a1-5a29abe06c8e' class='xr-var-data-in' type='checkbox'><label for='data-d5b1c458-1d92-44f0-b0a1-5a29abe06c8e' title='Show/Hide data repr'><svg class='icon xr-icon-database'><use xlink:href='#icon-database'></use></svg></label><div class='xr-var-attrs'><dl class='xr-attrs'><dt><span>units :</span></dt><dd>m**3 m**-3</dd><dt><span>long_name :</span></dt><dd>Volumetric soil water layer 3</dd></dl></div><div class='xr-var-data'><pre>[22587984 values with dtype=float32]</pre></div></li><li class='xr-var-item'><div class='xr-var-name'><span>swvl4</span></div><div class='xr-var-dims'>(time, latitude, longitude)</div><div class='xr-var-dtype'>float32</div><div class='xr-var-preview xr-preview'>...</div><input id='attrs-3889e8f4-c92d-41d4-aff7-062689f28ba6' class='xr-var-attrs-in' type='checkbox' ><label for='attrs-3889e8f4-c92d-41d4-aff7-062689f28ba6' title='Show/Hide attributes'><svg class='icon xr-icon-file-text2'><use xlink:href='#icon-file-text2'></use></svg></label><input id='data-0ea2c26f-26f9-436f-a2cf-e2f0b4f68403' class='xr-var-data-in' type='checkbox'><label for='data-0ea2c26f-26f9-436f-a2cf-e2f0b4f68403' title='Show/Hide data repr'><svg class='icon xr-icon-database'><use xlink:href='#icon-database'></use></svg></label><div class='xr-var-attrs'><dl class='xr-attrs'><dt><span>units :</span></dt><dd>m**3 m**-3</dd><dt><span>long_name :</span></dt><dd>Volumetric soil water layer 4</dd></dl></div><div class='xr-var-data'><pre>[22587984 values with dtype=float32]</pre></div></li></ul></div></li><li class='xr-section-item'><input id='section-a012a672-3cb5-4579-a157-3b97809fe9e5' class='xr-section-summary-in' type='checkbox'  checked><label for='section-a012a672-3cb5-4579-a157-3b97809fe9e5' class='xr-section-summary' >Attributes: <span>(2)</span></label><div class='xr-section-inline-details'></div><div class='xr-section-details'><dl class='xr-attrs'><dt><span>Conventions :</span></dt><dd>CF-1.6</dd><dt><span>history :</span></dt><dd>2023-05-01 16:22:08 GMT by grib_to_netcdf-2.24.0: /opt/ecmwf/eccodes/bin/grib_to_netcdf -S param -o /cache/tmp/24ca9ffa-5910-41d2-8d7f-fbd6c05900eb-adaptor.mars.internal-1682958122.4167335-31041-21-tmp.nc /cache/tmp/24ca9ffa-5910-41d2-8d7f-fbd6c05900eb-adaptor.mars.internal-1682957926.1994755-31041-19-tmp.grib</dd></dl></div></li></ul></div></div>"
      ],
      "text/plain": [
       "<xarray.Dataset>\n",
       "Dimensions:    (longitude: 601, latitude: 261, time: 144)\n",
       "Coordinates:\n",
       "  * longitude  (longitude) float32 -10.0 -9.9 -9.8 -9.7 ... 49.7 49.8 49.9 50.0\n",
       "  * latitude   (latitude) float32 52.0 51.9 51.8 51.7 ... 26.3 26.2 26.1 26.0\n",
       "  * time       (time) datetime64[ns] 2003-01-01 2003-02-01 ... 2014-12-01\n",
       "Data variables:\n",
       "    src        (time, latitude, longitude) float32 ...\n",
       "    swvl1      (time, latitude, longitude) float32 ...\n",
       "    swvl2      (time, latitude, longitude) float32 ...\n",
       "    swvl3      (time, latitude, longitude) float32 ...\n",
       "    swvl4      (time, latitude, longitude) float32 ...\n",
       "Attributes:\n",
       "    Conventions:  CF-1.6\n",
       "    history:      2023-05-01 16:22:08 GMT by grib_to_netcdf-2.24.0: /opt/ecmw..."
      ]
     },
     "execution_count": 16,
     "metadata": {},
     "output_type": "execute_result"
    }
   ],
   "source": [
    "# Load the NetCDF file\n",
    "input_file = \"Soil.nc\"\n",
    "output_file = \"Soil_src_confirmed.nc\"\n",
    "ds = xr.open_dataset(input_file)\n",
    "ds"
   ]
  },
  {
   "cell_type": "code",
   "execution_count": 17,
   "id": "ca14624f",
   "metadata": {},
   "outputs": [],
   "source": [
    "# Get the existing coordinates and surface_runoff data\n",
    "lons = ds.longitude.values\n",
    "lats = ds.latitude.values\n",
    "src = ds.src.values #soil skin layer"
   ]
  },
  {
   "cell_type": "code",
   "execution_count": 18,
   "id": "0c80ebc8",
   "metadata": {},
   "outputs": [],
   "source": [
    "# Create the new grid with 0.25-degree resolution\n",
    "new_lons = np.arange(-14.875, lons.max(), 0.25)#-14.875 is used to resample the coordinates to match both GRACE & rech data\n",
    "new_lats = np.arange(25.125, lats.max(), 0.25)#25.125 is used to resample the coordinates to match both GRACE & rech data\n",
    "new_lons, new_lats = np.meshgrid(new_lons, new_lats)"
   ]
  },
  {
   "cell_type": "code",
   "execution_count": 19,
   "id": "a0cbd137",
   "metadata": {},
   "outputs": [],
   "source": [
    "# Create a meshgrid of the original coordinates\n",
    "lons_mesh, lats_mesh = np.meshgrid(lons, lats)"
   ]
  },
  {
   "cell_type": "code",
   "execution_count": 20,
   "id": "f6ac198d",
   "metadata": {},
   "outputs": [],
   "source": [
    "# Perform the interpolation using griddata\n",
    "new_src = np.empty((src.shape[0], new_lats.shape[0], new_lons.shape[1]))\n",
    "for t in range(src.shape[0]):\n",
    "    new_src[t] = griddata(\n",
    "        (lons_mesh.ravel(), lats_mesh.ravel()),\n",
    "        src[t].ravel(),\n",
    "        (new_lons, new_lats),\n",
    "        method=\"linear\",\n",
    "        fill_value=np.nan,\n",
    "    )"
   ]
  },
  {
   "cell_type": "code",
   "execution_count": 21,
   "id": "ded873fa",
   "metadata": {},
   "outputs": [],
   "source": [
    "# Create a new xarray.Dataset with the upscaled data\n",
    "new_ds = xr.Dataset(\n",
    "    {\n",
    "        \"src\": ((\"time\", \"latitude\", \"longitude\"), new_src)\n",
    "    },\n",
    "    coords={\n",
    "        \"time\": ds.time.values,\n",
    "        \"latitude\": ((\"latitude\",), new_lats[:, 0]),\n",
    "        \"longitude\": ((\"longitude\",), new_lons[0, :]),\n",
    "    },\n",
    ")"
   ]
  },
  {
   "cell_type": "code",
   "execution_count": 22,
   "id": "6b3fe93e",
   "metadata": {},
   "outputs": [],
   "source": [
    "# Save the upscaled data to a new NetCDF file\n",
    "new_ds.to_netcdf(output_file)"
   ]
  },
  {
   "cell_type": "code",
   "execution_count": 23,
   "id": "fa96a1a8",
   "metadata": {},
   "outputs": [],
   "source": [
    "#FOR SOIL SWVL1========================================================================================================="
   ]
  },
  {
   "cell_type": "code",
   "execution_count": 24,
   "id": "80aebbe7",
   "metadata": {
    "scrolled": true
   },
   "outputs": [],
   "source": [
    "# Load the NetCDF file\n",
    "input_file = \"Soil.nc\"\n",
    "output_file = \"Soil_swvl1_confirmed.nc\"\n",
    "ds = xr.open_dataset(input_file)\n",
    "#ds"
   ]
  },
  {
   "cell_type": "code",
   "execution_count": 25,
   "id": "e610bd61",
   "metadata": {},
   "outputs": [],
   "source": [
    "# Get the existing coordinates and surface_runoff data\n",
    "lons = ds.longitude.values\n",
    "lats = ds.latitude.values\n",
    "swvl1 = ds.swvl1.values #soil skin layer"
   ]
  },
  {
   "cell_type": "code",
   "execution_count": 26,
   "id": "16543ada",
   "metadata": {},
   "outputs": [],
   "source": [
    "# Create the new grid with 0.25-degree resolution\n",
    "new_lons = np.arange(-14.875, lons.max(), 0.25)#-14.875 is used to resample the coordinates to match both GRACE & rech data\n",
    "new_lats = np.arange(25.125, lats.max(), 0.25)#25.125 is used to resample the coordinates to match both GRACE & rech data\n",
    "new_lons, new_lats = np.meshgrid(new_lons, new_lats)"
   ]
  },
  {
   "cell_type": "code",
   "execution_count": 27,
   "id": "7331db5f",
   "metadata": {},
   "outputs": [],
   "source": [
    "# Create a meshgrid of the original coordinates\n",
    "lons_mesh, lats_mesh = np.meshgrid(lons, lats)"
   ]
  },
  {
   "cell_type": "code",
   "execution_count": 28,
   "id": "f4f96a0d",
   "metadata": {},
   "outputs": [],
   "source": [
    "# Perform the interpolation using griddata\n",
    "new_swvl1 = np.empty((swvl1.shape[0], new_lats.shape[0], new_lons.shape[1]))\n",
    "for t in range(swvl1.shape[0]):\n",
    "    new_swvl1[t] = griddata(\n",
    "        (lons_mesh.ravel(), lats_mesh.ravel()),\n",
    "        swvl1[t].ravel(),\n",
    "        (new_lons, new_lats),\n",
    "        method=\"linear\",\n",
    "        fill_value=np.nan,\n",
    "    )"
   ]
  },
  {
   "cell_type": "code",
   "execution_count": 29,
   "id": "47840875",
   "metadata": {},
   "outputs": [],
   "source": [
    "# Create a new xarray.Dataset with the upscaled data\n",
    "new_ds = xr.Dataset(\n",
    "    {\n",
    "        \"swvl1\": ((\"time\", \"latitude\", \"longitude\"), new_swvl1)\n",
    "    },\n",
    "    coords={\n",
    "        \"time\": ds.time.values,\n",
    "        \"latitude\": ((\"latitude\",), new_lats[:, 0]),\n",
    "        \"longitude\": ((\"longitude\",), new_lons[0, :]),\n",
    "    },\n",
    ")"
   ]
  },
  {
   "cell_type": "code",
   "execution_count": 30,
   "id": "7e5b239f",
   "metadata": {},
   "outputs": [],
   "source": [
    "# Save the upscaled data to a new NetCDF file\n",
    "new_ds.to_netcdf(output_file)"
   ]
  },
  {
   "cell_type": "code",
   "execution_count": 31,
   "id": "2767be3e",
   "metadata": {},
   "outputs": [],
   "source": [
    "#FOR SOIL SWVL2========================================================================================================="
   ]
  },
  {
   "cell_type": "code",
   "execution_count": 32,
   "id": "3eb3a7b7",
   "metadata": {
    "scrolled": true
   },
   "outputs": [],
   "source": [
    "# Load the NetCDF file\n",
    "input_file = \"Soil.nc\"\n",
    "output_file = \"Soil_swvl2_confirmed.nc\"\n",
    "ds = xr.open_dataset(input_file)\n",
    "#ds"
   ]
  },
  {
   "cell_type": "code",
   "execution_count": 33,
   "id": "45ba9436",
   "metadata": {},
   "outputs": [],
   "source": [
    "# Get the existing coordinates and surface_runoff data\n",
    "lons = ds.longitude.values\n",
    "lats = ds.latitude.values\n",
    "swvl2 = ds.swvl2.values #soil skin layer"
   ]
  },
  {
   "cell_type": "code",
   "execution_count": 34,
   "id": "943b03f4",
   "metadata": {},
   "outputs": [],
   "source": [
    "# Create the new grid with 0.25-degree resolution\n",
    "new_lons = np.arange(-14.875, lons.max(), 0.25)#-14.875 is used to resample the coordinates to match both GRACE & rech data\n",
    "new_lats = np.arange(25.125, lats.max(), 0.25)#25.125 is used to resample the coordinates to match both GRACE & rech data\n",
    "new_lons, new_lats = np.meshgrid(new_lons, new_lats)"
   ]
  },
  {
   "cell_type": "code",
   "execution_count": 35,
   "id": "13701665",
   "metadata": {},
   "outputs": [],
   "source": [
    "# Create a meshgrid of the original coordinates\n",
    "lons_mesh, lats_mesh = np.meshgrid(lons, lats)"
   ]
  },
  {
   "cell_type": "code",
   "execution_count": 36,
   "id": "27dd0f03",
   "metadata": {},
   "outputs": [],
   "source": [
    "# Perform the interpolation using griddata\n",
    "new_swvl2 = np.empty((swvl2.shape[0], new_lats.shape[0], new_lons.shape[1]))\n",
    "for t in range(swvl2.shape[0]):\n",
    "    new_swvl2[t] = griddata(\n",
    "        (lons_mesh.ravel(), lats_mesh.ravel()),\n",
    "        swvl2[t].ravel(),\n",
    "        (new_lons, new_lats),\n",
    "        method=\"linear\",\n",
    "        fill_value=np.nan,\n",
    "    )"
   ]
  },
  {
   "cell_type": "code",
   "execution_count": 37,
   "id": "bfb07553",
   "metadata": {},
   "outputs": [],
   "source": [
    "# Create a new xarray.Dataset with the upscaled data\n",
    "new_ds = xr.Dataset(\n",
    "    {\n",
    "        \"swvl2\": ((\"time\", \"latitude\", \"longitude\"), new_swvl2)\n",
    "    },\n",
    "    coords={\n",
    "        \"time\": ds.time.values,\n",
    "        \"latitude\": ((\"latitude\",), new_lats[:, 0]),\n",
    "        \"longitude\": ((\"longitude\",), new_lons[0, :]),\n",
    "    },\n",
    ")"
   ]
  },
  {
   "cell_type": "code",
   "execution_count": 38,
   "id": "90561263",
   "metadata": {},
   "outputs": [],
   "source": [
    "# Save the upscaled data to a new NetCDF file\n",
    "new_ds.to_netcdf(output_file)"
   ]
  },
  {
   "cell_type": "code",
   "execution_count": null,
   "id": "2f0036a9",
   "metadata": {},
   "outputs": [],
   "source": []
  },
  {
   "cell_type": "code",
   "execution_count": 39,
   "id": "324e1b3b",
   "metadata": {},
   "outputs": [],
   "source": [
    "#FOR SOIL SWVL3========================================================================================================="
   ]
  },
  {
   "cell_type": "code",
   "execution_count": 40,
   "id": "8ee2089a",
   "metadata": {
    "scrolled": true
   },
   "outputs": [],
   "source": [
    "# Load the NetCDF file\n",
    "input_file = \"Soil.nc\"\n",
    "output_file = \"Soil_swvl3_confirmed.nc\"\n",
    "ds = xr.open_dataset(input_file)\n",
    "#ds"
   ]
  },
  {
   "cell_type": "code",
   "execution_count": 41,
   "id": "9974eaf4",
   "metadata": {},
   "outputs": [],
   "source": [
    "# Get the existing coordinates and surface_runoff data\n",
    "lons = ds.longitude.values\n",
    "lats = ds.latitude.values\n",
    "swvl3 = ds.swvl3.values #soil skin layer"
   ]
  },
  {
   "cell_type": "code",
   "execution_count": 42,
   "id": "03815039",
   "metadata": {},
   "outputs": [],
   "source": [
    "# Create the new grid with 0.25-degree resolution\n",
    "new_lons = np.arange(-14.875, lons.max(), 0.25)#-14.875 is used to resample the coordinates to match both GRACE & rech data\n",
    "new_lats = np.arange(25.125, lats.max(), 0.25)#25.125 is used to resample the coordinates to match both GRACE & rech data\n",
    "new_lons, new_lats = np.meshgrid(new_lons, new_lats)"
   ]
  },
  {
   "cell_type": "code",
   "execution_count": 43,
   "id": "87c0966b",
   "metadata": {},
   "outputs": [],
   "source": [
    "# Create a meshgrid of the original coordinates\n",
    "lons_mesh, lats_mesh = np.meshgrid(lons, lats)"
   ]
  },
  {
   "cell_type": "code",
   "execution_count": 44,
   "id": "38673539",
   "metadata": {},
   "outputs": [],
   "source": [
    "# Perform the interpolation using griddata\n",
    "new_swvl3 = np.empty((swvl3.shape[0], new_lats.shape[0], new_lons.shape[1]))\n",
    "for t in range(swvl3.shape[0]):\n",
    "    new_swvl3[t] = griddata(\n",
    "        (lons_mesh.ravel(), lats_mesh.ravel()),\n",
    "        swvl3[t].ravel(),\n",
    "        (new_lons, new_lats),\n",
    "        method=\"linear\",\n",
    "        fill_value=np.nan,\n",
    "    )"
   ]
  },
  {
   "cell_type": "code",
   "execution_count": 45,
   "id": "06466a2e",
   "metadata": {},
   "outputs": [],
   "source": [
    "# Create a new xarray.Dataset with the upscaled data\n",
    "new_ds = xr.Dataset(\n",
    "    {\n",
    "        \"swvl3\": ((\"time\", \"latitude\", \"longitude\"), new_swvl3)\n",
    "    },\n",
    "    coords={\n",
    "        \"time\": ds.time.values,\n",
    "        \"latitude\": ((\"latitude\",), new_lats[:, 0]),\n",
    "        \"longitude\": ((\"longitude\",), new_lons[0, :]),\n",
    "    },\n",
    ")"
   ]
  },
  {
   "cell_type": "code",
   "execution_count": 46,
   "id": "3856f8da",
   "metadata": {},
   "outputs": [],
   "source": [
    "# Save the upscaled data to a new NetCDF file\n",
    "new_ds.to_netcdf(output_file)"
   ]
  },
  {
   "cell_type": "code",
   "execution_count": null,
   "id": "397359e3",
   "metadata": {},
   "outputs": [],
   "source": []
  },
  {
   "cell_type": "code",
   "execution_count": 47,
   "id": "fe46a080",
   "metadata": {},
   "outputs": [],
   "source": [
    "#FOR SOIL SWVL4========================================================================================================="
   ]
  },
  {
   "cell_type": "code",
   "execution_count": 48,
   "id": "853efcc3",
   "metadata": {
    "scrolled": true
   },
   "outputs": [],
   "source": [
    "# Load the NetCDF file\n",
    "input_file = \"Soil.nc\"\n",
    "output_file = \"Soil_swvl4_confirmed.nc\"\n",
    "ds = xr.open_dataset(input_file)\n",
    "#ds"
   ]
  },
  {
   "cell_type": "code",
   "execution_count": 49,
   "id": "9c640a50",
   "metadata": {},
   "outputs": [],
   "source": [
    "# Get the existing coordinates and surface_runoff data\n",
    "lons = ds.longitude.values\n",
    "lats = ds.latitude.values\n",
    "swvl4 = ds.swvl4.values #soil skin layer"
   ]
  },
  {
   "cell_type": "code",
   "execution_count": 50,
   "id": "ebe1cf4e",
   "metadata": {},
   "outputs": [],
   "source": [
    "# Create the new grid with 0.25-degree resolution\n",
    "new_lons = np.arange(-14.875, lons.max(), 0.25)#-14.875 is used to resample the coordinates to match both GRACE & rech data\n",
    "new_lats = np.arange(25.125, lats.max(), 0.25)#25.125 is used to resample the coordinates to match both GRACE & rech data\n",
    "new_lons, new_lats = np.meshgrid(new_lons, new_lats)"
   ]
  },
  {
   "cell_type": "code",
   "execution_count": 51,
   "id": "ae8f19d7",
   "metadata": {},
   "outputs": [],
   "source": [
    "# Create a meshgrid of the original coordinates\n",
    "lons_mesh, lats_mesh = np.meshgrid(lons, lats)"
   ]
  },
  {
   "cell_type": "code",
   "execution_count": 52,
   "id": "47f9cb8e",
   "metadata": {},
   "outputs": [],
   "source": [
    "# Perform the interpolation using griddata\n",
    "new_swvl4 = np.empty((swvl4.shape[0], new_lats.shape[0], new_lons.shape[1]))\n",
    "for t in range(swvl4.shape[0]):\n",
    "    new_swvl4[t] = griddata(\n",
    "        (lons_mesh.ravel(), lats_mesh.ravel()),\n",
    "        swvl4[t].ravel(),\n",
    "        (new_lons, new_lats),\n",
    "        method=\"linear\",\n",
    "        fill_value=np.nan,\n",
    "    )"
   ]
  },
  {
   "cell_type": "code",
   "execution_count": 53,
   "id": "6b5ca2ee",
   "metadata": {},
   "outputs": [],
   "source": [
    "# Create a new xarray.Dataset with the upscaled data\n",
    "new_ds = xr.Dataset(\n",
    "    {\n",
    "        \"swvl4\": ((\"time\", \"latitude\", \"longitude\"), new_swvl4)\n",
    "    },\n",
    "    coords={\n",
    "        \"time\": ds.time.values,\n",
    "        \"latitude\": ((\"latitude\",), new_lats[:, 0]),\n",
    "        \"longitude\": ((\"longitude\",), new_lons[0, :]),\n",
    "    },\n",
    ")"
   ]
  },
  {
   "cell_type": "code",
   "execution_count": 54,
   "id": "d2426c14",
   "metadata": {},
   "outputs": [],
   "source": [
    "# Save the upscaled data to a new NetCDF file\n",
    "new_ds.to_netcdf(output_file)"
   ]
  },
  {
   "cell_type": "code",
   "execution_count": null,
   "id": "04d46aee",
   "metadata": {},
   "outputs": [],
   "source": []
  },
  {
   "cell_type": "code",
   "execution_count": 55,
   "id": "c4effbac",
   "metadata": {},
   "outputs": [],
   "source": [
    "#FOR SNOW WATER EQUIVALENT========================================================================================================="
   ]
  },
  {
   "cell_type": "code",
   "execution_count": 56,
   "id": "935f03f8",
   "metadata": {
    "scrolled": true
   },
   "outputs": [],
   "source": [
    "# Load the NetCDF file\n",
    "input_file = \"Snow_depth.nc\"\n",
    "output_file = \"Snow_water_confirmed.nc\"\n",
    "ds = xr.open_dataset(input_file)\n",
    "#ds"
   ]
  },
  {
   "cell_type": "code",
   "execution_count": 57,
   "id": "b79bfe79",
   "metadata": {},
   "outputs": [],
   "source": [
    "# Get the existing coordinates and surface_runoff data\n",
    "lons = ds.longitude.values\n",
    "lats = ds.latitude.values\n",
    "sd = ds.sd.values #soil skin layer"
   ]
  },
  {
   "cell_type": "code",
   "execution_count": 58,
   "id": "92b810b5",
   "metadata": {},
   "outputs": [],
   "source": [
    "# Create the new grid with 0.25-degree resolution\n",
    "new_lons = np.arange(-14.875, lons.max(), 0.25)#-14.875 is used to resample the coordinates to match both GRACE & rech data\n",
    "new_lats = np.arange(25.125, lats.max(), 0.25)#25.125 is used to resample the coordinates to match both GRACE & rech data\n",
    "new_lons, new_lats = np.meshgrid(new_lons, new_lats)"
   ]
  },
  {
   "cell_type": "code",
   "execution_count": 59,
   "id": "038c92dd",
   "metadata": {},
   "outputs": [],
   "source": [
    "# Create a meshgrid of the original coordinates\n",
    "lons_mesh, lats_mesh = np.meshgrid(lons, lats)"
   ]
  },
  {
   "cell_type": "code",
   "execution_count": 60,
   "id": "6166692b",
   "metadata": {},
   "outputs": [],
   "source": [
    "# Perform the interpolation using griddata\n",
    "new_sd = np.empty((sd.shape[0], new_lats.shape[0], new_lons.shape[1]))\n",
    "for t in range(sd.shape[0]):\n",
    "    new_sd[t] = griddata(\n",
    "        (lons_mesh.ravel(), lats_mesh.ravel()),\n",
    "        sd[t].ravel(),\n",
    "        (new_lons, new_lats),\n",
    "        method=\"linear\",\n",
    "        fill_value=np.nan,\n",
    "    )"
   ]
  },
  {
   "cell_type": "code",
   "execution_count": 61,
   "id": "3c75fed5",
   "metadata": {},
   "outputs": [],
   "source": [
    "# Create a new xarray.Dataset with the upscaled data\n",
    "new_ds = xr.Dataset(\n",
    "    {\n",
    "        \"sd\": ((\"time\", \"latitude\", \"longitude\"), new_sd)\n",
    "    },\n",
    "    coords={\n",
    "        \"time\": ds.time.values,\n",
    "        \"latitude\": ((\"latitude\",), new_lats[:, 0]),\n",
    "        \"longitude\": ((\"longitude\",), new_lons[0, :]),\n",
    "    },\n",
    ")"
   ]
  },
  {
   "cell_type": "code",
   "execution_count": 62,
   "id": "63bc3349",
   "metadata": {},
   "outputs": [],
   "source": [
    "# Save the upscaled data to a new NetCDF file\n",
    "new_ds.to_netcdf(output_file)"
   ]
  },
  {
   "cell_type": "code",
   "execution_count": null,
   "id": "2f05ad9e",
   "metadata": {},
   "outputs": [],
   "source": []
  },
  {
   "cell_type": "code",
   "execution_count": null,
   "id": "88fecfe0",
   "metadata": {},
   "outputs": [],
   "source": []
  }
 ],
 "metadata": {
  "kernelspec": {
   "display_name": "Python 3 (ipykernel)",
   "language": "python",
   "name": "python3"
  },
  "language_info": {
   "codemirror_mode": {
    "name": "ipython",
    "version": 3
   },
   "file_extension": ".py",
   "mimetype": "text/x-python",
   "name": "python",
   "nbconvert_exporter": "python",
   "pygments_lexer": "ipython3",
   "version": "3.9.13"
  }
 },
 "nbformat": 4,
 "nbformat_minor": 5
}
