{
 "cells": [
  {
   "cell_type": "code",
   "execution_count": null,
   "id": "d72f67fd",
   "metadata": {},
   "outputs": [],
   "source": [
    "import netCDF4\n",
    "import xarray as xr\n",
    "import numpy as np\n",
    "import pandas as pd\n",
    "import matplotlib as plt\n",
    "import matplotlib.pyplot as plt\n",
    "from datetime import datetime, timedelta # load datetime module\n",
    "import cartopy.crs as ccrs"
   ]
  },
  {
   "cell_type": "code",
   "execution_count": null,
   "id": "cfafcba7",
   "metadata": {},
   "outputs": [],
   "source": [
    "# Opened the netCDF file and get the latitude and longitude variables\n",
    "nc_file = netCDF4.Dataset('Surface_runoff_upscaled.nc')\n",
    "lat_var = nc_file.variables['lat']\n",
    "lon_var = nc_file.variables['lon']\n"
   ]
  },
  {
   "cell_type": "code",
   "execution_count": null,
   "id": "f34df77d",
   "metadata": {
    "scrolled": true
   },
   "outputs": [],
   "source": [
    "# Loaded the latitude and longitude values into numpy arrays\n",
    "lat_values = lat_var[:]\n",
    "lon_values = lon_var[:]"
   ]
  },
  {
   "cell_type": "code",
   "execution_count": null,
   "id": "8e2bed1e",
   "metadata": {},
   "outputs": [],
   "source": [
    "# Loaded the selected latitude and longitude values from the dataframe\n",
    "df = pd.read_csv('data.csv', header=None)\n",
    "selected_lat = df[0][:].values\n",
    "selected_lon = df[1][:].values"
   ]
  },
  {
   "cell_type": "code",
   "execution_count": null,
   "id": "e5e53716",
   "metadata": {},
   "outputs": [],
   "source": [
    "#selected_lon[selected_lon < 0] += 360"
   ]
  },
  {
   "cell_type": "code",
   "execution_count": null,
   "id": "15c267a2",
   "metadata": {},
   "outputs": [],
   "source": [
    "# Createed a map plot with cartopy and matplotlib\n",
    "fig = plt.figure(figsize=(12, 6))\n",
    "ax = fig.add_subplot(1, 1, 1, projection=ccrs.PlateCarree())\n",
    "\n",
    "# Added coastlines and gridlines\n",
    "ax.coastlines()\n",
    "ax.gridlines(draw_labels=True, linestyle='--')\n",
    "\n",
    "# Plotted the longitude and latitude points on the map\n",
    "ax.scatter(selected_lon, selected_lat, color='red', marker='o', transform=ccrs.PlateCarree())\n",
    "\n",
    "# Showed the plot\n",
    "plt.show()"
   ]
  },
  {
   "cell_type": "code",
   "execution_count": null,
   "id": "2e270314",
   "metadata": {},
   "outputs": [],
   "source": [
    "# Found the indices of the latitude and longitude values that are closest to the selected values\n",
    "lat_idx = np.abs(lat_values - selected_lat[:, np.newaxis]).argmin(axis=1)\n",
    "lon_idx = np.abs(lon_values - selected_lon[:, np.newaxis]).argmin(axis=1)"
   ]
  },
  {
   "cell_type": "code",
   "execution_count": null,
   "id": "7b427da9",
   "metadata": {},
   "outputs": [],
   "source": [
    "Newdf = pd.DataFrame([])"
   ]
  },
  {
   "cell_type": "code",
   "execution_count": null,
   "id": "acd6a14e",
   "metadata": {},
   "outputs": [],
   "source": [
    "point_list = zip(selected_lat,selected_lon)"
   ]
  },
  {
   "cell_type": "code",
   "execution_count": null,
   "id": "0dcebc42",
   "metadata": {},
   "outputs": [],
   "source": [
    "ds = xr.open_dataset('Surface_runoff_upscaled.nc')"
   ]
  },
  {
   "cell_type": "code",
   "execution_count": null,
   "id": "f2e9b799",
   "metadata": {},
   "outputs": [],
   "source": [
    "# Defined the latitude and longitude index points\n",
    "lat_indexes = lat_idx  # Replace with your latitude index points\n",
    "lon_indexes = lon_idx  # Replace with your longitude index points\n",
    "\n",
    "# Created an empty DataFrame to store the extracted data\n",
    "columns = ['lat', 'lon'] + [f'surface_runoff_{i}' for i in range(3, 216)]\n",
    "df = pd.DataFrame(columns=columns)\n",
    "\n",
    "# Iterated over the specified lat and lon index pairs\n",
    "for lat_idx, lon_idx in zip(lat_indexes, lon_indexes):\n",
    "    lat = ds['lat'][lat_idx].values\n",
    "    lon = ds['lon'][lon_idx].values\n",
    "\n",
    "    # Extracted lwe_thickness for the specified indexes and lat-lon pair\n",
    "    surface_runoff_values = ds['sro'][3:216, lat_idx, lon_idx].values\n",
    "\n",
    "    # Stored the extracted data in the DataFrame\n",
    "    data = {'lat': lat, 'lon': lon, **{f'surface_runoff_{i}': val for i, val in zip(range(3, 216), surface_runoff_values)}}\n",
    "    df = df.append(data, ignore_index=True)\n",
    "\n",
    "# Saved the DataFrame to a CSV file\n",
    "df.to_csv('surface_runoff.csv', index=False)"
   ]
  },
  {
   "cell_type": "code",
   "execution_count": null,
   "id": "cf7f9fd4",
   "metadata": {},
   "outputs": [],
   "source": []
  },
  {
   "cell_type": "code",
   "execution_count": null,
   "id": "31fc8e81",
   "metadata": {},
   "outputs": [],
   "source": [
    "#======================================================SNOW WATER EQUIVALENT========================================="
   ]
  },
  {
   "cell_type": "code",
   "execution_count": null,
   "id": "64d2ba7b",
   "metadata": {},
   "outputs": [],
   "source": [
    "# Opened the netCDF file and get the latitude and longitude variables\n",
    "nc_file = netCDF4.Dataset('Snow_depth_upscaled.nc')\n",
    "lat_var = nc_file.variables['lat']\n",
    "lon_var = nc_file.variables['lon']\n"
   ]
  },
  {
   "cell_type": "code",
   "execution_count": null,
   "id": "4b2ba570",
   "metadata": {
    "scrolled": true
   },
   "outputs": [],
   "source": [
    "# Loaded the latitude and longitude values into numpy arrays\n",
    "lat_values = lat_var[:]\n",
    "lon_values = lon_var[:]"
   ]
  },
  {
   "cell_type": "code",
   "execution_count": null,
   "id": "465eb96a",
   "metadata": {},
   "outputs": [],
   "source": [
    "# Loaded the selected latitude and longitude values from the dataframe\n",
    "df = pd.read_csv('data.csv', header=None)\n",
    "selected_lat = df[0][:].values\n",
    "selected_lon = df[1][:].values"
   ]
  },
  {
   "cell_type": "code",
   "execution_count": null,
   "id": "b6c54800",
   "metadata": {},
   "outputs": [],
   "source": [
    "#selected_lon[selected_lon < 0] += 360"
   ]
  },
  {
   "cell_type": "code",
   "execution_count": null,
   "id": "5769f491",
   "metadata": {},
   "outputs": [],
   "source": [
    "np.set_printoptions(threshold=np.inf)"
   ]
  },
  {
   "cell_type": "code",
   "execution_count": null,
   "id": "6fe42954",
   "metadata": {},
   "outputs": [],
   "source": [
    "# Created a map plot with cartopy and matplotlib\n",
    "fig = plt.figure(figsize=(12, 6))\n",
    "ax = fig.add_subplot(1, 1, 1, projection=ccrs.PlateCarree())\n",
    "\n",
    "# Added coastlines and gridlines\n",
    "ax.coastlines()\n",
    "ax.gridlines(draw_labels=True, linestyle='--')\n",
    "\n",
    "# Plotted the longitude and latitude points on the map\n",
    "ax.scatter(selected_lon, selected_lat, color='red', marker='o', transform=ccrs.PlateCarree())\n",
    "\n",
    "# Showed the plot\n",
    "plt.show()"
   ]
  },
  {
   "cell_type": "code",
   "execution_count": null,
   "id": "fc9e4931",
   "metadata": {},
   "outputs": [],
   "source": [
    "# Found the indices of the latitude and longitude values that are closest to the selected values\n",
    "lat_idx = np.abs(lat_values - selected_lat[:, np.newaxis]).argmin(axis=1)\n",
    "lon_idx = np.abs(lon_values - selected_lon[:, np.newaxis]).argmin(axis=1)"
   ]
  },
  {
   "cell_type": "code",
   "execution_count": null,
   "id": "d02fb1c6",
   "metadata": {},
   "outputs": [],
   "source": [
    "lat_idx"
   ]
  },
  {
   "cell_type": "code",
   "execution_count": null,
   "id": "3ecb4237",
   "metadata": {},
   "outputs": [],
   "source": [
    "lon_idx"
   ]
  },
  {
   "cell_type": "code",
   "execution_count": null,
   "id": "1e607dd6",
   "metadata": {},
   "outputs": [],
   "source": [
    "Newdf = pd.DataFrame([])"
   ]
  },
  {
   "cell_type": "code",
   "execution_count": null,
   "id": "1a3524e7",
   "metadata": {},
   "outputs": [],
   "source": [
    "point_list = zip(selected_lat,selected_lon)"
   ]
  },
  {
   "cell_type": "code",
   "execution_count": null,
   "id": "512b294b",
   "metadata": {},
   "outputs": [],
   "source": [
    "ds = xr.open_dataset('Snow_depth_upscaled.nc')"
   ]
  },
  {
   "cell_type": "code",
   "execution_count": null,
   "id": "b2bd5733",
   "metadata": {},
   "outputs": [],
   "source": [
    "# Defined the latitude and longitude index points\n",
    "lat_indexes = lat_idx  # Replace with your latitude index points\n",
    "lon_indexes = lon_idx  # Replace with your longitude index points\n",
    "\n",
    "# Created an empty DataFrame to store the extracted data\n",
    "columns = ['lat', 'lon'] + [f'sd_{i}' for i in range(3, 216)]\n",
    "df = pd.DataFrame(columns=columns)\n",
    "\n",
    "# Iterated over the specified lat and lon index pairs\n",
    "for lat_idx, lon_idx in zip(lat_indexes, lon_indexes):\n",
    "    lat = ds['lat'][lat_idx].values\n",
    "    lon = ds['lon'][lon_idx].values\n",
    "\n",
    "    # Extracted lwe_thickness for the specified indexes and lat-lon pair\n",
    "    sd_values = ds['sd'][3:216, lat_idx, lon_idx].values\n",
    "\n",
    "    # Stored the extracted data in the DataFrame\n",
    "    data = {'lat': lat, 'lon': lon, **{f'sd_{i}': val for i, val in zip(range(3, 216), sd_values)}}\n",
    "    df = df.append(data, ignore_index=True)\n",
    "\n",
    "# Saved the DataFrame to a CSV file\n",
    "df.to_csv('Snow_water.csv', index=False)"
   ]
  },
  {
   "cell_type": "code",
   "execution_count": null,
   "id": "a131c3f9",
   "metadata": {},
   "outputs": [],
   "source": []
  },
  {
   "cell_type": "code",
   "execution_count": null,
   "id": "60196625",
   "metadata": {},
   "outputs": [],
   "source": [
    "#SOIL WATER SKIN DEPTH========================================================================================================"
   ]
  },
  {
   "cell_type": "code",
   "execution_count": null,
   "id": "32702e0f",
   "metadata": {},
   "outputs": [],
   "source": [
    "# Opened the netCDF file and get the latitude and longitude variables\n",
    "nc_file = netCDF4.Dataset('Soil_upscaled.nc')\n",
    "lat_var = nc_file.variables['lat']\n",
    "lon_var = nc_file.variables['lon']"
   ]
  },
  {
   "cell_type": "code",
   "execution_count": null,
   "id": "be0d63c6",
   "metadata": {
    "scrolled": true
   },
   "outputs": [],
   "source": [
    "# Loaded the latitude and longitude values into numpy arrays\n",
    "lat_values = lat_var[:]\n",
    "lon_values = lon_var[:]"
   ]
  },
  {
   "cell_type": "code",
   "execution_count": null,
   "id": "acc5fbd6",
   "metadata": {},
   "outputs": [],
   "source": [
    "# Loaded the selected latitude and longitude values from the dataframe\n",
    "df = pd.read_csv('data.csv', header=None)\n",
    "selected_lat = df[0][:].values\n",
    "selected_lon = df[1][:].values"
   ]
  },
  {
   "cell_type": "code",
   "execution_count": null,
   "id": "7d7256a1",
   "metadata": {},
   "outputs": [],
   "source": [
    "selected_lon"
   ]
  },
  {
   "cell_type": "code",
   "execution_count": null,
   "id": "f0e607bf",
   "metadata": {},
   "outputs": [],
   "source": [
    "# Createed a map plot with cartopy and matplotlib\n",
    "fig = plt.figure(figsize=(12, 6))\n",
    "ax = fig.add_subplot(1, 1, 1, projection=ccrs.PlateCarree())\n",
    "\n",
    "# Added coastlines and gridlines\n",
    "ax.coastlines()\n",
    "ax.gridlines(draw_labels=True, linestyle='--')\n",
    "\n",
    "# Plotted the longitude and latitude points on the map\n",
    "ax.scatter(selected_lon, selected_lat, color='red', marker='o', transform=ccrs.PlateCarree())\n",
    "\n",
    "# Show the plot\n",
    "plt.show()"
   ]
  },
  {
   "cell_type": "code",
   "execution_count": null,
   "id": "c379e8e0",
   "metadata": {},
   "outputs": [],
   "source": [
    "# Found the indices of the latitude and longitude values that are closest to the selected values\n",
    "lat_idx = np.abs(lat_values - selected_lat[:, np.newaxis]).argmin(axis=1)\n",
    "lon_idx = np.abs(lon_values - selected_lon[:, np.newaxis]).argmin(axis=1)"
   ]
  },
  {
   "cell_type": "code",
   "execution_count": null,
   "id": "a1eae36f",
   "metadata": {},
   "outputs": [],
   "source": [
    "lat_idx"
   ]
  },
  {
   "cell_type": "code",
   "execution_count": null,
   "id": "5008d9a8",
   "metadata": {},
   "outputs": [],
   "source": [
    "lon_idx"
   ]
  },
  {
   "cell_type": "code",
   "execution_count": null,
   "id": "363867d8",
   "metadata": {},
   "outputs": [],
   "source": [
    "Newdf = pd.DataFrame([])"
   ]
  },
  {
   "cell_type": "code",
   "execution_count": null,
   "id": "ae1eb989",
   "metadata": {},
   "outputs": [],
   "source": [
    "point_list = zip(selected_lat,selected_lon)"
   ]
  },
  {
   "cell_type": "code",
   "execution_count": null,
   "id": "339651cc",
   "metadata": {},
   "outputs": [],
   "source": [
    "ds = xr.open_dataset('Soil_upscaled.nc')"
   ]
  },
  {
   "cell_type": "code",
   "execution_count": null,
   "id": "12d857df",
   "metadata": {},
   "outputs": [],
   "source": [
    "# Defined the latitude and longitude index points\n",
    "lat_indexes = lat_idx  # Replace with your latitude index points\n",
    "lon_indexes = lon_idx  # Replace with your longitude index points\n",
    "\n",
    "# Created an empty DataFrame to store the extracted data\n",
    "columns = ['lat', 'lon'] + [f'src_{i}' for i in range(3, 216)]\n",
    "df = pd.DataFrame(columns=columns)\n",
    "\n",
    "# Iterated over the specified lat and lon index pairs\n",
    "for lat_idx, lon_idx in zip(lat_indexes, lon_indexes):\n",
    "    lat = ds['lat'][lat_idx].values\n",
    "    lon = ds['lon'][lon_idx].values\n",
    "\n",
    "    # Extracted lwe_thickness for the specified indexes and lat-lon pair\n",
    "    src_values = ds['src'][3:216, lat_idx, lon_idx].values\n",
    "\n",
    "    # Stored the extracted data in the DataFrame\n",
    "    data = {'lat': lat, 'lon': lon, **{f'src_{i}': val for i, val in zip(range(3, 216), src_values)}}\n",
    "    df = df.append(data, ignore_index=True)\n",
    "\n",
    "# Save the DataFrame to a CSV file\n",
    "df.to_csv('Soil_src.csv', index=False)"
   ]
  },
  {
   "cell_type": "code",
   "execution_count": null,
   "id": "0e218531",
   "metadata": {},
   "outputs": [],
   "source": [
    "#SOIL WATER SWLI========================================================================================================"
   ]
  },
  {
   "cell_type": "code",
   "execution_count": null,
   "id": "c198bf6f",
   "metadata": {},
   "outputs": [],
   "source": [
    "# Opened the netCDF file and get the latitude and longitude variables\n",
    "nc_file = netCDF4.Dataset('Soil_upscaled.nc')\n",
    "lat_var = nc_file.variables['lat']\n",
    "lon_var = nc_file.variables['lon']"
   ]
  },
  {
   "cell_type": "code",
   "execution_count": null,
   "id": "0c089e3d",
   "metadata": {
    "scrolled": true
   },
   "outputs": [],
   "source": [
    "# Loaded the latitude and longitude values into numpy arrays\n",
    "lat_values = lat_var[:]\n",
    "lon_values = lon_var[:]"
   ]
  },
  {
   "cell_type": "code",
   "execution_count": null,
   "id": "f5d62e76",
   "metadata": {},
   "outputs": [],
   "source": [
    "# Loaded the selected latitude and longitude values from the dataframe\n",
    "df = pd.read_csv('data.csv', header=None)\n",
    "selected_lat = df[0][:].values\n",
    "selected_lon = df[1][:].values"
   ]
  },
  {
   "cell_type": "code",
   "execution_count": null,
   "id": "a17544c8",
   "metadata": {},
   "outputs": [],
   "source": [
    "# Created a map plot with cartopy and matplotlib\n",
    "fig = plt.figure(figsize=(12, 6))\n",
    "ax = fig.add_subplot(1, 1, 1, projection=ccrs.PlateCarree())\n",
    "\n",
    "# Added coastlines and gridlines\n",
    "ax.coastlines()\n",
    "ax.gridlines(draw_labels=True, linestyle='--')\n",
    "\n",
    "# Plotted the longitude and latitude points on the map\n",
    "ax.scatter(selected_lon, selected_lat, color='red', marker='o', transform=ccrs.PlateCarree())\n",
    "\n",
    "# Showed the plot\n",
    "plt.show()"
   ]
  },
  {
   "cell_type": "code",
   "execution_count": null,
   "id": "b1d48593",
   "metadata": {},
   "outputs": [],
   "source": [
    "# Found the indices of the latitude and longitude values that are closest to the selected values\n",
    "lat_idx = np.abs(lat_values - selected_lat[:, np.newaxis]).argmin(axis=1)\n",
    "lon_idx = np.abs(lon_values - selected_lon[:, np.newaxis]).argmin(axis=1)"
   ]
  },
  {
   "cell_type": "code",
   "execution_count": null,
   "id": "99cdd648",
   "metadata": {},
   "outputs": [],
   "source": [
    "lat_idx"
   ]
  },
  {
   "cell_type": "code",
   "execution_count": null,
   "id": "8129e340",
   "metadata": {},
   "outputs": [],
   "source": [
    "lon_idx"
   ]
  },
  {
   "cell_type": "code",
   "execution_count": null,
   "id": "ab3f88c9",
   "metadata": {},
   "outputs": [],
   "source": [
    "Newdf = pd.DataFrame([])"
   ]
  },
  {
   "cell_type": "code",
   "execution_count": null,
   "id": "705bb30d",
   "metadata": {},
   "outputs": [],
   "source": [
    "point_list = zip(selected_lat,selected_lon)"
   ]
  },
  {
   "cell_type": "code",
   "execution_count": null,
   "id": "5a809e06",
   "metadata": {},
   "outputs": [],
   "source": [
    "ds = xr.open_dataset('Soil_upscaled.nc')"
   ]
  },
  {
   "cell_type": "code",
   "execution_count": null,
   "id": "68943236",
   "metadata": {},
   "outputs": [],
   "source": [
    "# Defined the latitude and longitude index points\n",
    "lat_indexes = lat_idx  # Replace with your latitude index points\n",
    "lon_indexes = lon_idx  # Replace with your longitude index points\n",
    "\n",
    "# Created an empty DataFrame to store the extracted data\n",
    "columns = ['lat', 'lon'] + [f'swl1_{i}' for i in range(3, 216)]\n",
    "df = pd.DataFrame(columns=columns)\n",
    "\n",
    "# Iterated over the specified lat and lon index pairs\n",
    "for lat_idx, lon_idx in zip(lat_indexes, lon_indexes):\n",
    "    lat = ds['lat'][lat_idx].values\n",
    "    lon = ds['lon'][lon_idx].values\n",
    "\n",
    "    # Extracted lwe_thickness for the specified indexes and lat-lon pair\n",
    "    swl1_values = ds['swvl1'][3:216, lat_idx, lon_idx].values\n",
    "\n",
    "    # Stored the extracted data in the DataFrame\n",
    "    data = {'lat': lat, 'lon': lon, **{f'swl1_{i}': val for i, val in zip(range(3, 216), swl1_values)}}\n",
    "    df = df.append(data, ignore_index=True)\n",
    "\n",
    "# Saved the DataFrame to a CSV file\n",
    "df.to_csv('Soil_swl1.csv', index=False)"
   ]
  },
  {
   "cell_type": "code",
   "execution_count": null,
   "id": "db32d619",
   "metadata": {},
   "outputs": [],
   "source": []
  },
  {
   "cell_type": "code",
   "execution_count": null,
   "id": "5536e205",
   "metadata": {},
   "outputs": [],
   "source": [
    "#SOIL WATER SWL2========================================================================================================"
   ]
  },
  {
   "cell_type": "code",
   "execution_count": null,
   "id": "596f5aba",
   "metadata": {},
   "outputs": [],
   "source": [
    "# Opened the netCDF file and get the latitude and longitude variables\n",
    "nc_file = netCDF4.Dataset('Soil_upscaled.nc')\n",
    "lat_var = nc_file.variables['lat']\n",
    "lon_var = nc_file.variables['lon']"
   ]
  },
  {
   "cell_type": "code",
   "execution_count": null,
   "id": "99048a02",
   "metadata": {
    "scrolled": true
   },
   "outputs": [],
   "source": [
    "# Loaded the latitude and longitude values into numpy arrays\n",
    "lat_values = lat_var[:]\n",
    "lon_values = lon_var[:]"
   ]
  },
  {
   "cell_type": "code",
   "execution_count": null,
   "id": "91c07276",
   "metadata": {},
   "outputs": [],
   "source": [
    "# Loaded the selected latitude and longitude values from the dataframe\n",
    "df = pd.read_csv('data.csv', header=None)\n",
    "selected_lat = df[0][:].values\n",
    "selected_lon = df[1][:].values"
   ]
  },
  {
   "cell_type": "code",
   "execution_count": null,
   "id": "954ec3c0",
   "metadata": {},
   "outputs": [],
   "source": [
    "# Createed a map plot with cartopy and matplotlib\n",
    "fig = plt.figure(figsize=(12, 6))\n",
    "ax = fig.add_subplot(1, 1, 1, projection=ccrs.PlateCarree())\n",
    "\n",
    "# Added coastlines and gridlines\n",
    "ax.coastlines()\n",
    "ax.gridlines(draw_labels=True, linestyle='--')\n",
    "\n",
    "# Plotted the longitude and latitude points on the map\n",
    "ax.scatter(selected_lon, selected_lat, color='red', marker='o', transform=ccrs.PlateCarree())\n",
    "\n",
    "# Showed the plot\n",
    "plt.show()"
   ]
  },
  {
   "cell_type": "code",
   "execution_count": null,
   "id": "3f68a9d5",
   "metadata": {},
   "outputs": [],
   "source": [
    "# Find the indices of the latitude and longitude values that are closest to the selected values\n",
    "lat_idx = np.abs(lat_values - selected_lat[:, np.newaxis]).argmin(axis=1)\n",
    "lon_idx = np.abs(lon_values - selected_lon[:, np.newaxis]).argmin(axis=1)"
   ]
  },
  {
   "cell_type": "code",
   "execution_count": null,
   "id": "ea8919e3",
   "metadata": {},
   "outputs": [],
   "source": [
    "lat_idx"
   ]
  },
  {
   "cell_type": "code",
   "execution_count": null,
   "id": "ec3e5621",
   "metadata": {},
   "outputs": [],
   "source": [
    "lon_idx"
   ]
  },
  {
   "cell_type": "code",
   "execution_count": null,
   "id": "7d293cb0",
   "metadata": {},
   "outputs": [],
   "source": [
    "Newdf = pd.DataFrame([])"
   ]
  },
  {
   "cell_type": "code",
   "execution_count": null,
   "id": "389e6359",
   "metadata": {},
   "outputs": [],
   "source": [
    "point_list = zip(selected_lat,selected_lon)"
   ]
  },
  {
   "cell_type": "code",
   "execution_count": null,
   "id": "5f69a82a",
   "metadata": {},
   "outputs": [],
   "source": [
    "ds = xr.open_dataset('Soil_upscaled.nc')"
   ]
  },
  {
   "cell_type": "code",
   "execution_count": null,
   "id": "3225e16e",
   "metadata": {},
   "outputs": [],
   "source": [
    "# Defined the latitude and longitude index points\n",
    "lat_indexes = lat_idx  # Replace with your latitude index points\n",
    "lon_indexes = lon_idx  # Replace with your longitude index points\n",
    "\n",
    "# Created an empty DataFrame to store the extracted data\n",
    "columns = ['lat', 'lon'] + [f'swl2_{i}' for i in range(3, 216)]\n",
    "df = pd.DataFrame(columns=columns)\n",
    "\n",
    "# Iterated over the specified lat and lon index pairs\n",
    "for lat_idx, lon_idx in zip(lat_indexes, lon_indexes):\n",
    "    lat = ds['lat'][lat_idx].values\n",
    "    lon = ds['lon'][lon_idx].values\n",
    "\n",
    "    # Extracted lwe_thickness for the specified indexes and lat-lon pair\n",
    "    swl2_values = ds['swvl2'][3:216, lat_idx, lon_idx].values\n",
    "\n",
    "    # Stored the extracted data in the DataFrame\n",
    "    data = {'lat': lat, 'lon': lon, **{f'swl2_{i}': val for i, val in zip(range(3, 216), swl2_values)}}\n",
    "    df = df.append(data, ignore_index=True)\n",
    "\n",
    "# Saved the DataFrame to a CSV file\n",
    "df.to_csv('Soil_swl2.csv', index=False)"
   ]
  },
  {
   "cell_type": "code",
   "execution_count": null,
   "id": "d5eedc00",
   "metadata": {},
   "outputs": [],
   "source": []
  },
  {
   "cell_type": "code",
   "execution_count": null,
   "id": "aca7d5bb",
   "metadata": {},
   "outputs": [],
   "source": [
    "#SOIL WATER SWL3========================================================================================================"
   ]
  },
  {
   "cell_type": "code",
   "execution_count": null,
   "id": "e0d551d6",
   "metadata": {},
   "outputs": [],
   "source": [
    "# Opened the netCDF file and get the latitude and longitude variables\n",
    "nc_file = netCDF4.Dataset('Soil_upscaled.nc')\n",
    "lat_var = nc_file.variables['lat']\n",
    "lon_var = nc_file.variables['lon']"
   ]
  },
  {
   "cell_type": "code",
   "execution_count": null,
   "id": "a3b864c2",
   "metadata": {
    "scrolled": true
   },
   "outputs": [],
   "source": [
    "# Loaded the latitude and longitude values into numpy arrays\n",
    "lat_values = lat_var[:]\n",
    "lon_values = lon_var[:]"
   ]
  },
  {
   "cell_type": "code",
   "execution_count": null,
   "id": "7d102dd7",
   "metadata": {},
   "outputs": [],
   "source": [
    "# Loaded the selected latitude and longitude values from the dataframe\n",
    "df = pd.read_csv('data.csv', header=None)\n",
    "selected_lat = df[0][:].values\n",
    "selected_lon = df[1][:].values"
   ]
  },
  {
   "cell_type": "code",
   "execution_count": null,
   "id": "0a40f027",
   "metadata": {},
   "outputs": [],
   "source": [
    "selected_lon"
   ]
  },
  {
   "cell_type": "code",
   "execution_count": null,
   "id": "ad2b6d07",
   "metadata": {},
   "outputs": [],
   "source": [
    "# Created a map plot with cartopy and matplotlib\n",
    "fig = plt.figure(figsize=(12, 6))\n",
    "ax = fig.add_subplot(1, 1, 1, projection=ccrs.PlateCarree())\n",
    "\n",
    "# Added coastlines and gridlines\n",
    "ax.coastlines()\n",
    "ax.gridlines(draw_labels=True, linestyle='--')\n",
    "\n",
    "# Plotted the longitude and latitude points on the map\n",
    "ax.scatter(selected_lon, selected_lat, color='red', marker='o', transform=ccrs.PlateCarree())\n",
    "\n",
    "# Showed the plot\n",
    "plt.show()"
   ]
  },
  {
   "cell_type": "code",
   "execution_count": null,
   "id": "c66fe416",
   "metadata": {},
   "outputs": [],
   "source": [
    "# Found the indices of the latitude and longitude values that are closest to the selected values\n",
    "lat_idx = np.abs(lat_values - selected_lat[:, np.newaxis]).argmin(axis=1)\n",
    "lon_idx = np.abs(lon_values - selected_lon[:, np.newaxis]).argmin(axis=1)"
   ]
  },
  {
   "cell_type": "code",
   "execution_count": null,
   "id": "adec3207",
   "metadata": {},
   "outputs": [],
   "source": [
    "lat_idx"
   ]
  },
  {
   "cell_type": "code",
   "execution_count": null,
   "id": "953994f1",
   "metadata": {},
   "outputs": [],
   "source": [
    "lon_idx"
   ]
  },
  {
   "cell_type": "code",
   "execution_count": null,
   "id": "e944f249",
   "metadata": {},
   "outputs": [],
   "source": [
    "Newdf = pd.DataFrame([])"
   ]
  },
  {
   "cell_type": "code",
   "execution_count": null,
   "id": "d03448e6",
   "metadata": {},
   "outputs": [],
   "source": [
    "point_list = zip(selected_lat,selected_lon)"
   ]
  },
  {
   "cell_type": "code",
   "execution_count": null,
   "id": "6e52126a",
   "metadata": {},
   "outputs": [],
   "source": [
    "ds = xr.open_dataset('Soil_upscaled.nc')"
   ]
  },
  {
   "cell_type": "code",
   "execution_count": null,
   "id": "12982c1e",
   "metadata": {},
   "outputs": [],
   "source": [
    "# Defined the latitude and longitude index points\n",
    "lat_indexes = lat_idx  # Replace with your latitude index points\n",
    "lon_indexes = lon_idx  # Replace with your longitude index points\n",
    "\n",
    "# Created an empty DataFrame to store the extracted data\n",
    "columns = ['lat', 'lon'] + [f'swl3_{i}' for i in range(3, 216)]\n",
    "df = pd.DataFrame(columns=columns)\n",
    "\n",
    "# Iterated over the specified lat and lon index pairs\n",
    "for lat_idx, lon_idx in zip(lat_indexes, lon_indexes):\n",
    "    lat = ds['lat'][lat_idx].values\n",
    "    lon = ds['lon'][lon_idx].values\n",
    "\n",
    "    # Extracted lwe_thickness for the specified indexes and lat-lon pair\n",
    "    swl3_values = ds['swvl3'][3:216, lat_idx, lon_idx].values\n",
    "\n",
    "    # Stored the extracted data in the DataFrame\n",
    "    data = {'lat': lat, 'lon': lon, **{f'swl3_{i}': val for i, val in zip(range(3, 216), swl3_values)}}\n",
    "    df = df.append(data, ignore_index=True)\n",
    "\n",
    "# Saved the DataFrame to a CSV file\n",
    "df.to_csv('Soil_swl3.csv', index=False)"
   ]
  },
  {
   "cell_type": "code",
   "execution_count": null,
   "id": "503936d3",
   "metadata": {
    "scrolled": true
   },
   "outputs": [],
   "source": [
    "df"
   ]
  },
  {
   "cell_type": "code",
   "execution_count": null,
   "id": "5ab03e33",
   "metadata": {},
   "outputs": [],
   "source": []
  },
  {
   "cell_type": "code",
   "execution_count": null,
   "id": "0de9ca16",
   "metadata": {},
   "outputs": [],
   "source": [
    "#SOIL WATER SWL4========================================================================================================"
   ]
  },
  {
   "cell_type": "code",
   "execution_count": null,
   "id": "cb75a545",
   "metadata": {},
   "outputs": [],
   "source": [
    "# Opened the netCDF file and get the latitude and longitude variables\n",
    "nc_file = netCDF4.Dataset('Soil_upscaled.nc')\n",
    "lat_var = nc_file.variables['lat']\n",
    "lon_var = nc_file.variables['lon']"
   ]
  },
  {
   "cell_type": "code",
   "execution_count": null,
   "id": "567a7f17",
   "metadata": {
    "scrolled": true
   },
   "outputs": [],
   "source": [
    "# Loaded the latitude and longitude values into numpy arrays\n",
    "lat_values = lat_var[:]\n",
    "lon_values = lon_var[:]"
   ]
  },
  {
   "cell_type": "code",
   "execution_count": null,
   "id": "6306d5cc",
   "metadata": {},
   "outputs": [],
   "source": [
    "# Loaded the selected latitude and longitude values from the dataframe\n",
    "df = pd.read_csv('data.csv', header=None)\n",
    "selected_lat = df[0][:].values\n",
    "selected_lon = df[1][:].values"
   ]
  },
  {
   "cell_type": "code",
   "execution_count": null,
   "id": "5828defe",
   "metadata": {},
   "outputs": [],
   "source": [
    "selected_lon"
   ]
  },
  {
   "cell_type": "code",
   "execution_count": null,
   "id": "4f207f11",
   "metadata": {},
   "outputs": [],
   "source": [
    "# Created a map plot with cartopy and matplotlib\n",
    "fig = plt.figure(figsize=(12, 6))\n",
    "ax = fig.add_subplot(1, 1, 1, projection=ccrs.PlateCarree())\n",
    "\n",
    "# Added coastlines and gridlines\n",
    "ax.coastlines()\n",
    "ax.gridlines(draw_labels=True, linestyle='--')\n",
    "\n",
    "# Ploted the longitude and latitude points on the map\n",
    "ax.scatter(selected_lon, selected_lat, color='red', marker='o', transform=ccrs.PlateCarree())\n",
    "\n",
    "# Showed the plot\n",
    "plt.show()"
   ]
  },
  {
   "cell_type": "code",
   "execution_count": null,
   "id": "e2504f2a",
   "metadata": {},
   "outputs": [],
   "source": [
    "# Found the indices of the latitude and longitude values that are closest to the selected values\n",
    "lat_idx = np.abs(lat_values - selected_lat[:, np.newaxis]).argmin(axis=1)\n",
    "lon_idx = np.abs(lon_values - selected_lon[:, np.newaxis]).argmin(axis=1)"
   ]
  },
  {
   "cell_type": "code",
   "execution_count": null,
   "id": "19ae42ad",
   "metadata": {},
   "outputs": [],
   "source": [
    "lat_idx"
   ]
  },
  {
   "cell_type": "code",
   "execution_count": null,
   "id": "ecdfdb4f",
   "metadata": {},
   "outputs": [],
   "source": [
    "lon_idx"
   ]
  },
  {
   "cell_type": "code",
   "execution_count": null,
   "id": "ced28cbf",
   "metadata": {},
   "outputs": [],
   "source": [
    "Newdf = pd.DataFrame([])"
   ]
  },
  {
   "cell_type": "code",
   "execution_count": null,
   "id": "0202f397",
   "metadata": {},
   "outputs": [],
   "source": [
    "point_list = zip(selected_lat,selected_lon)"
   ]
  },
  {
   "cell_type": "code",
   "execution_count": null,
   "id": "d9025749",
   "metadata": {},
   "outputs": [],
   "source": [
    "ds = xr.open_dataset('Soil_upscaled.nc')"
   ]
  },
  {
   "cell_type": "code",
   "execution_count": null,
   "id": "4655de0f",
   "metadata": {},
   "outputs": [],
   "source": [
    "# Defined the latitude and longitude index points\n",
    "lat_indexes = lat_idx  # Replace with your latitude index points\n",
    "lon_indexes = lon_idx  # Replace with your longitude index points\n",
    "\n",
    "# Created an empty DataFrame to store the extracted data\n",
    "columns = ['lat', 'lon'] + [f'swl4_{i}' for i in range(3, 216)]\n",
    "df = pd.DataFrame(columns=columns)\n",
    "\n",
    "# Iterated over the specified lat and lon index pairs\n",
    "for lat_idx, lon_idx in zip(lat_indexes, lon_indexes):\n",
    "    lat = ds['lat'][lat_idx].values\n",
    "    lon = ds['lon'][lon_idx].values\n",
    "\n",
    "    # Extracted lwe_thickness for the specified indexes and lat-lon pair\n",
    "    swl4_values = ds['swvl4'][3:216, lat_idx, lon_idx].values\n",
    "\n",
    "    # Stored the extracted data in the DataFrame\n",
    "    data = {'lat': lat, 'lon': lon, **{f'swl4_{i}': val for i, val in zip(range(3, 216), swl4_values)}}\n",
    "    df = df.append(data, ignore_index=True)\n",
    "\n",
    "# Saved the DataFrame to a CSV file\n",
    "df.to_csv('Soil_swl4.csv', index=False)"
   ]
  },
  {
   "cell_type": "code",
   "execution_count": null,
   "id": "440b31f9",
   "metadata": {
    "scrolled": false
   },
   "outputs": [],
   "source": [
    "df"
   ]
  }
 ],
 "metadata": {
  "kernelspec": {
   "display_name": "Python 3 (ipykernel)",
   "language": "python",
   "name": "python3"
  },
  "language_info": {
   "codemirror_mode": {
    "name": "ipython",
    "version": 3
   },
   "file_extension": ".py",
   "mimetype": "text/x-python",
   "name": "python",
   "nbconvert_exporter": "python",
   "pygments_lexer": "ipython3",
   "version": "3.9.13"
  }
 },
 "nbformat": 4,
 "nbformat_minor": 5
}
