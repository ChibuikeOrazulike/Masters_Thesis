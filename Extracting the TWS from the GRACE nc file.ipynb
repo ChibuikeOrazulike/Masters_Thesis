{
 "cells": [
  {
   "cell_type": "code",
   "execution_count": null,
   "id": "d72f67fd",
   "metadata": {},
   "outputs": [],
   "source": [
    "import netCDF4\n",
    "import xarray as xr\n",
    "import numpy as np\n",
    "import pandas as pd\n",
    "import matplotlib as plt\n",
    "import matplotlib.pyplot as plt\n",
    "from datetime import datetime, timedelta\n",
    "import matplotlib.pyplot as plt\n",
    "import cartopy.crs as ccrs"
   ]
  },
  {
   "cell_type": "code",
   "execution_count": null,
   "id": "cfafcba7",
   "metadata": {},
   "outputs": [],
   "source": [
    "# Opened the netCDF file and get the latitude and longitude variables\n",
    "nc_file = netCDF4.Dataset('CSR_GRACE_GRACE-FO_RL06_Mascons_all-corrections_v02.nc')\n",
    "lat_var = nc_file.variables['lat']\n",
    "lon_var = nc_file.variables['lon']\n"
   ]
  },
  {
   "cell_type": "code",
   "execution_count": null,
   "id": "f34df77d",
   "metadata": {},
   "outputs": [],
   "source": [
    "# Loaded the latitude and longitude values into numpy arrays\n",
    "lat_values = lat_var[:]\n",
    "lon_values = lon_var[:]"
   ]
  },
  {
   "cell_type": "code",
   "execution_count": null,
   "id": "8e2bed1e",
   "metadata": {},
   "outputs": [],
   "source": [
    "# Loaded the selected latitude and longitude values from the dataframe\n",
    "df = pd.read_csv('data.csv', header=None)\n",
    "selected_lat = df[0][:].values\n",
    "selected_lon = df[1][:].values\n",
    "selected_lon"
   ]
  },
  {
   "cell_type": "code",
   "execution_count": null,
   "id": "e5e53716",
   "metadata": {},
   "outputs": [],
   "source": [
    "selected_lon[selected_lon < 0] += 360 #Because the longitude is in -180-+180 format, this will help convert it to 0-360 of GRACE\n",
    "\n",
    "# In summary, this line of code adds 360 to all negative values in the selected_lon array. \n",
    "# This is often done when working with longitude values in geographic data, \n",
    "# as it converts negative longitudes (i.e., those in the Western Hemisphere) to their 0-360 degree equivalent. \n",
    "# This can be useful when working with data that uses a 0-360 degree longitude range instead of the -180 to 180 degree range."
   ]
  },
  {
   "cell_type": "code",
   "execution_count": null,
   "id": "15c267a2",
   "metadata": {},
   "outputs": [],
   "source": [
    "# I Created a map plot with cartopy and matplotlib\n",
    "fig = plt.figure(figsize=(12, 6))\n",
    "ax = fig.add_subplot(1, 1, 1, projection=ccrs.PlateCarree())\n",
    "\n",
    "# Added coastlines and gridlines\n",
    "ax.coastlines()\n",
    "ax.gridlines(draw_labels=True, linestyle='--')\n",
    "\n",
    "# Plotted the longitude and latitude points on the map\n",
    "ax.scatter(selected_lon, selected_lat, color='red', marker='o', transform=ccrs.PlateCarree())\n",
    "\n",
    "# Showed the plot\n",
    "plt.show()"
   ]
  },
  {
   "cell_type": "code",
   "execution_count": null,
   "id": "2e270314",
   "metadata": {},
   "outputs": [],
   "source": [
    "# Found the indices of the latitude and longitude values that are closest to the selected values\n",
    "lat_idx = np.abs(lat_values - selected_lat[:, np.newaxis]).argmin(axis=1)\n",
    "lon_idx = np.abs(lon_values - selected_lon[:, np.newaxis]).argmin(axis=1)"
   ]
  },
  {
   "cell_type": "code",
   "execution_count": null,
   "id": "7b427da9",
   "metadata": {},
   "outputs": [],
   "source": [
    "Newdf = pd.DataFrame([])#Created empty dataframe"
   ]
  },
  {
   "cell_type": "code",
   "execution_count": null,
   "id": "acd6a14e",
   "metadata": {},
   "outputs": [],
   "source": [
    "point_list = zip(selected_lat,selected_lon)"
   ]
  },
  {
   "cell_type": "code",
   "execution_count": null,
   "id": "0dcebc42",
   "metadata": {},
   "outputs": [],
   "source": [
    "ds = xr.open_dataset('CSR_GRACE_GRACE-FO_RL06_Mascons_all-corrections_v02.nc')"
   ]
  },
  {
   "cell_type": "code",
   "execution_count": null,
   "id": "f2e9b799",
   "metadata": {},
   "outputs": [],
   "source": [
    "# Defined the latitude and longitude index points\n",
    "lat_indexes = lat_idx  # Replaced with  latitude index points\n",
    "lon_indexes = lon_idx  # Replace with  longitude index points\n",
    "\n",
    "# Created an empty DataFrame to store the extracted data\n",
    "columns = ['lat', 'lon'] + [f'lwe_thickness_{i}' for i in range(0, 180)]\n",
    "df = pd.DataFrame(columns=columns)\n",
    "\n",
    "# Iterated over the specified lat and lon index pairs\n",
    "for lat_idx, lon_idx in zip(lat_indexes, lon_indexes):\n",
    "    lat = ds['lat'][lat_idx].values\n",
    "    lon = ds['lon'][lon_idx].values\n",
    "\n",
    "    # Extracted lwe_thickness for the specified indexes and lat-lon pair\n",
    "    lwe_thickness_values = ds['lwe_thickness'][0:180, lat_idx, lon_idx].values\n",
    "\n",
    "    # Stored the extracted data in the DataFrame\n",
    "    data = {'lat': lat, 'lon': lon, **{f'lwe_thickness_{i}': val for i, val in zip(range(0, 180), lwe_thickness_values)}}\n",
    "    df = df.append(data, ignore_index=True)\n",
    "\n",
    "# Saved the DataFrame to a CSV file\n",
    "df.to_csv('lwe_thickness.csv', index=False)"
   ]
  },
  {
   "cell_type": "code",
   "execution_count": null,
   "id": "00563d9f",
   "metadata": {},
   "outputs": [],
   "source": [
    "time = nc_file.variables[\"time_bounds\"][0:180,0:1]"
   ]
  },
  {
   "cell_type": "code",
   "execution_count": null,
   "id": "3eff3837",
   "metadata": {},
   "outputs": [],
   "source": [
    "array = time.compressed()\n",
    "array.size"
   ]
  },
  {
   "cell_type": "code",
   "execution_count": null,
   "id": "9e7934f1",
   "metadata": {},
   "outputs": [],
   "source": [
    "# defined a starting date and time\n",
    "start_datetime = datetime(2002, 1, 1)"
   ]
  },
  {
   "cell_type": "code",
   "execution_count": null,
   "id": "85b0cc72",
   "metadata": {},
   "outputs": [],
   "source": [
    "# created an empty NumPy array to hold the resulting datetime objects\n",
    "datetime_array = np.empty_like(array, dtype='datetime64[D]')"
   ]
  },
  {
   "cell_type": "code",
   "execution_count": null,
   "id": "24f2c8d1",
   "metadata": {},
   "outputs": [],
   "source": [
    "# iterated over the array and add each value to the starting date\n",
    "for i, value in enumerate(array):\n",
    "    delta_days = int(value)\n",
    "    time_datetime = start_datetime + timedelta(days=delta_days)\n",
    "    datetime_array[i] = np.datetime64(time_datetime, 'D')"
   ]
  },
  {
   "cell_type": "code",
   "execution_count": null,
   "id": "b612d099",
   "metadata": {},
   "outputs": [],
   "source": [
    "datetime_array"
   ]
  },
  {
   "cell_type": "code",
   "execution_count": null,
   "id": "8ba1fc09",
   "metadata": {},
   "outputs": [],
   "source": [
    "df.iloc[:, 2:].set_axis(datetime_array, axis='columns', inplace=True)#Replacing column name with the dates"
   ]
  },
  {
   "cell_type": "code",
   "execution_count": null,
   "id": "0ff5ec7b",
   "metadata": {},
   "outputs": [],
   "source": [
    "lwe_thickness_subset = df.iloc[:, 2:]#Subsetting from column 2-145(variables excluding lat-lon values)\n",
    "lwe_thickness_subset.set_axis(datetime_array, axis ='columns', inplace=True)#Replacing column name with the dates\n",
    "lat_lon_values = df.iloc[:, 0:2]"
   ]
  },
  {
   "cell_type": "code",
   "execution_count": null,
   "id": "99a9e854",
   "metadata": {},
   "outputs": [],
   "source": [
    "lwe_thickness_subset\n",
    "lat_lon_values"
   ]
  },
  {
   "cell_type": "code",
   "execution_count": null,
   "id": "2c9e080b",
   "metadata": {},
   "outputs": [],
   "source": [
    "lwe_thickness = pd.concat([lat_lon_values.iloc[:, 0:2], lwe_thickness_subset], axis=1)"
   ]
  },
  {
   "cell_type": "code",
   "execution_count": null,
   "id": "92bb17de",
   "metadata": {
    "scrolled": true
   },
   "outputs": [],
   "source": [
    "lwe_thickness"
   ]
  },
  {
   "cell_type": "code",
   "execution_count": null,
   "id": "857d0367",
   "metadata": {},
   "outputs": [],
   "source": [
    "lwe_thickness.to_csv('lwe_thickness_time_series.csv', index=False)#Exported to CSV"
   ]
  }
 ],
 "metadata": {
  "kernelspec": {
   "display_name": "Python 3 (ipykernel)",
   "language": "python",
   "name": "python3"
  },
  "language_info": {
   "codemirror_mode": {
    "name": "ipython",
    "version": 3
   },
   "file_extension": ".py",
   "mimetype": "text/x-python",
   "name": "python",
   "nbconvert_exporter": "python",
   "pygments_lexer": "ipython3",
   "version": "3.9.13"
  }
 },
 "nbformat": 4,
 "nbformat_minor": 5
}
