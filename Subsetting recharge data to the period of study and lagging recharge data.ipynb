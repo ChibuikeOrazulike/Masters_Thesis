{
 "cells": [
  {
   "cell_type": "code",
   "execution_count": null,
   "id": "4e16b887",
   "metadata": {},
   "outputs": [],
   "source": [
    "import pandas as pd\n",
    "import datetime as dt\n",
    "import numpy as np"
   ]
  },
  {
   "cell_type": "code",
   "execution_count": null,
   "id": "56f016bf",
   "metadata": {},
   "outputs": [],
   "source": [
    "Rech = pd.read_csv('data.csv', header=None)"
   ]
  },
  {
   "cell_type": "code",
   "execution_count": null,
   "id": "8e617a9c",
   "metadata": {},
   "outputs": [],
   "source": [
    "Rech"
   ]
  },
  {
   "cell_type": "code",
   "execution_count": null,
   "id": "8eb46bbf",
   "metadata": {},
   "outputs": [],
   "source": [
    "Dates = pd.read_csv('dates.csv', header=None)"
   ]
  },
  {
   "cell_type": "code",
   "execution_count": null,
   "id": "a41b0007",
   "metadata": {},
   "outputs": [],
   "source": [
    "Dates"
   ]
  },
  {
   "cell_type": "code",
   "execution_count": null,
   "id": "25fde8c1",
   "metadata": {},
   "outputs": [],
   "source": [
    "Dates_array = np.array(Dates[0])"
   ]
  },
  {
   "cell_type": "code",
   "execution_count": null,
   "id": "d2913030",
   "metadata": {},
   "outputs": [],
   "source": [
    "Recharge = Rech.iloc[:, 2:]#Subsetting from column 2:(variables excluding lat-lon values)\n",
    "Recharge.set_axis(Dates_array, axis ='columns', inplace=True)#Replacing column name with the dates"
   ]
  },
  {
   "cell_type": "code",
   "execution_count": null,
   "id": "62ed8a73",
   "metadata": {},
   "outputs": [],
   "source": [
    "pd.set_option('display.max_columns', None)\n",
    "\n",
    "Recharge"
   ]
  },
  {
   "cell_type": "code",
   "execution_count": null,
   "id": "6df22778",
   "metadata": {},
   "outputs": [],
   "source": [
    "# Added a new column for 2019-12-15 00:00:00\n",
    "Recharge['2019-12-15 00:00:00'] = np.nan"
   ]
  },
  {
   "cell_type": "code",
   "execution_count": null,
   "id": "26d15298",
   "metadata": {},
   "outputs": [],
   "source": [
    "# Perform a simple linear interpolation between the last two columns\n",
    "last_col = Recharge.columns[-1]\n",
    "second_last_col = Recharge.columns[-2]\n",
    "Recharge[last_col] = (Recharge[second_last_col] + Recharge.iloc[:, -3]) / 2"
   ]
  },
  {
   "cell_type": "code",
   "execution_count": null,
   "id": "d6121790",
   "metadata": {},
   "outputs": [],
   "source": [
    "# Convert column names to datetime format\n",
    "Recharge.columns = pd.to_datetime(Recharge.columns)"
   ]
  },
  {
   "cell_type": "code",
   "execution_count": null,
   "id": "eb861dd7",
   "metadata": {},
   "outputs": [],
   "source": [
    "# Subset the interpolated data from 2002-04-15 00:00:00 to 2019-12-15 00:00:00\n",
    "subset_data = Recharge.loc[:, '2002-04-15 00:00:00':'2019-12-15 00:00:00']"
   ]
  },
  {
   "cell_type": "code",
   "execution_count": null,
   "id": "8da72921",
   "metadata": {},
   "outputs": [],
   "source": [
    "subset_data"
   ]
  },
  {
   "cell_type": "code",
   "execution_count": null,
   "id": "e131fac5",
   "metadata": {},
   "outputs": [],
   "source": [
    "df = pd.read_csv('GWS.csv') #I used the lat/lon result of the GWS to join to Recharge\n",
    "lat_lon_df = df[['lat', 'lon']]\n",
    "lat_lon_df"
   ]
  },
  {
   "cell_type": "code",
   "execution_count": null,
   "id": "dfd8d2de",
   "metadata": {},
   "outputs": [],
   "source": [
    "# Combine the lat/lon columns and the time series data\n",
    "Recharge_with_coordinates = pd.concat([lat_lon_df, subset_data], axis=1)\n",
    "Recharge_with_coordinates"
   ]
  },
  {
   "cell_type": "code",
   "execution_count": null,
   "id": "6a8ef3de",
   "metadata": {},
   "outputs": [],
   "source": [
    "Recharge_with_coordinates.to_csv('recharge_with_coord.csv', index=False)"
   ]
  },
  {
   "cell_type": "code",
   "execution_count": null,
   "id": "10c2e5b6",
   "metadata": {},
   "outputs": [],
   "source": []
  },
  {
   "cell_type": "code",
   "execution_count": null,
   "id": "b5a319d0",
   "metadata": {},
   "outputs": [],
   "source": [
    "#▶▶▶▶▶▶▶▶▶▶▶▶▶▶▶▶▶▶▶▶▶▶▶▶▶▶▶▶▶▶▶▶▶▶Lagging the data by one month◀◀◀◀◀◀◀◀◀◀◀◀◀◀◀◀◀◀◀◀◀◀◀◀◀◀◀◀◀◀◀◀◀◀◀◀◀◀◀◀◀◀◀◀◀◀"
   ]
  },
  {
   "cell_type": "code",
   "execution_count": null,
   "id": "a0749aab",
   "metadata": {},
   "outputs": [],
   "source": []
  },
  {
   "cell_type": "code",
   "execution_count": null,
   "id": "ab369357",
   "metadata": {},
   "outputs": [],
   "source": []
  },
  {
   "cell_type": "code",
   "execution_count": null,
   "id": "9a5c4d9b",
   "metadata": {},
   "outputs": [],
   "source": [
    "# Subset the interpolated data from 2002-04-15 00:00:00 to 2019-12-15 00:00:00\n",
    "subset_data = Recharge.loc[:, '2002-03-15 00:00:00':'2019-11-15 00:00:00']"
   ]
  },
  {
   "cell_type": "code",
   "execution_count": null,
   "id": "c5697e41",
   "metadata": {},
   "outputs": [],
   "source": [
    "subset_data"
   ]
  },
  {
   "cell_type": "code",
   "execution_count": null,
   "id": "611c593c",
   "metadata": {},
   "outputs": [],
   "source": [
    "df = pd.read_csv('GWS.csv') #I used the lat/lon result of the GWS to join to Recharge\n",
    "lat_lon_df = df[['lat', 'lon']]\n",
    "lat_lon_df"
   ]
  },
  {
   "cell_type": "code",
   "execution_count": null,
   "id": "421b64ea",
   "metadata": {},
   "outputs": [],
   "source": [
    "# Combine the lat/lon columns and the time series data\n",
    "Recharge_with_coordinates = pd.concat([lat_lon_df, subset_data], axis=1)\n",
    "Recharge_with_coordinates"
   ]
  },
  {
   "cell_type": "code",
   "execution_count": null,
   "id": "923b9e76",
   "metadata": {},
   "outputs": [],
   "source": [
    "Recharge_with_coordinates.to_csv('recharge_with_coord_lagged.csv', index=False)"
   ]
  },
  {
   "cell_type": "code",
   "execution_count": null,
   "id": "f6404408",
   "metadata": {},
   "outputs": [],
   "source": []
  },
  {
   "cell_type": "code",
   "execution_count": null,
   "id": "f43760a9",
   "metadata": {},
   "outputs": [],
   "source": []
  },
  {
   "cell_type": "code",
   "execution_count": null,
   "id": "a7d5dbc1",
   "metadata": {},
   "outputs": [],
   "source": []
  },
  {
   "cell_type": "code",
   "execution_count": null,
   "id": "139f0131",
   "metadata": {},
   "outputs": [],
   "source": [
    "#▶▶▶▶▶▶▶▶▶▶▶▶▶▶▶▶▶▶▶▶▶▶▶▶▶▶▶▶▶▶▶▶▶▶Lagging the data by two months◀◀◀◀◀◀◀◀◀◀◀◀◀◀◀◀◀◀◀◀◀◀◀◀◀◀◀◀◀◀◀◀◀◀◀◀◀◀◀◀◀◀◀◀◀◀"
   ]
  },
  {
   "cell_type": "code",
   "execution_count": null,
   "id": "2d3ac56a",
   "metadata": {},
   "outputs": [],
   "source": []
  },
  {
   "cell_type": "code",
   "execution_count": null,
   "id": "23ab99e4",
   "metadata": {},
   "outputs": [],
   "source": []
  },
  {
   "cell_type": "code",
   "execution_count": null,
   "id": "4704c9d1",
   "metadata": {},
   "outputs": [],
   "source": [
    "# Subset the interpolated data from 2002-04-15 00:00:00 to 2019-12-15 00:00:00\n",
    "subset_data = Recharge.loc[:, '2002-02-15 00:00:00':'2019-10-15 00:00:00']"
   ]
  },
  {
   "cell_type": "code",
   "execution_count": null,
   "id": "c88c283e",
   "metadata": {},
   "outputs": [],
   "source": [
    "subset_data"
   ]
  },
  {
   "cell_type": "code",
   "execution_count": null,
   "id": "73195f71",
   "metadata": {},
   "outputs": [],
   "source": [
    "df = pd.read_csv('GWS.csv') #I used the lat/lon result of the GWS to join to Recharge\n",
    "lat_lon_df = df[['lat', 'lon']]\n",
    "lat_lon_df"
   ]
  },
  {
   "cell_type": "code",
   "execution_count": null,
   "id": "9f720ca6",
   "metadata": {},
   "outputs": [],
   "source": [
    "# Combine the lat/lon columns and the time series data\n",
    "Recharge_with_coordinates = pd.concat([lat_lon_df, subset_data], axis=1)\n",
    "Recharge_with_coordinates"
   ]
  },
  {
   "cell_type": "code",
   "execution_count": null,
   "id": "af115613",
   "metadata": {},
   "outputs": [],
   "source": [
    "Recharge_with_coordinates.to_csv('recharge_with_coord_lagged2.csv', index=False)"
   ]
  },
  {
   "cell_type": "code",
   "execution_count": null,
   "id": "a2725b75",
   "metadata": {},
   "outputs": [],
   "source": []
  }
 ],
 "metadata": {
  "kernelspec": {
   "display_name": "Python 3 (ipykernel)",
   "language": "python",
   "name": "python3"
  },
  "language_info": {
   "codemirror_mode": {
    "name": "ipython",
    "version": 3
   },
   "file_extension": ".py",
   "mimetype": "text/x-python",
   "name": "python",
   "nbconvert_exporter": "python",
   "pygments_lexer": "ipython3",
   "version": "3.9.13"
  }
 },
 "nbformat": 4,
 "nbformat_minor": 5
}
