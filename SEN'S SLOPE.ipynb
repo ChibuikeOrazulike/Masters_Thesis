{
 "cells": [
  {
   "cell_type": "code",
   "execution_count": 1,
   "id": "531e1226",
   "metadata": {},
   "outputs": [],
   "source": [
    "from scipy.stats import linregress\n",
    "import pandas as pd\n",
    "import numpy as np\n",
    "from scipy.stats import mannwhitneyu\n",
    "import pandas as pd\n",
    "import pymannkendall as mk\n",
    "import folium\n",
    "import matplotlib.pyplot as plt\n",
    "import cartopy.crs as ccrs\n",
    "import cartopy.feature as cfeature\n",
    "import matplotlib.colors as mcolors\n",
    "from matplotlib_scalebar.scalebar import ScaleBar"
   ]
  },
  {
   "cell_type": "code",
   "execution_count": 3,
   "id": "237dd8d0",
   "metadata": {},
   "outputs": [],
   "source": [
    "df = pd.read_csv('GWS.csv')"
   ]
  },
  {
   "cell_type": "code",
   "execution_count": 4,
   "id": "cc315381",
   "metadata": {},
   "outputs": [
    {
     "name": "stdout",
     "output_type": "stream",
     "text": [
      "         lat     lon       p_value       tau  sen_slope\n",
      "0     27.875  31.375  0.000000e+00  0.699495   4.873367\n",
      "1     27.875  31.625  0.000000e+00 -0.676768  -3.395874\n",
      "2     27.875  31.875  2.707465e-10 -0.404040  -1.510314\n",
      "3     27.875  32.125  0.000000e+00  0.780303   6.792844\n",
      "4     27.875  32.375  0.000000e+00  0.782828   7.306849\n",
      "...      ...     ...           ...       ...        ...\n",
      "6197  51.125  18.875  4.884152e-01 -0.045455   3.071008\n",
      "6198  51.125  19.125  3.320643e-01 -0.063131   2.263581\n",
      "6199  51.125  19.375  2.800145e-02 -0.141414   0.303642\n",
      "6200  51.125  19.625  5.252571e-03 -0.179293  -0.718394\n",
      "6201  51.125  19.875  3.397626e-04 -0.229798  -1.631012\n",
      "\n",
      "[6202 rows x 5 columns]\n"
     ]
    }
   ],
   "source": [
    "def trend_test(row):\n",
    "    lat, lon = row['lat'], row['lon']\n",
    "    time_series = row.iloc[2:]\n",
    "    \n",
    "    # Perform the Seasonal Mann-Kendall test on the time series\n",
    "    result = mk.seasonal_test(time_series, period=12)\n",
    "    \n",
    "    # Calculate the mean annual trend using Sen's slope\n",
    "    annual_trend = mk.sens_slope(time_series.iloc[::12])  # Select only annual data points\n",
    "    \n",
    "    # Extract the p-value, Kendall's tau, and mean annual trend from the test result\n",
    "    p_value = result.p\n",
    "    tau = result.Tau\n",
    "    sen_slope = annual_trend.slope\n",
    "    return pd.Series([lat, lon, p_value, tau, sen_slope])\n",
    "\n",
    "# Apply the trend_test function on each row of the DataFrame\n",
    "result_df = df.apply(trend_test, axis=1)\n",
    "\n",
    "# Rename the columns of the result DataFrame\n",
    "result_df.columns = ['lat', 'lon', 'p_value', 'tau', 'sen_slope']\n",
    "\n",
    "print(result_df)"
   ]
  },
  {
   "cell_type": "code",
   "execution_count": 8,
   "id": "eae74232",
   "metadata": {},
   "outputs": [
    {
     "data": {
      "text/html": [
       "<div>\n",
       "<style scoped>\n",
       "    .dataframe tbody tr th:only-of-type {\n",
       "        vertical-align: middle;\n",
       "    }\n",
       "\n",
       "    .dataframe tbody tr th {\n",
       "        vertical-align: top;\n",
       "    }\n",
       "\n",
       "    .dataframe thead th {\n",
       "        text-align: right;\n",
       "    }\n",
       "</style>\n",
       "<table border=\"1\" class=\"dataframe\">\n",
       "  <thead>\n",
       "    <tr style=\"text-align: right;\">\n",
       "      <th></th>\n",
       "      <th>lat</th>\n",
       "      <th>lon</th>\n",
       "      <th>p_value</th>\n",
       "      <th>tau</th>\n",
       "      <th>sen_slope</th>\n",
       "    </tr>\n",
       "  </thead>\n",
       "  <tbody>\n",
       "  </tbody>\n",
       "</table>\n",
       "</div>"
      ],
      "text/plain": [
       "Empty DataFrame\n",
       "Columns: [lat, lon, p_value, tau, sen_slope]\n",
       "Index: []"
      ]
     },
     "execution_count": 8,
     "metadata": {},
     "output_type": "execute_result"
    }
   ],
   "source": [
    "result_df= result_df[result_df['sen_slope'] < -.]\n",
    "result_df"
   ]
  },
  {
   "cell_type": "code",
   "execution_count": null,
   "id": "5d1d8a77",
   "metadata": {},
   "outputs": [],
   "source": []
  }
 ],
 "metadata": {
  "kernelspec": {
   "display_name": "Python 3 (ipykernel)",
   "language": "python",
   "name": "python3"
  },
  "language_info": {
   "codemirror_mode": {
    "name": "ipython",
    "version": 3
   },
   "file_extension": ".py",
   "mimetype": "text/x-python",
   "name": "python",
   "nbconvert_exporter": "python",
   "pygments_lexer": "ipython3",
   "version": "3.9.13"
  }
 },
 "nbformat": 4,
 "nbformat_minor": 5
}
