{
 "cells": [
  {
   "cell_type": "code",
   "execution_count": null,
   "id": "1f2113f6",
   "metadata": {},
   "outputs": [],
   "source": [
    "import pandas as pd\n",
    "import geopandas as gpd\n",
    "from shapely.geometry import Point"
   ]
  },
  {
   "cell_type": "code",
   "execution_count": null,
   "id": "3d1f13d0",
   "metadata": {},
   "outputs": [],
   "source": [
    "df = pd.read_csv('Senlope_recharge.csv')\n",
    "df"
   ]
  },
  {
   "cell_type": "code",
   "execution_count": null,
   "id": "435b1383",
   "metadata": {},
   "outputs": [],
   "source": [
    "# Converted DataFrame to GeoDataFrame\n",
    "geometry = [Point(xy) for xy in zip(df['lon'], df['lat'])]\n",
    "df = df.drop(['lon', 'lat'], axis=1)\n",
    "gdf = gpd.GeoDataFrame(df, geometry=geometry, crs=\"EPSG:4326\")  # Set the CRS to WGS84"
   ]
  },
  {
   "cell_type": "code",
   "execution_count": null,
   "id": "9ab618af",
   "metadata": {},
   "outputs": [],
   "source": [
    "# Loaded world shapefile\n",
    "world = gpd.read_file('world_koppen.shp')  # replace with your path"
   ]
  },
  {
   "cell_type": "code",
   "execution_count": null,
   "id": "38c1f0ef",
   "metadata": {},
   "outputs": [],
   "source": [
    "# Made sure both GeoDataFrames are in the same CRS\n",
    "world = world.to_crs(gdf.crs)"
   ]
  },
  {
   "cell_type": "code",
   "execution_count": null,
   "id": "e04444c7",
   "metadata": {},
   "outputs": [],
   "source": [
    "# Performed a spatial join between points and polygons (here, countries)\n",
    "gdf_sjoined = gpd.sjoin(gdf, world, how=\"inner\", op=\"within\")"
   ]
  },
  {
   "cell_type": "code",
   "execution_count": null,
   "id": "bab6d7c6",
   "metadata": {},
   "outputs": [],
   "source": [
    "# Grouped by country and calculate the mean\n",
    "mean_ave_by_country = gdf_sjoined.groupby('climate')['sen_slope'].mean()  # replace 'name' with your country column name"
   ]
  },
  {
   "cell_type": "code",
   "execution_count": null,
   "id": "707f1674",
   "metadata": {},
   "outputs": [],
   "source": [
    "# Converted Series to DataFrame\n",
    "mean_ave_df1 = mean_ave_by_country.reset_index()\n",
    "print(mean_ave_df1)"
   ]
  },
  {
   "cell_type": "code",
   "execution_count": null,
   "id": "6eccf2dc",
   "metadata": {},
   "outputs": [],
   "source": [
    "mean_ave_df1.sort_values(by='sen_slope', ascending=False, inplace=True)"
   ]
  },
  {
   "cell_type": "code",
   "execution_count": null,
   "id": "8729a62d",
   "metadata": {},
   "outputs": [],
   "source": [
    "mean_ave_df1['sen_slope'].idxmax()\n"
   ]
  },
  {
   "cell_type": "code",
   "execution_count": null,
   "id": "ee6c41e9",
   "metadata": {
    "scrolled": false
   },
   "outputs": [],
   "source": [
    "import seaborn as sns\n",
    "import matplotlib.pyplot as plt\n",
    "\n",
    "# Set a theme\n",
    "sns.set_theme(style=\"whitegrid\")\n",
    "\n",
    "# Created a figure and axes\n",
    "fig, ax = plt.subplots(figsize=(15, 20))\n",
    "\n",
    "# Create the barplot with seaborn\n",
    "barplot = sns.barplot(x=\"sen_slope\", y=\"climate\", data=mean_ave_df1, ax=ax)\n",
    "\n",
    "# Iterated over the bars and set the color manually\n",
    "for bar in barplot.patches:\n",
    "    if bar.get_width() < 0:\n",
    "        bar.set_color('darkred')  # use darkred for negative values\n",
    "    else:\n",
    "        bar.set_color('blue')  # use blue for positive values\n",
    "\n",
    "# Set grid\n",
    "ax.grid(True, which='both', color='black', linewidth=0.1)\n",
    "\n",
    "# Added labels and title\n",
    "ax.set_xlabel(\"Annual trend (mm)\", fontsize=30)\n",
    "ax.set_ylabel(\"Climate zone\", fontsize=30)\n",
    "ax.set_title(\"Annual Trend in Recharge averaged per climate zone\", fontsize=30, pad=20)\n",
    "\n",
    "# Increased the font size for x-axis and y-axis labels\n",
    "ax.tick_params(axis='x', labelsize=25)\n",
    "ax.tick_params(axis='y', labelsize=25)\n",
    "\n",
    "# Set y-axis labels to bold\n",
    "for label in ax.get_yticklabels():\n",
    "    label.set_weight('bold')\n",
    "    \n",
    "# Created a legend\n",
    "blue_patch = mpatches.Patch(color='blue', label='Increasing Trend')\n",
    "red_patch = mpatches.Patch(color='red', label='Decreasing Trend', alpha=0.5)\n",
    "plt.legend(handles=[blue_patch, red_patch], fontsize=20)\n",
    "\n",
    "# Showed the plot\n",
    "plt.show()"
   ]
  },
  {
   "cell_type": "code",
   "execution_count": null,
   "id": "8cb8bb8f",
   "metadata": {},
   "outputs": [],
   "source": []
  },
  {
   "cell_type": "code",
   "execution_count": null,
   "id": "ec1a3acf",
   "metadata": {},
   "outputs": [],
   "source": [
    "df = pd.read_csv('Senlope_GWS_no_soil.csv')\n",
    "df"
   ]
  },
  {
   "cell_type": "code",
   "execution_count": null,
   "id": "23e66006",
   "metadata": {},
   "outputs": [],
   "source": [
    "# Converted DataFrame to GeoDataFrame\n",
    "geometry = [Point(xy) for xy in zip(df['lon'], df['lat'])]\n",
    "df = df.drop(['lon', 'lat'], axis=1)\n",
    "gdf = gpd.GeoDataFrame(df, geometry=geometry, crs=\"EPSG:4326\")  # Set the CRS to WGS84"
   ]
  },
  {
   "cell_type": "code",
   "execution_count": null,
   "id": "7135a967",
   "metadata": {},
   "outputs": [],
   "source": [
    "# Loaded world shapefile\n",
    "world = gpd.read_file('world_koppen.shp')  # replace with your path"
   ]
  },
  {
   "cell_type": "code",
   "execution_count": null,
   "id": "7fda2e4c",
   "metadata": {},
   "outputs": [],
   "source": [
    "# Made sure both GeoDataFrames are in the same CRS\n",
    "world = world.to_crs(gdf.crs)"
   ]
  },
  {
   "cell_type": "code",
   "execution_count": null,
   "id": "5e365431",
   "metadata": {},
   "outputs": [],
   "source": [
    "# Performed a spatial join between points and polygons (here, countries)\n",
    "gdf_sjoined = gpd.sjoin(gdf, world, how=\"inner\", op=\"within\")"
   ]
  },
  {
   "cell_type": "code",
   "execution_count": null,
   "id": "694108ac",
   "metadata": {},
   "outputs": [],
   "source": [
    "# Grouped by country and calculate the mean\n",
    "mean_ave_by_country = gdf_sjoined.groupby('climate')['sen_slope'].mean()  # replace 'name' with your country column name"
   ]
  },
  {
   "cell_type": "code",
   "execution_count": null,
   "id": "2124d245",
   "metadata": {},
   "outputs": [],
   "source": [
    "# Converted Series to DataFrame\n",
    "mean_ave_df2 = mean_ave_by_country.reset_index()\n",
    "print(mean_ave_df2)"
   ]
  },
  {
   "cell_type": "code",
   "execution_count": null,
   "id": "827c1467",
   "metadata": {},
   "outputs": [],
   "source": [
    "#mean_ave_df.sort_values(by='sen_slope', ascending=False, inplace=True)"
   ]
  },
  {
   "cell_type": "code",
   "execution_count": null,
   "id": "00917f1a",
   "metadata": {},
   "outputs": [],
   "source": [
    "mean_ave_df2['sen_slope'].idxmax()\n"
   ]
  },
  {
   "cell_type": "code",
   "execution_count": null,
   "id": "65e5faad",
   "metadata": {
    "scrolled": false
   },
   "outputs": [],
   "source": [
    "import seaborn as sns\n",
    "import matplotlib.pyplot as plt\n",
    "\n",
    "# Set a theme\n",
    "sns.set_theme(style=\"whitegrid\")\n",
    "\n",
    "# Created a figure and axes\n",
    "fig, ax = plt.subplots(figsize=(15, 20))\n",
    "\n",
    "# Create the barplot with seaborn\n",
    "barplot = sns.barplot(x=\"sen_slope\", y=\"climate\", data=mean_ave_df2, ax=ax)\n",
    "\n",
    "# Iterated over the bars and set the color manually\n",
    "for bar in barplot.patches:\n",
    "    if bar.get_width() < 0:\n",
    "        bar.set_color('darkred')  # use darkred for negative values\n",
    "    else:\n",
    "        bar.set_color('blue')  # use blue for positive values\n",
    "\n",
    "# Set grid\n",
    "ax.grid(True, which='both', color='black', linewidth=0.1)\n",
    "\n",
    "# Added labels and title\n",
    "ax.set_xlabel(\"Annual trend (mm)\", fontsize=30)\n",
    "ax.set_ylabel(\"Country\", fontsize=30)\n",
    "ax.set_title(\"Annual Trend in Recharge averaged per country\", fontsize=30, pad=20)\n",
    "\n",
    "# Increased the font size for x-axis and y-axis labels\n",
    "ax.tick_params(axis='x', labelsize=25)\n",
    "ax.tick_params(axis='y', labelsize=25)\n",
    "\n",
    "# Set y-axis labels to bold\n",
    "for label in ax.get_yticklabels():\n",
    "    label.set_weight('bold')\n",
    "\n",
    "# Showed the plot\n",
    "plt.show()"
   ]
  },
  {
   "cell_type": "code",
   "execution_count": null,
   "id": "9c419595",
   "metadata": {},
   "outputs": [],
   "source": []
  },
  {
   "cell_type": "code",
   "execution_count": null,
   "id": "52e2031f",
   "metadata": {},
   "outputs": [],
   "source": [
    "mean_ave_df2['sen_slope1'] = mean_ave_df1['sen_slope']"
   ]
  },
  {
   "cell_type": "code",
   "execution_count": null,
   "id": "04b6d244",
   "metadata": {},
   "outputs": [],
   "source": [
    "mean_ave_df2"
   ]
  },
  {
   "cell_type": "code",
   "execution_count": null,
   "id": "eec5b395",
   "metadata": {},
   "outputs": [],
   "source": [
    "import seaborn as sns\n",
    "import matplotlib.pyplot as plt\n",
    "import matplotlib.patches as mpatches\n",
    "\n",
    "# Set a theme\n",
    "sns.set_theme(style=\"whitegrid\")\n",
    "\n",
    "# Created a figure and axes\n",
    "fig, ax = plt.subplots(figsize=(15, 20))\n",
    "\n",
    "# Created the barplot with seaborn for 'Ave' column\n",
    "barplot1 = sns.barplot(x=\"sen_slope1\", y=\"climate\", data=mean_ave_df2, ax=ax, color='blue')\n",
    "\n",
    "# Created the barplot with seaborn for 'rech' column - make sure to replace 'rech' with your actual column name\n",
    "barplot2 = sns.barplot(x=\"sen_slope\", y=\"climate\", data=mean_ave_df2, ax=ax, color='red', alpha=0.5)\n",
    "\n",
    "# Set grid\n",
    "ax.grid(True, which='both', color='black', linewidth=0.1)\n",
    "\n",
    "# Added labels and title\n",
    "ax.set_xlabel(\"Annual trend (mm)\", fontsize=30)\n",
    "ax.set_ylabel(\"Climate zone\", fontsize=30)\n",
    "ax.set_title(\"Annual Trend in GWS averaged per Climate Zone\", fontsize=30, pad=20)\n",
    "\n",
    "# Increased the font size for x-axis and y-axis labels\n",
    "ax.tick_params(axis='x', labelsize=25)\n",
    "ax.tick_params(axis='y', labelsize=25)\n",
    "\n",
    "# Created a legend\n",
    "blue_patch = mpatches.Patch(color='blue', label='GWS(without soil moisture)')\n",
    "red_patch = mpatches.Patch(color='red', label='GWS(including soil moisture)', alpha=0.5)\n",
    "plt.legend(handles=[blue_patch, red_patch], fontsize=20)\n",
    "\n",
    "# Set y-axis labels to bold\n",
    "for label in ax.get_yticklabels():\n",
    "    label.set_weight('bold')\n",
    "\n",
    "# Showed the plot\n",
    "plt.show()"
   ]
  },
  {
   "cell_type": "code",
   "execution_count": null,
   "id": "86d01536",
   "metadata": {},
   "outputs": [],
   "source": []
  }
 ],
 "metadata": {
  "kernelspec": {
   "display_name": "Python 3 (ipykernel)",
   "language": "python",
   "name": "python3"
  },
  "language_info": {
   "codemirror_mode": {
    "name": "ipython",
    "version": 3
   },
   "file_extension": ".py",
   "mimetype": "text/x-python",
   "name": "python",
   "nbconvert_exporter": "python",
   "pygments_lexer": "ipython3",
   "version": "3.9.13"
  }
 },
 "nbformat": 4,
 "nbformat_minor": 5
}
