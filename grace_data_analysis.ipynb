{
 "cells": [
  {
   "cell_type": "code",
   "execution_count": 1,
   "id": "f87a9b69",
   "metadata": {},
   "outputs": [
    {
     "name": "stdout",
     "output_type": "stream",
     "text": [
      "Requirement already satisfied: folium in c:\\users\\emman\\anaconda3\\lib\\site-packages (0.14.0)\n",
      "Requirement already satisfied: pydub in c:\\users\\emman\\anaconda3\\lib\\site-packages (0.25.1)\n",
      "Requirement already satisfied: librosa in c:\\users\\emman\\anaconda3\\lib\\site-packages (0.10.0.post2)\n",
      "Requirement already satisfied: jinja2>=2.9 in c:\\users\\emman\\anaconda3\\lib\\site-packages (from folium) (2.11.3)\n",
      "Requirement already satisfied: requests in c:\\users\\emman\\anaconda3\\lib\\site-packages (from folium) (2.28.1)\n",
      "Requirement already satisfied: numpy in c:\\users\\emman\\anaconda3\\lib\\site-packages (from folium) (1.21.5)\n",
      "Requirement already satisfied: branca>=0.6.0 in c:\\users\\emman\\anaconda3\\lib\\site-packages (from folium) (0.6.0)\n",
      "Requirement already satisfied: msgpack>=1.0 in c:\\users\\emman\\anaconda3\\lib\\site-packages (from librosa) (1.0.3)\n",
      "Requirement already satisfied: scipy>=1.2.0 in c:\\users\\emman\\anaconda3\\lib\\site-packages (from librosa) (1.9.1)\n",
      "Requirement already satisfied: pooch<1.7,>=1.0 in c:\\users\\emman\\anaconda3\\lib\\site-packages (from librosa) (1.6.0)\n",
      "Requirement already satisfied: soundfile>=0.12.1 in c:\\users\\emman\\anaconda3\\lib\\site-packages (from librosa) (0.12.1)\n",
      "Requirement already satisfied: typing-extensions>=4.1.1 in c:\\users\\emman\\anaconda3\\lib\\site-packages (from librosa) (4.3.0)\n",
      "Requirement already satisfied: scikit-learn>=0.20.0 in c:\\users\\emman\\anaconda3\\lib\\site-packages (from librosa) (1.0.2)\n",
      "Requirement already satisfied: decorator>=4.3.0 in c:\\users\\emman\\anaconda3\\lib\\site-packages (from librosa) (5.1.1)\n",
      "Requirement already satisfied: audioread>=2.1.9 in c:\\users\\emman\\anaconda3\\lib\\site-packages (from librosa) (3.0.0)\n",
      "Requirement already satisfied: joblib>=0.14 in c:\\users\\emman\\anaconda3\\lib\\site-packages (from librosa) (1.1.0)\n",
      "Requirement already satisfied: soxr>=0.3.2 in c:\\users\\emman\\anaconda3\\lib\\site-packages (from librosa) (0.3.5)\n",
      "Requirement already satisfied: numba>=0.51.0 in c:\\users\\emman\\anaconda3\\lib\\site-packages (from librosa) (0.55.1)\n",
      "Requirement already satisfied: lazy-loader>=0.1 in c:\\users\\emman\\anaconda3\\lib\\site-packages (from librosa) (0.2)\n",
      "Requirement already satisfied: MarkupSafe>=0.23 in c:\\users\\emman\\anaconda3\\lib\\site-packages (from jinja2>=2.9->folium) (2.0.1)\n",
      "Requirement already satisfied: setuptools in c:\\users\\emman\\anaconda3\\lib\\site-packages (from numba>=0.51.0->librosa) (63.4.1)\n",
      "Requirement already satisfied: llvmlite<0.39,>=0.38.0rc1 in c:\\users\\emman\\anaconda3\\lib\\site-packages (from numba>=0.51.0->librosa) (0.38.0)\n",
      "Requirement already satisfied: packaging>=20.0 in c:\\users\\emman\\anaconda3\\lib\\site-packages (from pooch<1.7,>=1.0->librosa) (21.3)\n",
      "Requirement already satisfied: appdirs>=1.3.0 in c:\\users\\emman\\anaconda3\\lib\\site-packages (from pooch<1.7,>=1.0->librosa) (1.4.4)\n",
      "Requirement already satisfied: urllib3<1.27,>=1.21.1 in c:\\users\\emman\\anaconda3\\lib\\site-packages (from requests->folium) (1.26.11)\n",
      "Requirement already satisfied: charset-normalizer<3,>=2 in c:\\users\\emman\\anaconda3\\lib\\site-packages (from requests->folium) (2.0.4)\n",
      "Requirement already satisfied: certifi>=2017.4.17 in c:\\users\\emman\\anaconda3\\lib\\site-packages (from requests->folium) (2022.9.14)\n",
      "Requirement already satisfied: idna<4,>=2.5 in c:\\users\\emman\\anaconda3\\lib\\site-packages (from requests->folium) (3.3)\n",
      "Requirement already satisfied: threadpoolctl>=2.0.0 in c:\\users\\emman\\anaconda3\\lib\\site-packages (from scikit-learn>=0.20.0->librosa) (2.2.0)\n",
      "Requirement already satisfied: cffi>=1.0 in c:\\users\\emman\\anaconda3\\lib\\site-packages (from soundfile>=0.12.1->librosa) (1.15.1)\n",
      "Requirement already satisfied: pycparser in c:\\users\\emman\\anaconda3\\lib\\site-packages (from cffi>=1.0->soundfile>=0.12.1->librosa) (2.21)\n",
      "Requirement already satisfied: pyparsing!=3.0.5,>=2.0.2 in c:\\users\\emman\\anaconda3\\lib\\site-packages (from packaging>=20.0->pooch<1.7,>=1.0->librosa) (3.0.9)\n",
      "Note: you may need to restart the kernel to use updated packages.\n"
     ]
    }
   ],
   "source": [
    "pip install folium pydub librosa"
   ]
  },
  {
   "cell_type": "code",
   "execution_count": 2,
   "id": "0564dfc5",
   "metadata": {},
   "outputs": [
    {
     "name": "stderr",
     "output_type": "stream",
     "text": [
      "C:\\Users\\emman\\anaconda3\\lib\\site-packages\\pydub\\utils.py:170: RuntimeWarning: Couldn't find ffmpeg or avconv - defaulting to ffmpeg, but may not work\n",
      "  warn(\"Couldn't find ffmpeg or avconv - defaulting to ffmpeg, but may not work\", RuntimeWarning)\n"
     ]
    }
   ],
   "source": [
    "import pandas as pd\n",
    "import numpy as np\n",
    "import seaborn as sns\n",
    "import matplotlib.pyplot as plt\n",
    "import matplotlib as mpl\n",
    "import matplotlib.cm as mtpltcm\n",
    "from mpl_toolkits.mplot3d import Axes3D\n",
    "import random\n",
    "import folium\n",
    "from folium.plugins import HeatMap, HeatMapWithTime\n",
    "from folium import plugins\n",
    "from netCDF4 import Dataset\n",
    "import cartopy.crs as ccrs\n",
    "import pydub\n",
    "from scipy.io.wavfile import read, write\n",
    "import librosa\n",
    "import librosa.display\n",
    "import IPython\n",
    "from IPython.display import Audio\n",
    "import scipy\n",
    "import skimage\n",
    "from IPython.display import HTML\n",
    "import matplotlib.animation as animation\n",
    "import PIL\n",
    "from scipy import signal\n",
    "from scipy.fft import fftshift\n",
    "from mpl_toolkits.mplot3d import art3d\n",
    "import os\n",
    "import os.path\n",
    "from pathlib import Path\n",
    "import glob\n",
    "\n",
    "\n",
    "from warnings import filterwarnings\n",
    "\n",
    "filterwarnings(\"ignore\",category=DeprecationWarning)\n",
    "filterwarnings(\"ignore\", category=FutureWarning) \n",
    "filterwarnings(\"ignore\", category=UserWarning)\n",
    "filterwarnings(\"ignore\", category=RuntimeWarning)"
   ]
  },
  {
   "cell_type": "code",
   "execution_count": 3,
   "id": "0cfdd95f",
   "metadata": {},
   "outputs": [],
   "source": [
    "ALL_CDF_PATH = \"CSR_GRACE_GRACE-FO_RL06_Mascons_all-corrections_v02.nc\"\n",
    "READ_CDF = Dataset(ALL_CDF_PATH)"
   ]
  },
  {
   "cell_type": "code",
   "execution_count": 4,
   "id": "a107b08b",
   "metadata": {},
   "outputs": [
    {
     "data": {
      "text/plain": [
       "'days since 2002-01-01T00:00:00Z'"
      ]
     },
     "execution_count": 4,
     "metadata": {},
     "output_type": "execute_result"
    }
   ],
   "source": [
    "READ_CDF.variables[\"time\"].Units"
   ]
  },
  {
   "cell_type": "code",
   "execution_count": 101,
   "id": "142c9ace",
   "metadata": {},
   "outputs": [
    {
     "data": {
      "text/plain": [
       "<class 'netCDF4._netCDF4.Dataset'>\n",
       "root group (NETCDF4 data model, file format HDF5):\n",
       "    Conventions: CF-1.6, ACDD-1.3, ISO 8601\n",
       "    filename: netcdf/CSR_GRACE_GRACE-FO_RL06_Mascons_all-corrections_v02.nc\n",
       "    Metadata_Conventions: Unidata Dataset Discovery v1.0\n",
       "    standard_name_vocabulary: NetCDF Climate and Forecast (CF) Metadata Convention-1.6\n",
       "    title: CSR GRACE and GRACE-FO MASCON RL06Mv2\n",
       "    subtitle: GRACE/GRACE-FO Total water storage with all correction applied\n",
       "    summary: Monthly mass anomaly grids from GRACE and GRACE-FO determined from CSR RL06 processing\n",
       "    keywords: Solid Earth, Geodetics/Gravity, Gravity, liquid_water_equivalent_thickness\n",
       "    keywords_vocabulary: NASA Global Change Master Directory (GCMD) Science Keywords\n",
       "    platform: GRACE and GRACE-FO\n",
       "    institution: The University of Texas - Center for Space Research (CSR)\n",
       "    creator_name: Himanshu Save\n",
       "    creator_email: grace@csr.utexas.edu\n",
       "    creator_url: http://www2.csr.utexas.edu/grace\n",
       "    creator_type: group\n",
       "    creator_institution: UT-CSR\n",
       "    publisher_name: Center for Space Research\n",
       "    publisher_email: grace@csr.utexas.edu\n",
       "    publisher_url: http://www2.csr.utexas.edu/grace\n",
       "    publisher_type: group\n",
       "    publisher_institution: UT-CSR\n",
       "    project: NASA Gravity Recovery and Climate Experiment (GRACE) and NASA Gravity Recovery and Climate Experiment Follow-On (GRACE-FO)\n",
       "    program: NASA Earth Science System Pathfinder and NASA Earth Systematic Missions Program\n",
       "    url: https://doi.org/10.15781/cgq9-nh24\n",
       "    id: 10.15781/cgq9-nh24\n",
       "    naming_authority: org.doi.dx\n",
       "    source: GRACE and GRACE-FO CSR RL06Mv2 Mascon\n",
       "    processing_level: 2 and 3\n",
       "    acknowledgement: GRACE is a joint mission of NASA (USA) and DLR (Germany).  GRACE-FO is a joint mission of NASA (USA) and the German Research Center for Geosciences (GFZ).  Use the digital object identifier provided in the id attribute when citing this data.  See https://podaac.jpl.nasa.gov/CitingPODAAC\n",
       "    license: https://science.nasa.gov/earth-science/earth-science-data/data-information-policy\n",
       "    product_version: RL06 v2.0\n",
       "    data_author: Himanshu Save (save@csr.utexas.edu)\n",
       "    journal_reference: Save, H., S. Bettadpur, B. D. Tapley (2016), High resolution CSR GRACE RL05 mascons, J. Geophys. Res. Solid Earth\n",
       "    time_epoch: 2002-01-01T00:00:00Z\n",
       "    time_coverage_start: 2002-04-05T00:00:00Z\n",
       "    time_coverage_end: 2022-12-31T23:59:59Z\n",
       "    geospatial_lat_min: -89.875\n",
       "    geospatial_lat_max: 89.875\n",
       "    geospatial_lat_units: degrees_north\n",
       "    geospatial_lat_resolution: 0.25 degree grid; however the mascons are estimated on a 1-degree equal area mascons and the native resolution of the GRACE/GRACE-FO data is roughly 300km\n",
       "    geospatial_lon_min: 0.125\n",
       "    geospatial_lon_max: 359.875\n",
       "    geospatial_lon_units: degrees_east\n",
       "    time_mean_removed: 2004.000 to 2009.999\n",
       "    months_missing: 2002-06;2002-07;2003-06;2011-01;2011-06;2012-05;2012-10;2013-03;2013-08;2013-09;2014-02;2014-07;2014-12;2015-06;2015-10;2015-11;2016-04;2016-09;2016-10;2017-02;2017-02;2017-07;2017-08;2017-09;2017-10;2017-11;2017-12;2018-01;2018-02;2018-03;2018-04;2018-05;2018-08,2018-09\n",
       "    postprocess_1: Water density used to convert to equivalent water height: 1025 kg/m^3\n",
       "    postprocess_2: RL06 AOD1B; OCEAN_ATMOSPHERE_DEALIAS_MODEL (GAD), MONTHLY_AVE, ADDED BACK TO OCEAN PIXELS ONLY\n",
       "    GIA_Removed: ICE6G-D; Peltier, W. R., D. F. Argus, and R. Drummond (2018) Comment on the paper by Purcell et al. 2016 entitled An assessment of ICE-6G_C (VM5a) glacial isostatic adjustment model, J. Geophys. Res. Solid Earth, 122.\n",
       "    geocenter_correction: Version of TN-13 based on the CSR RL06 (https://podaac-tools.jpl.nasa.gov/drive/files/allData/grace/docs/TN-13_GEOC_CSR_RL06.txt)\n",
       "    C_20_substitution: TN-14; Loomis et al., 2019, Geophys. Res. Lett., doi:10.1029/2019GL082929 (https://podaac-tools.jpl.nasa.gov/drive/files/allData/gracefo/docs/TN-14_C30_C20_GSFC_SLR.txt)\n",
       "    C_30_substitution: TN-14; Loomis et al., 2019, Geophys. Res. Lett., doi:10.1029/2019GL082929 (https://podaac-tools.jpl.nasa.gov/drive/files/allData/gracefo/docs/TN-14_C30_C20_GSFC_SLR.txt)\n",
       "    user_note_1: The accelerometer on the GRACE-B spacecraft was turned off after August 2016.  After this date, the accelerometer on GRACE-A was used to derive the non-gravitational accelerations acting on GRACE-B using a transplant procedure.  This has led to a subsequent degradation in the quality of the gravity fields derived.\n",
       "    user_note_2: The accelerometer on the GRACE-FO 2 spacecraft has underperformed since after launch.  The accelerometer on GRACE-FO 1 was used to derive the non-gravitational accelerations acting on GRACE-FO 2 using a transplant procedure. This has led to a degradation in the quality of the gravity fields derived.\n",
       "    user_note_3: Ellipsoidal correction has been applied. The grid is represented on the ellipsoid with semi-major axis of 6378.1363 km\n",
       "    date_created: 2023-03-23T12:19:20Z\n",
       "    variable: liquid water equivalent thickness\n",
       "    label: RL06rc24cE\n",
       "    Mask: Global\n",
       "    dimensions(sizes): timebound(2), time(216), lon(1440), lat(720)\n",
       "    variables(dimensions): float32 time_bounds(time, timebound), float32 time(time), float32 lon(lon), float32 lat(lat), float32 lwe_thickness(time, lat, lon)\n",
       "    groups: "
      ]
     },
     "execution_count": 101,
     "metadata": {},
     "output_type": "execute_result"
    }
   ],
   "source": [
    "READ_CDF"
   ]
  },
  {
   "cell_type": "code",
   "execution_count": 5,
   "id": "fc298089",
   "metadata": {},
   "outputs": [
    {
     "name": "stdout",
     "output_type": "stream",
     "text": [
      "dict_keys(['time_bounds', 'time', 'lon', 'lat', 'lwe_thickness'])\n"
     ]
    }
   ],
   "source": [
    "print(READ_CDF.variables.keys())"
   ]
  },
  {
   "cell_type": "code",
   "execution_count": 6,
   "id": "fca0d539",
   "metadata": {},
   "outputs": [
    {
     "name": "stdout",
     "output_type": "stream",
     "text": [
      "Liquid_Water_Equivalent_Thickness\n"
     ]
    }
   ],
   "source": [
    "print(READ_CDF.variables[\"lwe_thickness\"].long_name)"
   ]
  },
  {
   "cell_type": "code",
   "execution_count": 7,
   "id": "527a8ec9",
   "metadata": {},
   "outputs": [
    {
     "name": "stdout",
     "output_type": "stream",
     "text": [
      "('time', 'lat', 'lon')\n"
     ]
    }
   ],
   "source": [
    "print(READ_CDF.variables[\"lwe_thickness\"].dimensions)"
   ]
  },
  {
   "cell_type": "code",
   "execution_count": 8,
   "id": "c1df20d4",
   "metadata": {},
   "outputs": [
    {
     "name": "stdout",
     "output_type": "stream",
     "text": [
      "('time', 'lat', 'lon')\n"
     ]
    }
   ],
   "source": [
    "print(READ_CDF.variables[\"lwe_thickness\"].dimensions)"
   ]
  },
  {
   "cell_type": "code",
   "execution_count": 9,
   "id": "700458b9",
   "metadata": {},
   "outputs": [
    {
     "name": "stdout",
     "output_type": "stream",
     "text": [
      "(216, 720, 1440)\n"
     ]
    }
   ],
   "source": [
    "print(READ_CDF.variables[\"lwe_thickness\"].shape)"
   ]
  },
  {
   "cell_type": "code",
   "execution_count": 12,
   "id": "c2d8f0c9",
   "metadata": {},
   "outputs": [
    {
     "data": {
      "text/plain": [
       "'time lat lon'"
      ]
     },
     "execution_count": 12,
     "metadata": {},
     "output_type": "execute_result"
    }
   ],
   "source": [
    "READ_CDF[\"lwe_thickness\"].coordinates"
   ]
  },
  {
   "cell_type": "code",
   "execution_count": 13,
   "id": "229eb1da",
   "metadata": {},
   "outputs": [
    {
     "name": "stdout",
     "output_type": "stream",
     "text": [
      "lwe_thickness\n"
     ]
    }
   ],
   "source": [
    "print(READ_CDF.variables[\"lwe_thickness\"].name)"
   ]
  },
  {
   "cell_type": "code",
   "execution_count": 14,
   "id": "16e93012",
   "metadata": {},
   "outputs": [
    {
     "name": "stdout",
     "output_type": "stream",
     "text": [
      "<class 'netCDF4._netCDF4.Variable'>\n",
      "float32 time_bounds(time, timebound)\n",
      "unlimited dimensions: \n",
      "current shape = (216, 2)\n",
      "filling on, default _FillValue of 9.969209968386869e+36 used\n"
     ]
    }
   ],
   "source": [
    "print(READ_CDF.variables[\"time_bounds\"])"
   ]
  },
  {
   "cell_type": "code",
   "execution_count": 15,
   "id": "00d4229d",
   "metadata": {},
   "outputs": [
    {
     "name": "stdout",
     "output_type": "stream",
     "text": [
      "float32\n"
     ]
    }
   ],
   "source": [
    "print(READ_CDF.variables[\"time_bounds\"].datatype)"
   ]
  },
  {
   "cell_type": "code",
   "execution_count": 16,
   "id": "582fdf9d",
   "metadata": {},
   "outputs": [
    {
     "name": "stdout",
     "output_type": "stream",
     "text": [
      "time_bounds\n"
     ]
    }
   ],
   "source": [
    "print(READ_CDF.variables[\"time_bounds\"].name)"
   ]
  },
  {
   "cell_type": "code",
   "execution_count": 17,
   "id": "d7d6b66a",
   "metadata": {},
   "outputs": [
    {
     "name": "stdout",
     "output_type": "stream",
     "text": [
      "2\n"
     ]
    }
   ],
   "source": [
    "print(READ_CDF.variables[\"time_bounds\"].ndim)"
   ]
  },
  {
   "cell_type": "code",
   "execution_count": 18,
   "id": "b046da40",
   "metadata": {},
   "outputs": [
    {
     "name": "stdout",
     "output_type": "stream",
     "text": [
      "(216, 2)\n"
     ]
    }
   ],
   "source": [
    "print(READ_CDF.variables[\"time_bounds\"].shape)"
   ]
  },
  {
   "cell_type": "code",
   "execution_count": 19,
   "id": "560f55c1",
   "metadata": {},
   "outputs": [],
   "source": [
    "LWE_THICKNESS_GENERAL = READ_CDF.variables[\"lwe_thickness\"][:,0,0]\n",
    "LAT_DATA = READ_CDF.variables[\"lat\"][0]\n",
    "LON_DATA = READ_CDF.variables[\"lon\"][0]\n",
    "TIME_DATA = READ_CDF.variables[\"time\"][:]"
   ]
  },
  {
   "cell_type": "code",
   "execution_count": 20,
   "id": "6af2b2d3",
   "metadata": {},
   "outputs": [
    {
     "data": {
      "text/plain": [
       "masked_array(data=[ 107. ,  129.5,  227.5,  258. ,  288.5,  319. ,  349.5,\n",
       "                    380.5,  410. ,  439.5,  470. ,  495.5,  561.5,  592.5,\n",
       "                    623. ,  653.5,  684. ,  714.5,  736.5,  777. ,  805.5,\n",
       "                    836. ,  866.5,  897. ,  927.5,  958.5,  989. , 1019.5,\n",
       "                   1050. , 1080.5, 1111.5, 1141. , 1170.5, 1201. , 1231.5,\n",
       "                   1262. , 1292.5, 1323.5, 1354. , 1384.5, 1415. , 1445.5,\n",
       "                   1476.5, 1506. , 1535.5, 1566. , 1596.5, 1627. , 1657.5,\n",
       "                   1688.5, 1719. , 1749.5, 1780. , 1810.5, 1841.5, 1870.5,\n",
       "                   1900.5, 1931. , 1961.5, 1992. , 2022.5, 2053.5, 2084. ,\n",
       "                   2114.5, 2145. , 2175.5, 2206.5, 2236.5, 2266.5, 2297. ,\n",
       "                   2327.5, 2358. , 2388.5, 2419.5, 2450. , 2480.5, 2511. ,\n",
       "                   2541.5, 2572.5, 2602. , 2631.5, 2662. , 2692.5, 2723. ,\n",
       "                   2753.5, 2784.5, 2815. , 2845.5, 2876. , 2906.5, 2937.5,\n",
       "                   2967. , 2996.5, 3027. , 3057.5, 3088. , 3118.5, 3149.5,\n",
       "                   3180. , 3210.5, 3241. , 3269.5, 3335.5, 3361.5, 3392. ,\n",
       "                   3422.5, 3485.5, 3514.5, 3545. , 3575.5, 3590.5, 3648. ,\n",
       "                   3667.5, 3697.5, 3727.5, 3746. , 3819. , 3849.5, 3880.5,\n",
       "                   3908.5, 3974.5, 4002.5, 4033.5, 4062. , 4128. , 4153.5,\n",
       "                   4184. , 4214.5, 4306.5, 4337. , 4367.5, 4391. , 4458.5,\n",
       "                   4488. , 4518.5, 4546. , 4610.5, 4641. , 4671.5, 4702. ,\n",
       "                   4769.5, 4793. , 4822.5, 4853. , 4864. , 4943.5, 4975.5,\n",
       "                   5004.5, 5104. , 5128.5, 5157. , 5188.5, 5253. , 5280. ,\n",
       "                   5309.5, 5346.5, 5444.5, 5471.5, 5499. , 5568.5, 5592.5,\n",
       "                   5611. , 5639.5, 6010. , 6034. , 6147.5, 6163. , 6193.5,\n",
       "                   6224.5, 6254. , 6283.5, 6314. , 6344.5, 6375. , 6405.5,\n",
       "                   6436.5, 6467. , 6497.5, 6528. , 6558.5, 6589.5, 6619.5,\n",
       "                   6649.5, 6680. , 6710.5, 6741. , 6771.5, 6802.5, 6833. ,\n",
       "                   6863.5, 6894. , 6924.5, 6955.5, 6985. , 7014.5, 7045. ,\n",
       "                   7075.5, 7106. , 7136.5, 7167.5, 7198. , 7228.5, 7259. ,\n",
       "                   7289.5, 7320.5, 7350. , 7379.5, 7410. , 7440.5, 7471. ,\n",
       "                   7501.5, 7532.5, 7563. , 7593.5, 7624. , 7654.5],\n",
       "             mask=False,\n",
       "       fill_value=1e+20,\n",
       "            dtype=float32)"
      ]
     },
     "execution_count": 20,
     "metadata": {},
     "output_type": "execute_result"
    }
   ],
   "source": [
    "TIME_DATA"
   ]
  },
  {
   "cell_type": "code",
   "execution_count": 21,
   "id": "3df00c3e",
   "metadata": {
    "scrolled": true
   },
   "outputs": [
    {
     "ename": "AttributeError",
     "evalue": "'MaskedArray' object has no attribute 'sel'",
     "output_type": "error",
     "traceback": [
      "\u001b[1;31m---------------------------------------------------------------------------\u001b[0m",
      "\u001b[1;31mAttributeError\u001b[0m                            Traceback (most recent call last)",
      "\u001b[1;32m~\\AppData\\Local\\Temp\\ipykernel_32168\\940027697.py\u001b[0m in \u001b[0;36m<module>\u001b[1;34m\u001b[0m\n\u001b[1;32m----> 1\u001b[1;33m \u001b[0mLWE_THICKNESS_GENERAL\u001b[0m\u001b[1;33m.\u001b[0m\u001b[0msel\u001b[0m\u001b[1;33m(\u001b[0m\u001b[0mlat\u001b[0m\u001b[1;33m=\u001b[0m\u001b[0mslice\u001b[0m\u001b[1;33m(\u001b[0m\u001b[1;36m25\u001b[0m\u001b[1;33m,\u001b[0m\u001b[1;36m30\u001b[0m\u001b[1;33m)\u001b[0m\u001b[1;33m,\u001b[0m \u001b[0mlon\u001b[0m\u001b[1;33m=\u001b[0m\u001b[0mslice\u001b[0m\u001b[1;33m(\u001b[0m\u001b[1;36m15\u001b[0m\u001b[1;33m,\u001b[0m \u001b[1;36m45\u001b[0m\u001b[1;33m)\u001b[0m\u001b[1;33m)\u001b[0m\u001b[1;33m.\u001b[0m\u001b[0mplot\u001b[0m\u001b[1;33m(\u001b[0m\u001b[1;33m)\u001b[0m\u001b[1;33m\u001b[0m\u001b[1;33m\u001b[0m\u001b[0m\n\u001b[0m",
      "\u001b[1;31mAttributeError\u001b[0m: 'MaskedArray' object has no attribute 'sel'"
     ]
    }
   ],
   "source": [
    "LWE_THICKNESS_GENERAL.sel(lat=slice(25,30), lon=slice(15, 45)).plot()"
   ]
  },
  {
   "cell_type": "code",
   "execution_count": 79,
   "id": "d5bb9528",
   "metadata": {},
   "outputs": [
    {
     "name": "stdout",
     "output_type": "stream",
     "text": [
      "216\n"
     ]
    }
   ],
   "source": [
    "print(len(LWE_THICKNESS_GENERAL))"
   ]
  },
  {
   "cell_type": "code",
   "execution_count": 82,
   "id": "4de8ad9f",
   "metadata": {},
   "outputs": [],
   "source": [
    "Extracted =  pd.Series(LWE_THICKNESS_GENERAL,name=\"LWE_THICKNESS\").astype(float)\n",
    "TIME_SER = pd.Series(TIME_DATA,name=\"TIME\").astype(float)"
   ]
  },
  {
   "cell_type": "code",
   "execution_count": 86,
   "id": "9854a56d",
   "metadata": {},
   "outputs": [],
   "source": [
    "JOINED = pd.concat([Extracted, TIME_SER], axis = 1)"
   ]
  },
  {
   "cell_type": "code",
   "execution_count": 87,
   "id": "8d67c204",
   "metadata": {},
   "outputs": [
    {
     "data": {
      "text/html": [
       "<div>\n",
       "<style scoped>\n",
       "    .dataframe tbody tr th:only-of-type {\n",
       "        vertical-align: middle;\n",
       "    }\n",
       "\n",
       "    .dataframe tbody tr th {\n",
       "        vertical-align: top;\n",
       "    }\n",
       "\n",
       "    .dataframe thead th {\n",
       "        text-align: right;\n",
       "    }\n",
       "</style>\n",
       "<table border=\"1\" class=\"dataframe\">\n",
       "  <thead>\n",
       "    <tr style=\"text-align: right;\">\n",
       "      <th></th>\n",
       "      <th>LWE_THICKNESS</th>\n",
       "      <th>TIME</th>\n",
       "    </tr>\n",
       "  </thead>\n",
       "  <tbody>\n",
       "    <tr>\n",
       "      <th>0</th>\n",
       "      <td>-2.468668</td>\n",
       "      <td>122.0</td>\n",
       "    </tr>\n",
       "    <tr>\n",
       "      <th>1</th>\n",
       "      <td>-1.569404</td>\n",
       "      <td>137.0</td>\n",
       "    </tr>\n",
       "    <tr>\n",
       "      <th>2</th>\n",
       "      <td>-3.044039</td>\n",
       "      <td>NaN</td>\n",
       "    </tr>\n",
       "    <tr>\n",
       "      <th>3</th>\n",
       "      <td>-3.201635</td>\n",
       "      <td>NaN</td>\n",
       "    </tr>\n",
       "    <tr>\n",
       "      <th>4</th>\n",
       "      <td>-1.785586</td>\n",
       "      <td>NaN</td>\n",
       "    </tr>\n",
       "    <tr>\n",
       "      <th>...</th>\n",
       "      <td>...</td>\n",
       "      <td>...</td>\n",
       "    </tr>\n",
       "    <tr>\n",
       "      <th>211</th>\n",
       "      <td>10.281417</td>\n",
       "      <td>NaN</td>\n",
       "    </tr>\n",
       "    <tr>\n",
       "      <th>212</th>\n",
       "      <td>11.549488</td>\n",
       "      <td>NaN</td>\n",
       "    </tr>\n",
       "    <tr>\n",
       "      <th>213</th>\n",
       "      <td>9.222192</td>\n",
       "      <td>NaN</td>\n",
       "    </tr>\n",
       "    <tr>\n",
       "      <th>214</th>\n",
       "      <td>12.070022</td>\n",
       "      <td>NaN</td>\n",
       "    </tr>\n",
       "    <tr>\n",
       "      <th>215</th>\n",
       "      <td>14.730127</td>\n",
       "      <td>NaN</td>\n",
       "    </tr>\n",
       "  </tbody>\n",
       "</table>\n",
       "<p>216 rows × 2 columns</p>\n",
       "</div>"
      ],
      "text/plain": [
       "     LWE_THICKNESS   TIME\n",
       "0        -2.468668  122.0\n",
       "1        -1.569404  137.0\n",
       "2        -3.044039    NaN\n",
       "3        -3.201635    NaN\n",
       "4        -1.785586    NaN\n",
       "..             ...    ...\n",
       "211      10.281417    NaN\n",
       "212      11.549488    NaN\n",
       "213       9.222192    NaN\n",
       "214      12.070022    NaN\n",
       "215      14.730127    NaN\n",
       "\n",
       "[216 rows x 2 columns]"
      ]
     },
     "execution_count": 87,
     "metadata": {},
     "output_type": "execute_result"
    }
   ],
   "source": [
    "JOINED"
   ]
  },
  {
   "cell_type": "code",
   "execution_count": 91,
   "id": "b05e7431",
   "metadata": {},
   "outputs": [],
   "source": [
    "JOINED.to_excel('JOINED.xlsx', index=True)"
   ]
  },
  {
   "cell_type": "code",
   "execution_count": 64,
   "id": "fef7c0cd",
   "metadata": {},
   "outputs": [],
   "source": [
    "#LAT_TH = LWE_THICKNESS_GENERAL[:,0]\n",
    "#LON_TH = LWE_THICKNESS_GENERAL[0,:]\n",
    "\n",
    "#LAT_TH_SER = pd.Series(LAT_TH,name=\"LAT_THICKNESS\").astype(float)\n",
    "#LON_TH_SER = pd.Series(LON_TH,name=\"LON_THICKNESS\").astype(float)\n",
    "\n",
    "TIME_SER = pd.Series(TIME_DATA,name=\"TIME\").astype(float)\n",
    "LAT_SER = pd.Series(LAT_DATA,name=\"LAT\").astype(float)\n",
    "#LON_SER = pd.Series(LON_DATA,name=\"LON\").astype(float)\n",
    "\n",
    "MAIN_TARGET = pd.concat([TIME_SER,LAT_SER,LON_SER,LAT_TH_SER,LON_TH_SER],axis=1)\n",
    "\n",
    "#MAIN_TARGET[\"TOTAL_THICKNESS\"] = MAIN_TARGET[\"LAT_THICKNESS\"] + MAIN_TARGET[\"LON_THICKNESS\"]"
   ]
  },
  {
   "cell_type": "code",
   "execution_count": 85,
   "id": "50a31927",
   "metadata": {},
   "outputs": [
    {
     "data": {
      "text/html": [
       "<div>\n",
       "<style scoped>\n",
       "    .dataframe tbody tr th:only-of-type {\n",
       "        vertical-align: middle;\n",
       "    }\n",
       "\n",
       "    .dataframe tbody tr th {\n",
       "        vertical-align: top;\n",
       "    }\n",
       "\n",
       "    .dataframe thead th {\n",
       "        text-align: right;\n",
       "    }\n",
       "</style>\n",
       "<table border=\"1\" class=\"dataframe\">\n",
       "  <thead>\n",
       "    <tr style=\"text-align: right;\">\n",
       "      <th></th>\n",
       "      <th>TIME</th>\n",
       "      <th>LAT</th>\n",
       "      <th>LON</th>\n",
       "      <th>LAT_THICKNESS</th>\n",
       "      <th>LON_THICKNESS</th>\n",
       "    </tr>\n",
       "  </thead>\n",
       "  <tbody>\n",
       "    <tr>\n",
       "      <th>0</th>\n",
       "      <td>107.0</td>\n",
       "      <td>-89.875</td>\n",
       "      <td>0.125</td>\n",
       "      <td>-2.468668</td>\n",
       "      <td>-2.468668</td>\n",
       "    </tr>\n",
       "    <tr>\n",
       "      <th>1</th>\n",
       "      <td>129.5</td>\n",
       "      <td>NaN</td>\n",
       "      <td>NaN</td>\n",
       "      <td>-2.468668</td>\n",
       "      <td>-2.468668</td>\n",
       "    </tr>\n",
       "    <tr>\n",
       "      <th>2</th>\n",
       "      <td>227.5</td>\n",
       "      <td>NaN</td>\n",
       "      <td>NaN</td>\n",
       "      <td>-3.255136</td>\n",
       "      <td>-2.468668</td>\n",
       "    </tr>\n",
       "    <tr>\n",
       "      <th>3</th>\n",
       "      <td>258.0</td>\n",
       "      <td>NaN</td>\n",
       "      <td>NaN</td>\n",
       "      <td>-3.255136</td>\n",
       "      <td>-2.468668</td>\n",
       "    </tr>\n",
       "    <tr>\n",
       "      <th>4</th>\n",
       "      <td>288.5</td>\n",
       "      <td>NaN</td>\n",
       "      <td>NaN</td>\n",
       "      <td>-3.255136</td>\n",
       "      <td>-2.468668</td>\n",
       "    </tr>\n",
       "    <tr>\n",
       "      <th>...</th>\n",
       "      <td>...</td>\n",
       "      <td>...</td>\n",
       "      <td>...</td>\n",
       "      <td>...</td>\n",
       "      <td>...</td>\n",
       "    </tr>\n",
       "    <tr>\n",
       "      <th>1435</th>\n",
       "      <td>NaN</td>\n",
       "      <td>NaN</td>\n",
       "      <td>NaN</td>\n",
       "      <td>NaN</td>\n",
       "      <td>-2.468668</td>\n",
       "    </tr>\n",
       "    <tr>\n",
       "      <th>1436</th>\n",
       "      <td>NaN</td>\n",
       "      <td>NaN</td>\n",
       "      <td>NaN</td>\n",
       "      <td>NaN</td>\n",
       "      <td>-2.468668</td>\n",
       "    </tr>\n",
       "    <tr>\n",
       "      <th>1437</th>\n",
       "      <td>NaN</td>\n",
       "      <td>NaN</td>\n",
       "      <td>NaN</td>\n",
       "      <td>NaN</td>\n",
       "      <td>-2.468668</td>\n",
       "    </tr>\n",
       "    <tr>\n",
       "      <th>1438</th>\n",
       "      <td>NaN</td>\n",
       "      <td>NaN</td>\n",
       "      <td>NaN</td>\n",
       "      <td>NaN</td>\n",
       "      <td>-2.468668</td>\n",
       "    </tr>\n",
       "    <tr>\n",
       "      <th>1439</th>\n",
       "      <td>NaN</td>\n",
       "      <td>NaN</td>\n",
       "      <td>NaN</td>\n",
       "      <td>NaN</td>\n",
       "      <td>-2.468668</td>\n",
       "    </tr>\n",
       "  </tbody>\n",
       "</table>\n",
       "<p>1440 rows × 5 columns</p>\n",
       "</div>"
      ],
      "text/plain": [
       "       TIME     LAT    LON  LAT_THICKNESS  LON_THICKNESS\n",
       "0     107.0 -89.875  0.125      -2.468668      -2.468668\n",
       "1     129.5     NaN    NaN      -2.468668      -2.468668\n",
       "2     227.5     NaN    NaN      -3.255136      -2.468668\n",
       "3     258.0     NaN    NaN      -3.255136      -2.468668\n",
       "4     288.5     NaN    NaN      -3.255136      -2.468668\n",
       "...     ...     ...    ...            ...            ...\n",
       "1435    NaN     NaN    NaN            NaN      -2.468668\n",
       "1436    NaN     NaN    NaN            NaN      -2.468668\n",
       "1437    NaN     NaN    NaN            NaN      -2.468668\n",
       "1438    NaN     NaN    NaN            NaN      -2.468668\n",
       "1439    NaN     NaN    NaN            NaN      -2.468668\n",
       "\n",
       "[1440 rows x 5 columns]"
      ]
     },
     "execution_count": 85,
     "metadata": {},
     "output_type": "execute_result"
    }
   ],
   "source": [
    "MAIN_TARGET"
   ]
  },
  {
   "cell_type": "code",
   "execution_count": 53,
   "id": "60d01545",
   "metadata": {},
   "outputs": [
    {
     "data": {
      "text/html": [
       "<div>\n",
       "<style scoped>\n",
       "    .dataframe tbody tr th:only-of-type {\n",
       "        vertical-align: middle;\n",
       "    }\n",
       "\n",
       "    .dataframe tbody tr th {\n",
       "        vertical-align: top;\n",
       "    }\n",
       "\n",
       "    .dataframe thead th {\n",
       "        text-align: right;\n",
       "    }\n",
       "</style>\n",
       "<table border=\"1\" class=\"dataframe\">\n",
       "  <thead>\n",
       "    <tr style=\"text-align: right;\">\n",
       "      <th></th>\n",
       "      <th>TIME</th>\n",
       "      <th>LAT</th>\n",
       "      <th>LON</th>\n",
       "      <th>LAT_THICKNESS</th>\n",
       "      <th>LON_THICKNESS</th>\n",
       "    </tr>\n",
       "  </thead>\n",
       "  <tbody>\n",
       "    <tr>\n",
       "      <th>0</th>\n",
       "      <td>107.0</td>\n",
       "      <td>-89.875</td>\n",
       "      <td>0.125</td>\n",
       "      <td>-2.468668</td>\n",
       "      <td>-2.468668</td>\n",
       "    </tr>\n",
       "    <tr>\n",
       "      <th>1</th>\n",
       "      <td>129.5</td>\n",
       "      <td>-89.625</td>\n",
       "      <td>0.375</td>\n",
       "      <td>-2.468668</td>\n",
       "      <td>-2.468668</td>\n",
       "    </tr>\n",
       "    <tr>\n",
       "      <th>2</th>\n",
       "      <td>227.5</td>\n",
       "      <td>-89.375</td>\n",
       "      <td>0.625</td>\n",
       "      <td>-3.255136</td>\n",
       "      <td>-2.468668</td>\n",
       "    </tr>\n",
       "    <tr>\n",
       "      <th>3</th>\n",
       "      <td>258.0</td>\n",
       "      <td>-89.125</td>\n",
       "      <td>0.875</td>\n",
       "      <td>-3.255136</td>\n",
       "      <td>-2.468668</td>\n",
       "    </tr>\n",
       "    <tr>\n",
       "      <th>4</th>\n",
       "      <td>288.5</td>\n",
       "      <td>-88.875</td>\n",
       "      <td>1.125</td>\n",
       "      <td>-3.255136</td>\n",
       "      <td>-2.468668</td>\n",
       "    </tr>\n",
       "    <tr>\n",
       "      <th>...</th>\n",
       "      <td>...</td>\n",
       "      <td>...</td>\n",
       "      <td>...</td>\n",
       "      <td>...</td>\n",
       "      <td>...</td>\n",
       "    </tr>\n",
       "    <tr>\n",
       "      <th>1435</th>\n",
       "      <td>NaN</td>\n",
       "      <td>NaN</td>\n",
       "      <td>358.875</td>\n",
       "      <td>NaN</td>\n",
       "      <td>-2.468668</td>\n",
       "    </tr>\n",
       "    <tr>\n",
       "      <th>1436</th>\n",
       "      <td>NaN</td>\n",
       "      <td>NaN</td>\n",
       "      <td>359.125</td>\n",
       "      <td>NaN</td>\n",
       "      <td>-2.468668</td>\n",
       "    </tr>\n",
       "    <tr>\n",
       "      <th>1437</th>\n",
       "      <td>NaN</td>\n",
       "      <td>NaN</td>\n",
       "      <td>359.375</td>\n",
       "      <td>NaN</td>\n",
       "      <td>-2.468668</td>\n",
       "    </tr>\n",
       "    <tr>\n",
       "      <th>1438</th>\n",
       "      <td>NaN</td>\n",
       "      <td>NaN</td>\n",
       "      <td>359.625</td>\n",
       "      <td>NaN</td>\n",
       "      <td>-2.468668</td>\n",
       "    </tr>\n",
       "    <tr>\n",
       "      <th>1439</th>\n",
       "      <td>NaN</td>\n",
       "      <td>NaN</td>\n",
       "      <td>359.875</td>\n",
       "      <td>NaN</td>\n",
       "      <td>-2.468668</td>\n",
       "    </tr>\n",
       "  </tbody>\n",
       "</table>\n",
       "<p>1440 rows × 5 columns</p>\n",
       "</div>"
      ],
      "text/plain": [
       "       TIME     LAT      LON  LAT_THICKNESS  LON_THICKNESS\n",
       "0     107.0 -89.875    0.125      -2.468668      -2.468668\n",
       "1     129.5 -89.625    0.375      -2.468668      -2.468668\n",
       "2     227.5 -89.375    0.625      -3.255136      -2.468668\n",
       "3     258.0 -89.125    0.875      -3.255136      -2.468668\n",
       "4     288.5 -88.875    1.125      -3.255136      -2.468668\n",
       "...     ...     ...      ...            ...            ...\n",
       "1435    NaN     NaN  358.875            NaN      -2.468668\n",
       "1436    NaN     NaN  359.125            NaN      -2.468668\n",
       "1437    NaN     NaN  359.375            NaN      -2.468668\n",
       "1438    NaN     NaN  359.625            NaN      -2.468668\n",
       "1439    NaN     NaN  359.875            NaN      -2.468668\n",
       "\n",
       "[1440 rows x 5 columns]"
      ]
     },
     "execution_count": 53,
     "metadata": {},
     "output_type": "execute_result"
    }
   ],
   "source": [
    "MAIN_TARGET"
   ]
  },
  {
   "cell_type": "code",
   "execution_count": null,
   "id": "065cb600",
   "metadata": {},
   "outputs": [],
   "source": []
  },
  {
   "cell_type": "code",
   "execution_count": null,
   "id": "b762c2fd",
   "metadata": {},
   "outputs": [],
   "source": []
  },
  {
   "cell_type": "code",
   "execution_count": null,
   "id": "e108c1c1",
   "metadata": {},
   "outputs": [],
   "source": []
  },
  {
   "cell_type": "code",
   "execution_count": null,
   "id": "ccd9b38f",
   "metadata": {},
   "outputs": [],
   "source": []
  }
 ],
 "metadata": {
  "kernelspec": {
   "display_name": "Python 3 (ipykernel)",
   "language": "python",
   "name": "python3"
  },
  "language_info": {
   "codemirror_mode": {
    "name": "ipython",
    "version": 3
   },
   "file_extension": ".py",
   "mimetype": "text/x-python",
   "name": "python",
   "nbconvert_exporter": "python",
   "pygments_lexer": "ipython3",
   "version": "3.9.13"
  }
 },
 "nbformat": 4,
 "nbformat_minor": 5
}
