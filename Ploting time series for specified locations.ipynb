{
 "cells": [
  {
   "cell_type": "code",
   "execution_count": null,
   "id": "9a72796c",
   "metadata": {},
   "outputs": [],
   "source": [
    "import pandas as pd\n",
    "import numpy as np\n",
    "import matplotlib.pyplot as plt\n",
    "import cartopy.crs as ccrs\n",
    "import cartopy.feature as cfeature\n",
    "import geopandas as gpd\n",
    "import numpy as np\n",
    "import matplotlib.colors as mcolors\n",
    "from matplotlib.cm import ScalarMappable\n",
    "from scipy.stats import spearmanr\n",
    "from sklearn.linear_model import LinearRegression"
   ]
  },
  {
   "cell_type": "code",
   "execution_count": null,
   "id": "cbc74c12",
   "metadata": {},
   "outputs": [],
   "source": [
    "# importing the dataframe'\n",
    "df1 = pd.read_csv('recharge_with_coord.csv')\n",
    "df2= pd.read_csv('recharge_with_coord.csv')\n",
    "df1"
   ]
  },
  {
   "cell_type": "code",
   "execution_count": null,
   "id": "14bf305e",
   "metadata": {},
   "outputs": [],
   "source": [
    "lat_value = 43.625\n",
    "longitude = 17.625\n",
    "if longitude < 0:\n",
    "    lon_value = 360 + longitude\n",
    "if longitude > 0:\n",
    "    lon_value = longitude\n",
    "# Using the query method\n",
    "selected_row = df1.query('lat == @lat_value and lon == @lon_value')\n",
    "\n",
    "selected_row"
   ]
  },
  {
   "cell_type": "code",
   "execution_count": null,
   "id": "e4ba846e",
   "metadata": {},
   "outputs": [],
   "source": [
    "\n",
    "#Specify the axis\n",
    "index = selected_row.index[0]\n",
    "index"
   ]
  },
  {
   "cell_type": "code",
   "execution_count": null,
   "id": "72747da2",
   "metadata": {
    "scrolled": false
   },
   "outputs": [],
   "source": [
    "data1 = df1.iloc[:, 3:]\n",
    "data2 = df2.iloc[:, 3:]\n",
    "\n",
    "# Transposed the DataFrames so that the time component becomes the index\n",
    "data1 = data1.T\n",
    "data2 = data2.T\n",
    "\n",
    "# Converted the index of each DataFrame to a proper datetime format\n",
    "data1.index = pd.to_datetime(data1.index)\n",
    "data2.index = pd.to_datetime(data2.index)\n",
    "\n",
    "# Prepared the x and y values for linear regression\n",
    "x_values = np.arange(len(data1.index)).reshape(-1, 1)\n",
    "y_values = data1.iloc[:, index]\n",
    "\n",
    "# Fitted the linear regression model\n",
    "model = LinearRegression()\n",
    "model.fit(x_values, y_values)\n",
    "\n",
    "# Predicted the trend line values\n",
    "trend_line = model.predict(x_values)\n",
    "\n",
    "fig = plt.figure(figsize=(30, 30))\n",
    "\n",
    "# Created a figure object and add an axis to it\n",
    "fig, ax1 = plt.subplots()\n",
    "\n",
    "# Plottedthe GWS time series and the trend line on the same axis\n",
    "ax1.plot(data1.index, data1.iloc[:, index], label='Recharge', color='b')\n",
    "ax1.plot(data1.index, trend_line, label='Trend Line', color='r')  # Add the trend line\n",
    "\n",
    "# Added axis labels and title\n",
    "ax1.set_xlabel('Time')\n",
    "ax1.set_ylabel('Recharge (mm)', color='b')\n",
    "plt.title('Recharge lat=' + str(lat_value) + ' and lon=' + str(longitude))\n",
    "\n",
    "# Added a legend and display the plot\n",
    "ax1.legend(loc='upper left')\n",
    "plt.show()"
   ]
  },
  {
   "cell_type": "code",
   "execution_count": null,
   "id": "37c8c527",
   "metadata": {},
   "outputs": [],
   "source": []
  }
 ],
 "metadata": {
  "kernelspec": {
   "display_name": "Python 3 (ipykernel)",
   "language": "python",
   "name": "python3"
  },
  "language_info": {
   "codemirror_mode": {
    "name": "ipython",
    "version": 3
   },
   "file_extension": ".py",
   "mimetype": "text/x-python",
   "name": "python",
   "nbconvert_exporter": "python",
   "pygments_lexer": "ipython3",
   "version": "3.9.13"
  }
 },
 "nbformat": 4,
 "nbformat_minor": 5
}
