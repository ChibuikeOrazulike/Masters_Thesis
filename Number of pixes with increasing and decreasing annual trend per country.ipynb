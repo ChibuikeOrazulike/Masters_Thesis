{
 "cells": [
  {
   "cell_type": "code",
   "execution_count": null,
   "id": "1f2113f6",
   "metadata": {},
   "outputs": [],
   "source": [
    "import pandas as pd\n",
    "import geopandas as gpd\n",
    "from shapely.geometry import Point"
   ]
  },
  {
   "cell_type": "code",
   "execution_count": null,
   "id": "3d1f13d0",
   "metadata": {},
   "outputs": [],
   "source": [
    "#Importing the dataframe containg the sen's slope values\n",
    "df = pd.read_csv('Tau_GWS1.csv')\n",
    "df"
   ]
  },
  {
   "cell_type": "code",
   "execution_count": null,
   "id": "a223e413",
   "metadata": {},
   "outputs": [],
   "source": [
    "# Converted DataFrame to GeoDataFrame\n",
    "geometry = [Point(xy) for xy in zip(df['lon'], df['lat'])]\n",
    "df = df.drop(['lon', 'lat'], axis=1)\n",
    "gdf = gpd.GeoDataFrame(df, geometry=geometry, crs=\"EPSG:4326\")  # Set the CRS to WGS84\n",
    "\n",
    "# Loaded world shapefile\n",
    "world = gpd.read_file('world.shp')  # replace with your path\n",
    "\n",
    "# Made sure both GeoDataFrames are in the same CRS\n",
    "world = world.to_crs(gdf.crs)\n",
    "\n",
    "# Performed a spatial join between points and polygons (here, countries)\n",
    "gdf_sjoined = gpd.sjoin(gdf, world, how=\"inner\", op=\"within\")\n",
    "\n",
    "# Created 'positive' and 'negative' columns based on 'Ave' values\n",
    "gdf_sjoined['positive'] = gdf_sjoined['tau'].apply(lambda x: 1 if x > 0 else 0)\n",
    "gdf_sjoined['negative'] = gdf_sjoined['tau'].apply(lambda x: 1 if x < 0 else 0)\n",
    "\n",
    "# Grouped by country and calculate the sum of 'positive' and 'negative'\n",
    "mean_ave_df1 = gdf_sjoined.groupby('NAME')[['positive', 'negative']].sum().reset_index()"
   ]
  },
  {
   "cell_type": "code",
   "execution_count": null,
   "id": "8729a62d",
   "metadata": {},
   "outputs": [],
   "source": [
    "mean_ave_df1\n",
    "mean_ave_df1.sort_values(by='negative', ascending=True, inplace=True)\n",
    "mean_ave_df1"
   ]
  },
  {
   "cell_type": "code",
   "execution_count": null,
   "id": "09a52877",
   "metadata": {
    "scrolled": false
   },
   "outputs": [],
   "source": [
    "import seaborn as sns\n",
    "import matplotlib.pyplot as plt\n",
    "import matplotlib.patches as mpatches\n",
    "\n",
    "# Set a theme\n",
    "sns.set_theme(style=\"whitegrid\")\n",
    "\n",
    "# Created a figure and axes\n",
    "fig, ax = plt.subplots(figsize=(15, 10))\n",
    "\n",
    "# Created the barplot with seaborn for 'Ave' column\n",
    "barplot1 = sns.barplot(x=\"positive\", y=\"NAME\", data=mean_ave_df1, ax=ax, color='blue')\n",
    "\n",
    "# Created the barplot with seaborn for 'rech' column - make sure to replace 'rech' with your actual column name\n",
    "barplot2 = sns.barplot(x=\"negative\", y=\"NAME\", data=mean_ave_df1, ax=ax, color='red', alpha=0.5)\n",
    "\n",
    "# Set grid\n",
    "ax.grid(True, which='both', color='black', linewidth=0.1)\n",
    "\n",
    "# Added labels and title\n",
    "ax.set_xlabel(\"Number of grids\", fontsize=20)\n",
    "ax.set_ylabel(\"Country\", fontsize=20)\n",
    "ax.set_title(\"Number of grid cells for Increasing and Decreasing Groundwater Trend per country \\n GWS (without soil moiture)  \", fontsize=25)\n",
    "\n",
    "# Set y-axis labels to bold\n",
    "for label in ax.get_yticklabels():\n",
    "    label.set_weight('bold')\n",
    "\n",
    "# Created a legend\n",
    "blue_patch = mpatches.Patch(color='blue', label='Increasing trend')\n",
    "red_patch = mpatches.Patch(color='red', label='Decreasing trend', alpha=0.5)\n",
    "plt.legend(handles=[blue_patch, red_patch])\n",
    "\n",
    "# Showed the plot\n",
    "plt.show()"
   ]
  },
  {
   "cell_type": "code",
   "execution_count": null,
   "id": "34f6e3d9",
   "metadata": {},
   "outputs": [],
   "source": []
  },
  {
   "cell_type": "code",
   "execution_count": null,
   "id": "dae7656b",
   "metadata": {},
   "outputs": [],
   "source": []
  },
  {
   "cell_type": "code",
   "execution_count": null,
   "id": "2b0d6a49",
   "metadata": {},
   "outputs": [],
   "source": [
    "##▶▶▶▶▶▶▶▶▶▶▶▶▶▶▶▶▶▶▶GWS (including soil moisture storage)◀◀◀◀◀◀◀◀◀◀◀◀◀◀◀◀◀◀◀◀◀◀◀◀◀◀"
   ]
  },
  {
   "cell_type": "code",
   "execution_count": null,
   "id": "92839310",
   "metadata": {},
   "outputs": [],
   "source": [
    "df = pd.read_csv('Tau_GWS2.csv')\n",
    "df"
   ]
  },
  {
   "cell_type": "code",
   "execution_count": null,
   "id": "af7a06d1",
   "metadata": {},
   "outputs": [],
   "source": [
    "# Converted DataFrame to GeoDataFrame\n",
    "geometry = [Point(xy) for xy in zip(df['lon'], df['lat'])]\n",
    "df = df.drop(['lon', 'lat'], axis=1)\n",
    "gdf = gpd.GeoDataFrame(df, geometry=geometry, crs=\"EPSG:4326\")  # Set the CRS to WGS84\n",
    "\n",
    "# Loaded world shapefile\n",
    "world = gpd.read_file('world.shp')  # replace with your path\n",
    "\n",
    "# Made sure both GeoDataFrames are in the same CRS\n",
    "world = world.to_crs(gdf.crs)\n",
    "\n",
    "# Performed a spatial join between points and polygons (here, countries)\n",
    "gdf_sjoined = gpd.sjoin(gdf, world, how=\"inner\", op=\"within\")\n",
    "\n",
    "# Created 'positive' and 'negative' columns based on 'Ave' values\n",
    "gdf_sjoined['positive'] = gdf_sjoined['tau'].apply(lambda x: 1 if x > 0 else 0)\n",
    "gdf_sjoined['negative'] = gdf_sjoined['tau'].apply(lambda x: 1 if x < 0 else 0)\n",
    "\n",
    "# Grouped by country and calculate the sum of 'positive' and 'negative'\n",
    "mean_ave_df1 = gdf_sjoined.groupby('NAME')[['positive', 'negative']].sum().reset_index()"
   ]
  },
  {
   "cell_type": "code",
   "execution_count": null,
   "id": "1880c831",
   "metadata": {},
   "outputs": [],
   "source": [
    "mean_ave_df1\n",
    "mean_ave_df1.sort_values(by='negative', ascending=True, inplace=True)\n",
    "mean_ave_df1"
   ]
  },
  {
   "cell_type": "code",
   "execution_count": null,
   "id": "47271149",
   "metadata": {
    "scrolled": false
   },
   "outputs": [],
   "source": [
    "import seaborn as sns\n",
    "import matplotlib.pyplot as plt\n",
    "import matplotlib.patches as mpatches\n",
    "\n",
    "# Set a theme\n",
    "sns.set_theme(style=\"whitegrid\")\n",
    "\n",
    "# Created a figure and axes\n",
    "fig, ax = plt.subplots(figsize=(15, 10))\n",
    "\n",
    "# Created the barplot with seaborn for 'Ave' column\n",
    "barplot1 = sns.barplot(x=\"positive\", y=\"NAME\", data=mean_ave_df1, ax=ax, color='blue')\n",
    "\n",
    "# Created the barplot with seaborn for 'rech' column - make sure to replace 'rech' with your actual column name\n",
    "barplot2 = sns.barplot(x=\"negative\", y=\"NAME\", data=mean_ave_df1, ax=ax, color='red', alpha=0.5)\n",
    "\n",
    "# Set grid\n",
    "ax.grid(True, which='both', color='black', linewidth=0.1)\n",
    "\n",
    "# Added labels and title\n",
    "ax.set_xlabel(\"Number of grids\", fontsize=20)\n",
    "ax.set_ylabel(\"Country\", fontsize=20)\n",
    "ax.set_title(\"Number of grid cells for Increasing and Decreasing Groundwater Trend per country \\n GWS (including soil moiture)  \", fontsize=25)\n",
    "\n",
    "# Set y-axis labels to bold\n",
    "for label in ax.get_yticklabels():\n",
    "    label.set_weight('bold')\n",
    "\n",
    "# Created a legend\n",
    "blue_patch = mpatches.Patch(color='blue', label='Increasing trend')\n",
    "red_patch = mpatches.Patch(color='red', label='Decreasing trend', alpha=0.5)\n",
    "plt.legend(handles=[blue_patch, red_patch])\n",
    "\n",
    "# Showed the plot\n",
    "plt.show()"
   ]
  },
  {
   "cell_type": "code",
   "execution_count": null,
   "id": "a619a98d",
   "metadata": {},
   "outputs": [],
   "source": []
  },
  {
   "cell_type": "code",
   "execution_count": null,
   "id": "2239c3ab",
   "metadata": {},
   "outputs": [],
   "source": [
    "##▶▶▶▶▶▶▶▶▶▶▶▶▶▶▶▶▶▶▶Recharge◀◀◀◀◀◀◀◀◀◀◀◀◀◀◀◀◀◀◀◀◀◀◀◀◀◀"
   ]
  },
  {
   "cell_type": "code",
   "execution_count": null,
   "id": "b32d9620",
   "metadata": {},
   "outputs": [],
   "source": [
    "df = pd.read_csv('Tau_recharge.csv')\n",
    "df"
   ]
  },
  {
   "cell_type": "code",
   "execution_count": null,
   "id": "638453b1",
   "metadata": {},
   "outputs": [],
   "source": [
    "# Converted DataFrame to GeoDataFrame\n",
    "geometry = [Point(xy) for xy in zip(df['lon'], df['lat'])]\n",
    "df = df.drop(['lon', 'lat'], axis=1)\n",
    "gdf = gpd.GeoDataFrame(df, geometry=geometry, crs=\"EPSG:4326\")  # Set the CRS to WGS84\n",
    "\n",
    "# Loaded world shapefile\n",
    "world = gpd.read_file('world.shp')  # replace with your path\n",
    "\n",
    "# Made sure both GeoDataFrames are in the same CRS\n",
    "world = world.to_crs(gdf.crs)\n",
    "\n",
    "# Performed a spatial join between points and polygons (here, countries)\n",
    "gdf_sjoined = gpd.sjoin(gdf, world, how=\"inner\", op=\"within\")\n",
    "\n",
    "# Created 'positive' and 'negative' columns based on 'Ave' values\n",
    "gdf_sjoined['positive'] = gdf_sjoined['tau'].apply(lambda x: 1 if x > 0 else 0)\n",
    "gdf_sjoined['negative'] = gdf_sjoined['tau'].apply(lambda x: 1 if x < 0 else 0)\n",
    "\n",
    "# Grouped by country and calculate the sum of 'positive' and 'negative'\n",
    "mean_ave_df1 = gdf_sjoined.groupby('NAME')[['positive', 'negative']].sum().reset_index()"
   ]
  },
  {
   "cell_type": "code",
   "execution_count": null,
   "id": "090d76e2",
   "metadata": {},
   "outputs": [],
   "source": [
    "mean_ave_df1\n",
    "mean_ave_df1.sort_values(by='negative', ascending=True, inplace=True)\n",
    "mean_ave_df1"
   ]
  },
  {
   "cell_type": "code",
   "execution_count": null,
   "id": "566c7513",
   "metadata": {
    "scrolled": false
   },
   "outputs": [],
   "source": [
    "import seaborn as sns\n",
    "import matplotlib.pyplot as plt\n",
    "import matplotlib.patches as mpatches\n",
    "\n",
    "# Set a theme\n",
    "sns.set_theme(style=\"whitegrid\")\n",
    "\n",
    "# Created a figure and axes\n",
    "fig, ax = plt.subplots(figsize=(15, 10))\n",
    "\n",
    "# Created the barplot with seaborn for 'Ave' column\n",
    "barplot1 = sns.barplot(x=\"positive\", y=\"NAME\", data=mean_ave_df1, ax=ax, color='blue')\n",
    "\n",
    "# Created the barplot with seaborn for 'rech' column - make sure to replace 'rech' with your actual column name\n",
    "barplot2 = sns.barplot(x=\"negative\", y=\"NAME\", data=mean_ave_df1, ax=ax, color='red', alpha=0.5)\n",
    "\n",
    "# Set grid\n",
    "ax.grid(True, which='both', color='black', linewidth=0.1)\n",
    "\n",
    "# Added labels and title\n",
    "ax.set_xlabel(\"Number of grids\", fontsize=20)\n",
    "ax.set_ylabel(\"Country\", fontsize=20)\n",
    "ax.set_title(\"Number of grid cells for Increasing and Decreasing Recharge Trend per country\", fontsize=25)\n",
    "\n",
    "# Set y-axis labels to bold\n",
    "for label in ax.get_yticklabels():\n",
    "    label.set_weight('bold')\n",
    "\n",
    "# Created a legend\n",
    "blue_patch = mpatches.Patch(color='blue', label='Increasing trend')\n",
    "red_patch = mpatches.Patch(color='red', label='Decreasing trend', alpha=0.5)\n",
    "plt.legend(handles=[blue_patch, red_patch])\n",
    "\n",
    "# Showed the plot\n",
    "plt.show()"
   ]
  },
  {
   "cell_type": "code",
   "execution_count": null,
   "id": "e844ed2f",
   "metadata": {},
   "outputs": [],
   "source": []
  }
 ],
 "metadata": {
  "kernelspec": {
   "display_name": "Python 3 (ipykernel)",
   "language": "python",
   "name": "python3"
  },
  "language_info": {
   "codemirror_mode": {
    "name": "ipython",
    "version": 3
   },
   "file_extension": ".py",
   "mimetype": "text/x-python",
   "name": "python",
   "nbconvert_exporter": "python",
   "pygments_lexer": "ipython3",
   "version": "3.9.13"
  }
 },
 "nbformat": 4,
 "nbformat_minor": 5
}
