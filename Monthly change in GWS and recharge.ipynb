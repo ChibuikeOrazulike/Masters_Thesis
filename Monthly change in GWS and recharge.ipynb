{
 "cells": [
  {
   "cell_type": "code",
   "execution_count": null,
   "id": "396fef4b",
   "metadata": {},
   "outputs": [],
   "source": [
    "import pandas as pd\n",
    "import numpy as np\n",
    "import matplotlib.pyplot as plt\n",
    "import cartopy.crs as ccrs\n",
    "import cartopy.feature as cfeature\n",
    "import geopandas as gpd\n",
    "import numpy as np\n",
    "import matplotlib.colors as mcolors\n",
    "from matplotlib.cm import ScalarMappable\n",
    "from scipy.stats import spearmanr\n",
    "import geopandas as gpd\n",
    "from matplotlib.patches import PathPatch\n",
    "from matplotlib.path import Path\n",
    "from shapely.geometry import Polygon, MultiPolygon\n",
    "import matplotlib.patches as patches\n",
    "import matplotlib.lines as mlines"
   ]
  },
  {
   "cell_type": "code",
   "execution_count": null,
   "id": "ec76dbeb",
   "metadata": {},
   "outputs": [],
   "source": [
    "data = pd.read_csv('GWS.csv')\n",
    "lat_lon = data[['lat', 'lon']]\n",
    "#lat_lon"
   ]
  },
  {
   "cell_type": "code",
   "execution_count": null,
   "id": "962dc04c",
   "metadata": {},
   "outputs": [],
   "source": [
    "pd.set_option('display.max_columns', None)"
   ]
  },
  {
   "cell_type": "code",
   "execution_count": null,
   "id": "df1d4fe6",
   "metadata": {},
   "outputs": [],
   "source": [
    "# Calculated the difference in groundwater storage between successive months in each year\n",
    "data_diff = data.iloc[:, 2:].diff(axis=1)\n",
    "data_diff"
   ]
  },
  {
   "cell_type": "code",
   "execution_count": null,
   "id": "049c5585",
   "metadata": {},
   "outputs": [],
   "source": [
    "Ave_Ann = data_diff.iloc[:, 9:].mean(axis=1)#This starts from column 10 which coincides with 2003"
   ]
  },
  {
   "cell_type": "code",
   "execution_count": null,
   "id": "1ff473fc",
   "metadata": {},
   "outputs": [],
   "source": [
    "Ave_Ann = pd.DataFrame(Ave_Ann)\n",
    "\n",
    "Ave_Ann.columns = ['Ave']"
   ]
  },
  {
   "cell_type": "code",
   "execution_count": null,
   "id": "3e723ace",
   "metadata": {},
   "outputs": [],
   "source": [
    "MonthlyStorageChange = pd.concat([lat_lon, Ave_Ann], axis=1)"
   ]
  },
  {
   "cell_type": "code",
   "execution_count": null,
   "id": "eef1be12",
   "metadata": {},
   "outputs": [],
   "source": [
    "MonthlyStorageChange\n",
    "MonthlyStorageChange.to_csv('MonthlyStorageChange.csv', index=None)"
   ]
  },
  {
   "cell_type": "code",
   "execution_count": null,
   "id": "756c8a14",
   "metadata": {},
   "outputs": [],
   "source": [
    "stor_change = -2.427\n",
    "MonthlyStorageChange_subset = MonthlyStorageChange[MonthlyStorageChange['Ave'] < stor_change]\n",
    "MonthlyStorageChange_subset"
   ]
  },
  {
   "cell_type": "code",
   "execution_count": null,
   "id": "457b02b0",
   "metadata": {},
   "outputs": [],
   "source": [
    "A, B = MonthlyStorageChange['Ave'].min(), MonthlyStorageChange['Ave'].max()\n",
    "A, B"
   ]
  },
  {
   "cell_type": "code",
   "execution_count": null,
   "id": "ef524a12",
   "metadata": {},
   "outputs": [],
   "source": [
    "\n",
    "\n",
    "# Function to add a scalebar\n",
    "def add_scalebar(ax, length, location=(0.5, 0.05), linewidth=4):\n",
    "    llx0, llx1, lly0, lly1 = ax.get_extent(ccrs.PlateCarree())\n",
    "    sbllx = (llx1 + llx0) / 2\n",
    "    sblly = lly0 + (lly1 - lly0) * location[1]\n",
    "    tmc = ccrs.TransverseMercator(sbllx, sblly)\n",
    "    x0, x1, y0, y1 = ax.get_extent(tmc)\n",
    "    sbx = x0 + (x1 - x0) * location[0]\n",
    "    sby = y0 + (y1 - y0) * location[1]\n",
    "    bar_xs = [sbx - length * 500, sbx + length * 500]\n",
    "    ax.plot(bar_xs, [sby, sby], transform=tmc, color='k', linewidth=linewidth)\n",
    "    ax.text(sbx, sby, str(length) + ' km', transform=tmc,\n",
    "            horizontalalignment='center', verticalalignment='bottom')\n",
    "\n",
    "min_value = -2.427605896916667\n",
    "max_value = 1.0563268152693623\n",
    "\n",
    "# Get the absolute maximum value in your data\n",
    "abs_max = max(abs(min_value), abs(max_value))\n",
    "\n",
    "# Redefined min_value and max_value to be symmetric around zero\n",
    "min_value = -abs_max\n",
    "max_value = abs_max\n",
    "\n",
    "interval = (max_value - min_value) / 10\n",
    "bounds = np.linspace(min_value, max_value, 11)\n",
    "neg_cmap = mcolors.LinearSegmentedColormap.from_list(\"neg_cmap\", [\"darkred\", \"yellow\"], 5)\n",
    "pos_cmap = mcolors.LinearSegmentedColormap.from_list(\"pos_cmap\", [\"lightblue\", \"darkblue\"], 5)\n",
    "cmap = mcolors.ListedColormap(np.concatenate((neg_cmap(np.linspace(0, 1, 5)), pos_cmap(np.linspace(0, 1, 5)))))\n",
    "norm = mcolors.BoundaryNorm(bounds, cmap.N)\n",
    "\n",
    "def get_color(value, bounds, colors):\n",
    "    for i in range(len(bounds) - 1):\n",
    "        if value >= bounds[i] and value < bounds[i + 1]:\n",
    "            return colors[i]\n",
    "    return colors[-1]\n",
    "\n",
    "MonthlyStorageChange['color'] = MonthlyStorageChange['Ave'].apply(lambda x: get_color(x, bounds, cmap.colors))\n",
    "\n",
    "fig = plt.figure(figsize=(15, 15))\n",
    "ax = fig.add_subplot(1, 1, 1, projection=ccrs.PlateCarree())\n",
    "\n",
    "gdf = gpd.read_file('study_extent.shp')\n",
    "\n",
    "for geometry in gdf['geometry']:\n",
    "    if isinstance(geometry, Polygon):\n",
    "        x, y = geometry.exterior.coords.xy\n",
    "        ax.add_patch(PathPatch(Path(list(zip(x, y))), fill=None, edgecolor='k', linewidth=5))\n",
    "    elif isinstance(geometry, MultiPolygon):\n",
    "        for subgeometry in geometry:\n",
    "            x, y = subgeometry.exterior.coords.xy\n",
    "            ax.add_patch(PathPatch(Path(list(zip(x, y))), fill=None, edgecolor='k', linewidth=5))\n",
    "\n",
    "ax.add_feature(cfeature.COASTLINE)\n",
    "ax.add_feature(cfeature.BORDERS, linestyle='-', linewidth=2)\n",
    "ax.gridlines(draw_labels=True, linestyle='--')\n",
    "\n",
    "sc = ax.scatter(MonthlyStorageChange['lon'], MonthlyStorageChange['lat'], c=MonthlyStorageChange['color'],\n",
    "                marker='o', s=30, edgecolor=MonthlyStorageChange['color'], transform=ccrs.PlateCarree())\n",
    "\n",
    "sm = ScalarMappable(cmap=cmap, norm=norm)\n",
    "sm.set_array([])\n",
    "\n",
    "cbar = plt.colorbar(sm, orientation='horizontal', shrink=0.5, ticks=bounds, pad=0.05)\n",
    "cbar.set_label('Mean Monthly GWS change (mm)', fontsize=15)\n",
    "cbar.ax.set_xticklabels(['{:.2f}'.format(b) for b in bounds])\n",
    "\n",
    "ax.set_extent([-10, 49, 25.5, 49])\n",
    "\n",
    "add_scalebar(ax, 500)\n",
    "\n",
    "arrow_x, arrow_y = 0.97, .9\n",
    "ax.text(arrow_x, arrow_y, u'\\u25B2\\nN', transform=ax.transAxes, ha='center', va='bottom', fontsize=32, fontweight='bold')\n",
    "\n",
    "plt.title('Spatial Distribution of Mean Monthly Storage Change (GWS-without soil moisture)', fontsize=20, pad=20)\n",
    "plt.show()\n"
   ]
  },
  {
   "cell_type": "code",
   "execution_count": null,
   "id": "204d7a55",
   "metadata": {},
   "outputs": [],
   "source": []
  },
  {
   "cell_type": "code",
   "execution_count": null,
   "id": "0ae4293d",
   "metadata": {},
   "outputs": [],
   "source": []
  },
  {
   "cell_type": "code",
   "execution_count": null,
   "id": "d136c10c",
   "metadata": {},
   "outputs": [],
   "source": [
    "data = pd.read_csv('GWS_no_soil.csv')\n",
    "lat_lon = data[['lat', 'lon']]\n",
    "#lat_lon"
   ]
  },
  {
   "cell_type": "code",
   "execution_count": null,
   "id": "73a42b77",
   "metadata": {},
   "outputs": [],
   "source": [
    "pd.set_option('display.max_columns', None)"
   ]
  },
  {
   "cell_type": "code",
   "execution_count": null,
   "id": "d45930cc",
   "metadata": {},
   "outputs": [],
   "source": [
    "# Calculated the difference in groundwater storage between successive months in each year\n",
    "data_diff = data.iloc[:, 2:].diff(axis=1)\n",
    "data_diff"
   ]
  },
  {
   "cell_type": "code",
   "execution_count": null,
   "id": "f0237bce",
   "metadata": {},
   "outputs": [],
   "source": [
    "Ave_Ann = data_diff.iloc[:, 9:].mean(axis=1)"
   ]
  },
  {
   "cell_type": "code",
   "execution_count": null,
   "id": "a0e964e3",
   "metadata": {},
   "outputs": [],
   "source": [
    "Ave_Ann = pd.DataFrame(Ave_Ann)\n",
    "\n",
    "Ave_Ann.columns = ['Ave']"
   ]
  },
  {
   "cell_type": "code",
   "execution_count": null,
   "id": "d0f63084",
   "metadata": {},
   "outputs": [],
   "source": [
    "MonthlyStorageChange = pd.concat([lat_lon, Ave_Ann], axis=1)"
   ]
  },
  {
   "cell_type": "code",
   "execution_count": null,
   "id": "be4b4154",
   "metadata": {},
   "outputs": [],
   "source": [
    "MonthlyStorageChange"
   ]
  },
  {
   "cell_type": "code",
   "execution_count": null,
   "id": "0684a191",
   "metadata": {},
   "outputs": [],
   "source": [
    "MonthlyStorageChange.to_csv('MonthlyStorageChange_incl_soil.csv', index=None)"
   ]
  },
  {
   "cell_type": "code",
   "execution_count": null,
   "id": "35b09292",
   "metadata": {},
   "outputs": [],
   "source": [
    "stor_change = 0.48\n",
    "MonthlyStorageChange_subset = MonthlyStorageChange[MonthlyStorageChange['Ave'] < stor_change]\n",
    "MonthlyStorageChange_subset"
   ]
  },
  {
   "cell_type": "code",
   "execution_count": null,
   "id": "f2497080",
   "metadata": {},
   "outputs": [],
   "source": [
    "A, B = MonthlyStorageChange['Ave'].min(), MonthlyStorageChange['Ave'].max()\n",
    "A, B"
   ]
  },
  {
   "cell_type": "code",
   "execution_count": null,
   "id": "bc1e85f1",
   "metadata": {
    "scrolled": false
   },
   "outputs": [],
   "source": [
    "\n",
    "\n",
    "# Function to add a scalebar\n",
    "def add_scalebar(ax, length, location=(0.5, 0.05), linewidth=4):\n",
    "    llx0, llx1, lly0, lly1 = ax.get_extent(ccrs.PlateCarree())\n",
    "    sbllx = (llx1 + llx0) / 2\n",
    "    sblly = lly0 + (lly1 - lly0) * location[1]\n",
    "    tmc = ccrs.TransverseMercator(sbllx, sblly)\n",
    "    x0, x1, y0, y1 = ax.get_extent(tmc)\n",
    "    sbx = x0 + (x1 - x0) * location[0]\n",
    "    sby = y0 + (y1 - y0) * location[1]\n",
    "    bar_xs = [sbx - length * 500, sbx + length * 500]\n",
    "    ax.plot(bar_xs, [sby, sby], transform=tmc, color='k', linewidth=linewidth)\n",
    "    ax.text(sbx, sby, str(length) + ' km', transform=tmc,\n",
    "            horizontalalignment='center', verticalalignment='bottom')\n",
    "\n",
    "min_value = -2.2681375093774516\n",
    "max_value = 0.6902278347549021\n",
    "\n",
    "# Get the absolute maximum value in your data\n",
    "abs_max = max(abs(min_value), abs(max_value))\n",
    "\n",
    "# Redefined min_value and max_value to be symmetric around zero\n",
    "min_value = -abs_max\n",
    "max_value = abs_max\n",
    "\n",
    "interval = (max_value - min_value) / 10\n",
    "bounds = np.linspace(min_value, max_value, 11)\n",
    "neg_cmap = mcolors.LinearSegmentedColormap.from_list(\"neg_cmap\", [\"darkred\", \"yellow\"], 5)\n",
    "pos_cmap = mcolors.LinearSegmentedColormap.from_list(\"pos_cmap\", [\"lightblue\", \"darkblue\"], 5)\n",
    "cmap = mcolors.ListedColormap(np.concatenate((neg_cmap(np.linspace(0, 1, 5)), pos_cmap(np.linspace(0, 1, 5)))))\n",
    "norm = mcolors.BoundaryNorm(bounds, cmap.N)\n",
    "\n",
    "def get_color(value, bounds, colors):\n",
    "    for i in range(len(bounds) - 1):\n",
    "        if value >= bounds[i] and value < bounds[i + 1]:\n",
    "            return colors[i]\n",
    "    return colors[-1]\n",
    "\n",
    "MonthlyStorageChange['color'] = MonthlyStorageChange['Ave'].apply(lambda x: get_color(x, bounds, cmap.colors))\n",
    "\n",
    "fig = plt.figure(figsize=(15, 15))\n",
    "ax = fig.add_subplot(1, 1, 1, projection=ccrs.PlateCarree())\n",
    "\n",
    "gdf = gpd.read_file('study_extent.shp')\n",
    "\n",
    "for geometry in gdf['geometry']:\n",
    "    if isinstance(geometry, Polygon):\n",
    "        x, y = geometry.exterior.coords.xy\n",
    "        ax.add_patch(PathPatch(Path(list(zip(x, y))), fill=None, edgecolor='k', linewidth=5))\n",
    "    elif isinstance(geometry, MultiPolygon):\n",
    "        for subgeometry in geometry:\n",
    "            x, y = subgeometry.exterior.coords.xy\n",
    "            ax.add_patch(PathPatch(Path(list(zip(x, y))), fill=None, edgecolor='k', linewidth=5))\n",
    "\n",
    "ax.add_feature(cfeature.COASTLINE)\n",
    "ax.add_feature(cfeature.BORDERS, linestyle='-', linewidth=2)\n",
    "ax.gridlines(draw_labels=True, linestyle='--')\n",
    "\n",
    "sc = ax.scatter(MonthlyStorageChange['lon'], MonthlyStorageChange['lat'], c=MonthlyStorageChange['color'],\n",
    "                marker='o', s=30, edgecolor=MonthlyStorageChange['color'], transform=ccrs.PlateCarree())\n",
    "\n",
    "sm = ScalarMappable(cmap=cmap, norm=norm)\n",
    "sm.set_array([])\n",
    "\n",
    "cbar = plt.colorbar(sm, orientation='horizontal', shrink=0.5, ticks=bounds, pad=0.05)\n",
    "cbar.set_label('Mean Monthly GWS change (mm)', fontsize=15)\n",
    "cbar.ax.set_xticklabels(['{:.2f}'.format(b) for b in bounds])\n",
    "\n",
    "ax.set_extent([-10, 49, 25.5, 49])\n",
    "\n",
    "add_scalebar(ax, 500)\n",
    "\n",
    "arrow_x, arrow_y = 0.97, .9\n",
    "ax.text(arrow_x, arrow_y, u'\\u25B2\\nN', transform=ax.transAxes, ha='center', va='bottom', fontsize=32, fontweight='bold')\n",
    "\n",
    "plt.title('Spatial Distribution of Mean Monthly Storage Change (GWS-including soil moisture)', fontsize=20, pad=20)\n",
    "plt.show()\n"
   ]
  },
  {
   "cell_type": "code",
   "execution_count": null,
   "id": "2bf2ec56",
   "metadata": {},
   "outputs": [],
   "source": []
  },
  {
   "cell_type": "code",
   "execution_count": null,
   "id": "3591fffb",
   "metadata": {},
   "outputs": [],
   "source": [
    "data = pd.read_csv('recharge_with_coord.csv')\n",
    "lat_lon = data[['lat', 'lon']]\n",
    "#lat_lon"
   ]
  },
  {
   "cell_type": "code",
   "execution_count": null,
   "id": "8de6a959",
   "metadata": {},
   "outputs": [],
   "source": [
    "pd.set_option('display.max_columns', None)"
   ]
  },
  {
   "cell_type": "code",
   "execution_count": null,
   "id": "3e61db46",
   "metadata": {},
   "outputs": [],
   "source": [
    "# Calculated the difference in groundwater storage between successive months in each year\n",
    "data_diff = data.iloc[:, 2:].diff(axis=1)\n",
    "data_diff"
   ]
  },
  {
   "cell_type": "code",
   "execution_count": null,
   "id": "1f5e55e5",
   "metadata": {},
   "outputs": [],
   "source": [
    "Ave_Ann = data_diff.iloc[:, 9:].mean(axis=1)"
   ]
  },
  {
   "cell_type": "code",
   "execution_count": null,
   "id": "d73359a3",
   "metadata": {},
   "outputs": [],
   "source": [
    "Ave_Ann = pd.DataFrame(Ave_Ann)\n",
    "\n",
    "Ave_Ann.columns = ['Ave']"
   ]
  },
  {
   "cell_type": "code",
   "execution_count": null,
   "id": "66c637f9",
   "metadata": {},
   "outputs": [],
   "source": [
    "MonthlyStorageChange = pd.concat([lat_lon, Ave_Ann], axis=1)"
   ]
  },
  {
   "cell_type": "code",
   "execution_count": null,
   "id": "2922fa64",
   "metadata": {},
   "outputs": [],
   "source": [
    "MonthlyStorageChange"
   ]
  },
  {
   "cell_type": "code",
   "execution_count": null,
   "id": "12387c7e",
   "metadata": {},
   "outputs": [],
   "source": [
    "MonthlyStorageChange.to_csv('MonthlyStorageChange_Recharge.csv', index=None)"
   ]
  },
  {
   "cell_type": "code",
   "execution_count": null,
   "id": "addc9472",
   "metadata": {},
   "outputs": [],
   "source": [
    "A, B = MonthlyStorageChange['Ave'].min(), MonthlyStorageChange['Ave'].max()\n",
    "A, B"
   ]
  },
  {
   "cell_type": "code",
   "execution_count": null,
   "id": "268de80a",
   "metadata": {
    "scrolled": false
   },
   "outputs": [],
   "source": [
    "\n",
    "# Function to add a scalebar\n",
    "def add_scalebar(ax, length, location=(0.5, 0.05), linewidth=4):\n",
    "    llx0, llx1, lly0, lly1 = ax.get_extent(ccrs.PlateCarree())\n",
    "    sbllx = (llx1 + llx0) / 2\n",
    "    sblly = lly0 + (lly1 - lly0) * location[1]\n",
    "    tmc = ccrs.TransverseMercator(sbllx, sblly)\n",
    "    x0, x1, y0, y1 = ax.get_extent(tmc)\n",
    "    sbx = x0 + (x1 - x0) * location[0]\n",
    "    sby = y0 + (y1 - y0) * location[1]\n",
    "    bar_xs = [sbx - length * 500, sbx + length * 500]\n",
    "    ax.plot(bar_xs, [sby, sby], transform=tmc, color='k', linewidth=linewidth)\n",
    "    ax.text(sbx, sby, str(length) + ' km', transform=tmc,\n",
    "            horizontalalignment='center', verticalalignment='bottom')\n",
    "\n",
    "min_value = -0.8426065206985293\n",
    "max_value =  0.41716603757352944\n",
    "\n",
    "# Get the absolute maximum value in your data\n",
    "abs_max = max(abs(min_value), abs(max_value))\n",
    "\n",
    "# Redefined min_value and max_value to be symmetric around zero\n",
    "min_value = -abs_max\n",
    "max_value = abs_max\n",
    "\n",
    "interval = (max_value - min_value) / 10\n",
    "bounds = np.linspace(min_value, max_value, 11)\n",
    "neg_cmap = mcolors.LinearSegmentedColormap.from_list(\"neg_cmap\", [\"darkred\", \"yellow\"], 5)\n",
    "pos_cmap = mcolors.LinearSegmentedColormap.from_list(\"pos_cmap\", [\"lightblue\", \"darkblue\"], 5)\n",
    "cmap = mcolors.ListedColormap(np.concatenate((neg_cmap(np.linspace(0, 1, 5)), pos_cmap(np.linspace(0, 1, 5)))))\n",
    "norm = mcolors.BoundaryNorm(bounds, cmap.N)\n",
    "\n",
    "def get_color(value, bounds, colors):\n",
    "    for i in range(len(bounds) - 1):\n",
    "        if value >= bounds[i] and value < bounds[i + 1]:\n",
    "            return colors[i]\n",
    "    return colors[-1]\n",
    "\n",
    "MonthlyStorageChange['color'] = MonthlyStorageChange['Ave'].apply(lambda x: get_color(x, bounds, cmap.colors))\n",
    "\n",
    "fig = plt.figure(figsize=(15, 15))\n",
    "ax = fig.add_subplot(1, 1, 1, projection=ccrs.PlateCarree())\n",
    "\n",
    "gdf = gpd.read_file('study_extent.shp')\n",
    "\n",
    "for geometry in gdf['geometry']:\n",
    "    if isinstance(geometry, Polygon):\n",
    "        x, y = geometry.exterior.coords.xy\n",
    "        ax.add_patch(PathPatch(Path(list(zip(x, y))), fill=None, edgecolor='k', linewidth=5))\n",
    "    elif isinstance(geometry, MultiPolygon):\n",
    "        for subgeometry in geometry:\n",
    "            x, y = subgeometry.exterior.coords.xy\n",
    "            ax.add_patch(PathPatch(Path(list(zip(x, y))), fill=None, edgecolor='k', linewidth=5))\n",
    "\n",
    "ax.add_feature(cfeature.COASTLINE)\n",
    "ax.add_feature(cfeature.BORDERS, linestyle='-', linewidth=2)\n",
    "ax.gridlines(draw_labels=True, linestyle='--')\n",
    "\n",
    "sc = ax.scatter(MonthlyStorageChange['lon'], MonthlyStorageChange['lat'], c=MonthlyStorageChange['color'],\n",
    "                marker='o', s=30, edgecolor=MonthlyStorageChange['color'], transform=ccrs.PlateCarree())\n",
    "\n",
    "sm = ScalarMappable(cmap=cmap, norm=norm)\n",
    "sm.set_array([])\n",
    "\n",
    "cbar = plt.colorbar(sm, orientation='horizontal', shrink=0.5, ticks=bounds, pad=0.05)\n",
    "cbar.set_label('Mean Monthly Change in Recharge (mm)', fontsize=15)\n",
    "cbar.ax.set_xticklabels(['{:.2f}'.format(b) for b in bounds])\n",
    "\n",
    "ax.set_extent([-10, 49, 25.5, 49])\n",
    "\n",
    "add_scalebar(ax, 500)\n",
    "\n",
    "arrow_x, arrow_y = 0.97, .9\n",
    "ax.text(arrow_x, arrow_y, u'\\u25B2\\nN', transform=ax.transAxes, ha='center', va='bottom', fontsize=32, fontweight='bold')\n",
    "\n",
    "plt.title('Spatial Distribution of Mean Monthly Change in Recharge', fontsize=20, pad=20)\n",
    "plt.show()\n"
   ]
  },
  {
   "cell_type": "code",
   "execution_count": null,
   "id": "5b0ebb75",
   "metadata": {},
   "outputs": [],
   "source": []
  },
  {
   "cell_type": "code",
   "execution_count": null,
   "id": "32d402c6",
   "metadata": {},
   "outputs": [],
   "source": []
  },
  {
   "cell_type": "code",
   "execution_count": null,
   "id": "6358874a",
   "metadata": {},
   "outputs": [],
   "source": []
  },
  {
   "cell_type": "code",
   "execution_count": null,
   "id": "28ff8bd7",
   "metadata": {},
   "outputs": [],
   "source": [
    "data = pd.read_csv('Precipitation_mm.csv')\n",
    "lat_lon = data[['lat', 'lon']]\n",
    "#lat_lon"
   ]
  },
  {
   "cell_type": "code",
   "execution_count": null,
   "id": "9c0f1fb5",
   "metadata": {},
   "outputs": [],
   "source": [
    "pd.set_option('display.max_columns', None)"
   ]
  },
  {
   "cell_type": "code",
   "execution_count": null,
   "id": "f0290c95",
   "metadata": {},
   "outputs": [],
   "source": [
    "# Calculated the difference in groundwater storage between successive months in each year\n",
    "data_diff = data.iloc[:, 2:].diff(axis=1)\n",
    "data_diff"
   ]
  },
  {
   "cell_type": "code",
   "execution_count": null,
   "id": "a16b6222",
   "metadata": {},
   "outputs": [],
   "source": [
    "Ave_Ann = data_diff.iloc[:, 9:].mean(axis=1)"
   ]
  },
  {
   "cell_type": "code",
   "execution_count": null,
   "id": "ba4107cf",
   "metadata": {},
   "outputs": [],
   "source": [
    "Ave_Ann = pd.DataFrame(Ave_Ann)\n",
    "\n",
    "Ave_Ann.columns = ['Ave']"
   ]
  },
  {
   "cell_type": "code",
   "execution_count": null,
   "id": "0ef67a6d",
   "metadata": {},
   "outputs": [],
   "source": [
    "MonthlyStorageChange = pd.concat([lat_lon, Ave_Ann], axis=1)"
   ]
  },
  {
   "cell_type": "code",
   "execution_count": null,
   "id": "9dea5cb9",
   "metadata": {},
   "outputs": [],
   "source": [
    "MonthlyStorageChange"
   ]
  },
  {
   "cell_type": "code",
   "execution_count": null,
   "id": "c247a73d",
   "metadata": {},
   "outputs": [],
   "source": [
    "MonthlyStorageChange.to_csv('MonthlyStorageChange_Recharge.csv', index=None)"
   ]
  },
  {
   "cell_type": "code",
   "execution_count": null,
   "id": "866b9aef",
   "metadata": {},
   "outputs": [],
   "source": [
    "A, B = MonthlyStorageChange['Ave'].min(), MonthlyStorageChange['Ave'].max()\n",
    "A, B"
   ]
  },
  {
   "cell_type": "code",
   "execution_count": null,
   "id": "5a15dd5a",
   "metadata": {},
   "outputs": [],
   "source": [
    "\n",
    "# Function to add a scalebar\n",
    "def add_scalebar(ax, length, location=(0.5, 0.05), linewidth=4):\n",
    "    llx0, llx1, lly0, lly1 = ax.get_extent(ccrs.PlateCarree())\n",
    "    sbllx = (llx1 + llx0) / 2\n",
    "    sblly = lly0 + (lly1 - lly0) * location[1]\n",
    "    tmc = ccrs.TransverseMercator(sbllx, sblly)\n",
    "    x0, x1, y0, y1 = ax.get_extent(tmc)\n",
    "    sbx = x0 + (x1 - x0) * location[0]\n",
    "    sby = y0 + (y1 - y0) * location[1]\n",
    "    bar_xs = [sbx - length * 500, sbx + length * 500]\n",
    "    ax.plot(bar_xs, [sby, sby], transform=tmc, color='k', linewidth=linewidth)\n",
    "    ax.text(sbx, sby, str(length) + ' km', transform=tmc,\n",
    "            horizontalalignment='center', verticalalignment='bottom')\n",
    "\n",
    "min_value = -0.05037670588235293\n",
    "max_value =  0.04216233333333332\n",
    "\n",
    "# Got the absolute maximum value in your data\n",
    "abs_max = max(abs(min_value), abs(max_value))\n",
    "\n",
    "# Redefined min_value and max_value to be symmetric around zero\n",
    "min_value = -abs_max\n",
    "max_value = abs_max\n",
    "\n",
    "interval = (max_value - min_value) / 10\n",
    "bounds = np.linspace(min_value, max_value, 11)\n",
    "neg_cmap = mcolors.LinearSegmentedColormap.from_list(\"neg_cmap\", [\"darkred\", \"yellow\"], 5)\n",
    "pos_cmap = mcolors.LinearSegmentedColormap.from_list(\"pos_cmap\", [\"lightblue\", \"darkblue\"], 5)\n",
    "cmap = mcolors.ListedColormap(np.concatenate((neg_cmap(np.linspace(0, 1, 5)), pos_cmap(np.linspace(0, 1, 5)))))\n",
    "norm = mcolors.BoundaryNorm(bounds, cmap.N)\n",
    "\n",
    "def get_color(value, bounds, colors):\n",
    "    for i in range(len(bounds) - 1):\n",
    "        if value >= bounds[i] and value < bounds[i + 1]:\n",
    "            return colors[i]\n",
    "    return colors[-1]\n",
    "\n",
    "MonthlyStorageChange['color'] = MonthlyStorageChange['Ave'].apply(lambda x: get_color(x, bounds, cmap.colors))\n",
    "\n",
    "fig = plt.figure(figsize=(15, 15))\n",
    "ax = fig.add_subplot(1, 1, 1, projection=ccrs.PlateCarree())\n",
    "\n",
    "gdf = gpd.read_file('study_extent.shp')\n",
    "\n",
    "for geometry in gdf['geometry']:\n",
    "    if isinstance(geometry, Polygon):\n",
    "        x, y = geometry.exterior.coords.xy\n",
    "        ax.add_patch(PathPatch(Path(list(zip(x, y))), fill=None, edgecolor='k', linewidth=5))\n",
    "    elif isinstance(geometry, MultiPolygon):\n",
    "        for subgeometry in geometry:\n",
    "            x, y = subgeometry.exterior.coords.xy\n",
    "            ax.add_patch(PathPatch(Path(list(zip(x, y))), fill=None, edgecolor='k', linewidth=5))\n",
    "\n",
    "ax.add_feature(cfeature.COASTLINE)\n",
    "ax.add_feature(cfeature.BORDERS, linestyle='-', linewidth=2)\n",
    "ax.gridlines(draw_labels=True, linestyle='--')\n",
    "\n",
    "sc = ax.scatter(MonthlyStorageChange['lon'], MonthlyStorageChange['lat'], c=MonthlyStorageChange['color'],\n",
    "                marker='o', s=30, edgecolor=MonthlyStorageChange['color'], transform=ccrs.PlateCarree())\n",
    "\n",
    "sm = ScalarMappable(cmap=cmap, norm=norm)\n",
    "sm.set_array([])\n",
    "\n",
    "cbar = plt.colorbar(sm, orientation='horizontal', shrink=0.5, ticks=bounds, pad=0.05)\n",
    "cbar.set_label('Mean Monthly Change in Precipitation (mm)', fontsize=15)\n",
    "cbar.ax.set_xticklabels(['{:.2f}'.format(b) for b in bounds])\n",
    "\n",
    "ax.set_extent([-10, 49, 25.5, 49])\n",
    "\n",
    "add_scalebar(ax, 500)\n",
    "\n",
    "arrow_x, arrow_y = 0.97, .9\n",
    "ax.text(arrow_x, arrow_y, u'\\u25B2\\nN', transform=ax.transAxes, ha='center', va='bottom', fontsize=32, fontweight='bold')\n",
    "\n",
    "plt.title('Spatial Distribution of Mean Monthly Change in Precipitation', fontsize=20, pad=20)\n",
    "plt.show()\n"
   ]
  },
  {
   "cell_type": "code",
   "execution_count": null,
   "id": "74e62212",
   "metadata": {},
   "outputs": [],
   "source": []
  },
  {
   "cell_type": "code",
   "execution_count": null,
   "id": "1c6b9ce4",
   "metadata": {},
   "outputs": [],
   "source": []
  },
  {
   "cell_type": "code",
   "execution_count": null,
   "id": "b44fecfb",
   "metadata": {},
   "outputs": [],
   "source": [
    "data = pd.read_csv('temp.csv')\n",
    "lat_lon = data[['lat', 'lon']]\n",
    "#lat_lon"
   ]
  },
  {
   "cell_type": "code",
   "execution_count": null,
   "id": "f989f39c",
   "metadata": {},
   "outputs": [],
   "source": [
    "pd.set_option('display.max_columns', None)"
   ]
  },
  {
   "cell_type": "code",
   "execution_count": null,
   "id": "72738218",
   "metadata": {},
   "outputs": [],
   "source": [
    "# Calculated the difference in groundwater storage between successive months in each year\n",
    "data_diff = data.iloc[:, 2:].diff(axis=1)\n",
    "data_diff"
   ]
  },
  {
   "cell_type": "code",
   "execution_count": null,
   "id": "91040305",
   "metadata": {},
   "outputs": [],
   "source": [
    "Ave_Ann = data_diff.iloc[:, 9:].mean(axis=1)"
   ]
  },
  {
   "cell_type": "code",
   "execution_count": null,
   "id": "377c84b6",
   "metadata": {},
   "outputs": [],
   "source": [
    "Ave_Ann = pd.DataFrame(Ave_Ann)\n",
    "\n",
    "Ave_Ann.columns = ['Ave']"
   ]
  },
  {
   "cell_type": "code",
   "execution_count": null,
   "id": "af630c88",
   "metadata": {},
   "outputs": [],
   "source": [
    "MonthlyStorageChange = pd.concat([lat_lon, Ave_Ann], axis=1)"
   ]
  },
  {
   "cell_type": "code",
   "execution_count": null,
   "id": "e8c1a66b",
   "metadata": {},
   "outputs": [],
   "source": [
    "MonthlyStorageChange"
   ]
  },
  {
   "cell_type": "code",
   "execution_count": null,
   "id": "515cc5ce",
   "metadata": {},
   "outputs": [],
   "source": [
    "MonthlyStorageChange.to_csv('MonthlyStorageChange_Recharge.csv', index=None)"
   ]
  },
  {
   "cell_type": "code",
   "execution_count": null,
   "id": "d21a20a7",
   "metadata": {},
   "outputs": [],
   "source": [
    "A, B = MonthlyStorageChange['Ave'].min(), MonthlyStorageChange['Ave'].max()\n",
    "A, B"
   ]
  },
  {
   "cell_type": "code",
   "execution_count": null,
   "id": "39eb942e",
   "metadata": {
    "scrolled": false
   },
   "outputs": [],
   "source": [
    "\n",
    "# Function to add a scalebar\n",
    "def add_scalebar(ax, length, location=(0.5, 0.05), linewidth=4):\n",
    "    llx0, llx1, lly0, lly1 = ax.get_extent(ccrs.PlateCarree())\n",
    "    sbllx = (llx1 + llx0) / 2\n",
    "    sblly = lly0 + (lly1 - lly0) * location[1]\n",
    "    tmc = ccrs.TransverseMercator(sbllx, sblly)\n",
    "    x0, x1, y0, y1 = ax.get_extent(tmc)\n",
    "    sbx = x0 + (x1 - x0) * location[0]\n",
    "    sby = y0 + (y1 - y0) * location[1]\n",
    "    bar_xs = [sbx - length * 500, sbx + length * 500]\n",
    "    ax.plot(bar_xs, [sby, sby], transform=tmc, color='k', linewidth=linewidth)\n",
    "    ax.text(sbx, sby, str(length) + ' km', transform=tmc,\n",
    "            horizontalalignment='center', verticalalignment='bottom')\n",
    "\n",
    "min_value = -0.0045460784313727165\n",
    "max_value =  0.05411578431372556\n",
    "\n",
    "# Get the absolute maximum value in your data\n",
    "abs_max = max(abs(min_value), abs(max_value))\n",
    "\n",
    "# Redefine min_value and max_value to be symmetric around zero\n",
    "min_value = -abs_max\n",
    "max_value = abs_max\n",
    "\n",
    "interval = (max_value - min_value) / 10\n",
    "bounds = np.linspace(min_value, max_value, 11)\n",
    "neg_cmap = mcolors.LinearSegmentedColormap.from_list(\"neg_cmap\", [\"darkred\", \"yellow\"], 5)\n",
    "pos_cmap = mcolors.LinearSegmentedColormap.from_list(\"pos_cmap\", [\"lightblue\", \"darkblue\"], 5)\n",
    "cmap = mcolors.ListedColormap(np.concatenate((neg_cmap(np.linspace(0, 1, 5)), pos_cmap(np.linspace(0, 1, 5)))))\n",
    "norm = mcolors.BoundaryNorm(bounds, cmap.N)\n",
    "\n",
    "def get_color(value, bounds, colors):\n",
    "    for i in range(len(bounds) - 1):\n",
    "        if value >= bounds[i] and value < bounds[i + 1]:\n",
    "            return colors[i]\n",
    "    return colors[-1]\n",
    "\n",
    "MonthlyStorageChange['color'] = MonthlyStorageChange['Ave'].apply(lambda x: get_color(x, bounds, cmap.colors))\n",
    "\n",
    "fig = plt.figure(figsize=(15, 15))\n",
    "ax = fig.add_subplot(1, 1, 1, projection=ccrs.PlateCarree())\n",
    "\n",
    "gdf = gpd.read_file('study_extent.shp')\n",
    "\n",
    "for geometry in gdf['geometry']:\n",
    "    if isinstance(geometry, Polygon):\n",
    "        x, y = geometry.exterior.coords.xy\n",
    "        ax.add_patch(PathPatch(Path(list(zip(x, y))), fill=None, edgecolor='k', linewidth=5))\n",
    "    elif isinstance(geometry, MultiPolygon):\n",
    "        for subgeometry in geometry:\n",
    "            x, y = subgeometry.exterior.coords.xy\n",
    "            ax.add_patch(PathPatch(Path(list(zip(x, y))), fill=None, edgecolor='k', linewidth=5))\n",
    "\n",
    "ax.add_feature(cfeature.COASTLINE)\n",
    "ax.add_feature(cfeature.BORDERS, linestyle='-', linewidth=2)\n",
    "ax.gridlines(draw_labels=True, linestyle='--')\n",
    "\n",
    "sc = ax.scatter(MonthlyStorageChange['lon'], MonthlyStorageChange['lat'], c=MonthlyStorageChange['color'],\n",
    "                marker='o', s=30, edgecolor=MonthlyStorageChange['color'], transform=ccrs.PlateCarree())\n",
    "\n",
    "sm = ScalarMappable(cmap=cmap, norm=norm)\n",
    "sm.set_array([])\n",
    "\n",
    "cbar = plt.colorbar(sm, orientation='horizontal', shrink=0.5, ticks=bounds, pad=0.05)\n",
    "cbar.set_label('Mean Monthly Change in Temperature (Kelvin)', fontsize=15)\n",
    "cbar.ax.set_xticklabels(['{:.2f}'.format(b) for b in bounds])\n",
    "\n",
    "ax.set_extent([-10, 49, 25.5, 49])\n",
    "\n",
    "add_scalebar(ax, 500)\n",
    "\n",
    "arrow_x, arrow_y = 0.97, .9\n",
    "ax.text(arrow_x, arrow_y, u'\\u25B2\\nN', transform=ax.transAxes, ha='center', va='bottom', fontsize=32, fontweight='bold')\n",
    "\n",
    "plt.title('Spatial Distribution of Mean Monthly Change in Temperature', fontsize=20, pad=20)\n",
    "plt.show()\n"
   ]
  },
  {
   "cell_type": "code",
   "execution_count": null,
   "id": "1f084d9f",
   "metadata": {},
   "outputs": [],
   "source": []
  }
 ],
 "metadata": {
  "kernelspec": {
   "display_name": "Python 3 (ipykernel)",
   "language": "python",
   "name": "python3"
  },
  "language_info": {
   "codemirror_mode": {
    "name": "ipython",
    "version": 3
   },
   "file_extension": ".py",
   "mimetype": "text/x-python",
   "name": "python",
   "nbconvert_exporter": "python",
   "pygments_lexer": "ipython3",
   "version": "3.9.13"
  }
 },
 "nbformat": 4,
 "nbformat_minor": 5
}
