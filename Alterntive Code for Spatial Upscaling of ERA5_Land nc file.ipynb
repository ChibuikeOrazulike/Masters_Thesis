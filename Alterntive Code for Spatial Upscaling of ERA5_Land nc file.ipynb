{
 "cells": [
  {
   "cell_type": "code",
   "execution_count": null,
   "id": "4792a42c",
   "metadata": {},
   "outputs": [],
   "source": [
    "import xarray as xr\n",
    "import numpy as np\n",
    "from scipy.interpolate import griddata"
   ]
  },
  {
   "cell_type": "code",
   "execution_count": null,
   "id": "17f24a92",
   "metadata": {},
   "outputs": [],
   "source": [
    "#FOR THE SURFACE RUNOFF========================================================================================================="
   ]
  },
  {
   "cell_type": "code",
   "execution_count": null,
   "id": "b578e030",
   "metadata": {},
   "outputs": [],
   "source": [
    "# Loaded the NetCDF file\n",
    "input_file = \"Surface_runoff.nc\"\n",
    "output_file = \"Surface_runoff_confirmed.nc\"\n",
    "ds = xr.open_dataset(input_file)\n"
   ]
  },
  {
   "cell_type": "code",
   "execution_count": null,
   "id": "ba22bf93",
   "metadata": {},
   "outputs": [],
   "source": [
    "# Got the existing coordinates and surface_runoff data\n",
    "lons = ds.longitude.values\n",
    "lats = ds.latitude.values\n",
    "surface_runoff = ds.sro.values"
   ]
  },
  {
   "cell_type": "code",
   "execution_count": null,
   "id": "b072a69b",
   "metadata": {},
   "outputs": [],
   "source": [
    "# Created the new grid with 0.25-degree resolution\n",
    "new_lons = np.arange(-14.875, lons.max(), 0.25)#-14.875 is used to resample the coordinates to match both GRACE & rech data\n",
    "new_lats = np.arange(25.125, lats.max(), 0.25)#25.125 is used to resample the coordinates to match both GRACE & rech data\n",
    "new_lons, new_lats = np.meshgrid(new_lons, new_lats)"
   ]
  },
  {
   "cell_type": "code",
   "execution_count": null,
   "id": "a2fa0ea8",
   "metadata": {},
   "outputs": [],
   "source": [
    "# Created a meshgrid of the original coordinates\n",
    "lons_mesh, lats_mesh = np.meshgrid(lons, lats)"
   ]
  },
  {
   "cell_type": "code",
   "execution_count": null,
   "id": "13162901",
   "metadata": {},
   "outputs": [],
   "source": [
    "# Performed the interpolation using griddata\n",
    "new_surface_runoff = np.empty((surface_runoff.shape[0], new_lats.shape[0], new_lons.shape[1]))\n",
    "for t in range(surface_runoff.shape[0]):\n",
    "    new_surface_runoff[t] = griddata(\n",
    "        (lons_mesh.ravel(), lats_mesh.ravel()),\n",
    "        surface_runoff[t].ravel(),\n",
    "        (new_lons, new_lats),\n",
    "        method=\"linear\",\n",
    "        fill_value=np.nan,\n",
    "    )"
   ]
  },
  {
   "cell_type": "code",
   "execution_count": null,
   "id": "315e2fa6",
   "metadata": {},
   "outputs": [],
   "source": [
    "# Created a new xarray.Dataset with the upscaled data\n",
    "new_ds = xr.Dataset(\n",
    "    {\n",
    "        \"surface_runoff\": ((\"time\", \"latitude\", \"longitude\"), new_surface_runoff)\n",
    "    },\n",
    "    coords={\n",
    "        \"time\": ds.time.values,\n",
    "        \"latitude\": ((\"latitude\",), new_lats[:, 0]),\n",
    "        \"longitude\": ((\"longitude\",), new_lons[0, :]),\n",
    "    },\n",
    ")"
   ]
  },
  {
   "cell_type": "code",
   "execution_count": null,
   "id": "c367d06b",
   "metadata": {},
   "outputs": [],
   "source": [
    "# Saved the upscaled data to a new NetCDF file\n",
    "new_ds.to_netcdf(output_file)"
   ]
  },
  {
   "cell_type": "code",
   "execution_count": null,
   "id": "7b877c2d",
   "metadata": {},
   "outputs": [],
   "source": [
    "#FOR THE SOILS src========================================================================================================="
   ]
  },
  {
   "cell_type": "code",
   "execution_count": null,
   "id": "76d4d413",
   "metadata": {},
   "outputs": [],
   "source": [
    "# Loaded the NetCDF file\n",
    "input_file = \"Soil.nc\"\n",
    "output_file = \"Soil_src_confirmed.nc\"\n",
    "ds = xr.open_dataset(input_file)\n",
    "ds"
   ]
  },
  {
   "cell_type": "code",
   "execution_count": null,
   "id": "ca14624f",
   "metadata": {},
   "outputs": [],
   "source": [
    "# Got the existing coordinates and src data\n",
    "lons = ds.longitude.values\n",
    "lats = ds.latitude.values\n",
    "src = ds.src.values #soil skin layer"
   ]
  },
  {
   "cell_type": "code",
   "execution_count": null,
   "id": "0c80ebc8",
   "metadata": {},
   "outputs": [],
   "source": [
    "# Created the new grid with 0.25-degree resolution\n",
    "new_lons = np.arange(-14.875, lons.max(), 0.25)#-14.875 is used to resample the coordinates to match both GRACE & rech data\n",
    "new_lats = np.arange(25.125, lats.max(), 0.25)#25.125 is used to resample the coordinates to match both GRACE & rech data\n",
    "new_lons, new_lats = np.meshgrid(new_lons, new_lats)"
   ]
  },
  {
   "cell_type": "code",
   "execution_count": null,
   "id": "a0cbd137",
   "metadata": {},
   "outputs": [],
   "source": [
    "# Created a meshgrid of the original coordinates\n",
    "lons_mesh, lats_mesh = np.meshgrid(lons, lats)"
   ]
  },
  {
   "cell_type": "code",
   "execution_count": null,
   "id": "f6ac198d",
   "metadata": {},
   "outputs": [],
   "source": [
    "# Performed the interpolation using griddata\n",
    "new_src = np.empty((src.shape[0], new_lats.shape[0], new_lons.shape[1]))\n",
    "for t in range(src.shape[0]):\n",
    "    new_src[t] = griddata(\n",
    "        (lons_mesh.ravel(), lats_mesh.ravel()),\n",
    "        src[t].ravel(),\n",
    "        (new_lons, new_lats),\n",
    "        method=\"linear\",\n",
    "        fill_value=np.nan,\n",
    "    )"
   ]
  },
  {
   "cell_type": "code",
   "execution_count": null,
   "id": "ded873fa",
   "metadata": {},
   "outputs": [],
   "source": [
    "# Created a new xarray.Dataset with the upscaled data\n",
    "new_ds = xr.Dataset(\n",
    "    {\n",
    "        \"src\": ((\"time\", \"latitude\", \"longitude\"), new_src)\n",
    "    },\n",
    "    coords={\n",
    "        \"time\": ds.time.values,\n",
    "        \"latitude\": ((\"latitude\",), new_lats[:, 0]),\n",
    "        \"longitude\": ((\"longitude\",), new_lons[0, :]),\n",
    "    },\n",
    ")"
   ]
  },
  {
   "cell_type": "code",
   "execution_count": null,
   "id": "6b3fe93e",
   "metadata": {},
   "outputs": [],
   "source": [
    "# Saved the upscaled data to a new NetCDF file\n",
    "new_ds.to_netcdf(output_file)"
   ]
  },
  {
   "cell_type": "code",
   "execution_count": null,
   "id": "fa96a1a8",
   "metadata": {},
   "outputs": [],
   "source": [
    "#FOR SOIL SWVL1========================================================================================================="
   ]
  },
  {
   "cell_type": "code",
   "execution_count": null,
   "id": "80aebbe7",
   "metadata": {
    "scrolled": true
   },
   "outputs": [],
   "source": [
    "# Loaded the NetCDF file\n",
    "input_file = \"Soil.nc\"\n",
    "output_file = \"Soil_swvl1_confirmed.nc\"\n",
    "ds = xr.open_dataset(input_file)\n",
    "#ds"
   ]
  },
  {
   "cell_type": "code",
   "execution_count": null,
   "id": "e610bd61",
   "metadata": {},
   "outputs": [],
   "source": [
    "# Got the existing coordinates and SWVL1 data\n",
    "lons = ds.longitude.values\n",
    "lats = ds.latitude.values\n",
    "swvl1 = ds.swvl1.values #soil skin layer"
   ]
  },
  {
   "cell_type": "code",
   "execution_count": null,
   "id": "16543ada",
   "metadata": {},
   "outputs": [],
   "source": [
    "# Created the new grid with 0.25-degree resolution\n",
    "new_lons = np.arange(-14.875, lons.max(), 0.25)#-14.875 is used to resample the coordinates to match both GRACE & rech data\n",
    "new_lats = np.arange(25.125, lats.max(), 0.25)#25.125 is used to resample the coordinates to match both GRACE & rech data\n",
    "new_lons, new_lats = np.meshgrid(new_lons, new_lats)"
   ]
  },
  {
   "cell_type": "code",
   "execution_count": null,
   "id": "7331db5f",
   "metadata": {},
   "outputs": [],
   "source": [
    "# Created a meshgrid of the original coordinates\n",
    "lons_mesh, lats_mesh = np.meshgrid(lons, lats)"
   ]
  },
  {
   "cell_type": "code",
   "execution_count": null,
   "id": "f4f96a0d",
   "metadata": {},
   "outputs": [],
   "source": [
    "# Performed the interpolation using griddata\n",
    "new_swvl1 = np.empty((swvl1.shape[0], new_lats.shape[0], new_lons.shape[1]))\n",
    "for t in range(swvl1.shape[0]):\n",
    "    new_swvl1[t] = griddata(\n",
    "        (lons_mesh.ravel(), lats_mesh.ravel()),\n",
    "        swvl1[t].ravel(),\n",
    "        (new_lons, new_lats),\n",
    "        method=\"linear\",\n",
    "        fill_value=np.nan,\n",
    "    )"
   ]
  },
  {
   "cell_type": "code",
   "execution_count": null,
   "id": "47840875",
   "metadata": {},
   "outputs": [],
   "source": [
    "# Created a new xarray.Dataset with the upscaled data\n",
    "new_ds = xr.Dataset(\n",
    "    {\n",
    "        \"swvl1\": ((\"time\", \"latitude\", \"longitude\"), new_swvl1)\n",
    "    },\n",
    "    coords={\n",
    "        \"time\": ds.time.values,\n",
    "        \"latitude\": ((\"latitude\",), new_lats[:, 0]),\n",
    "        \"longitude\": ((\"longitude\",), new_lons[0, :]),\n",
    "    },\n",
    ")"
   ]
  },
  {
   "cell_type": "code",
   "execution_count": null,
   "id": "7e5b239f",
   "metadata": {},
   "outputs": [],
   "source": [
    "# Saved the upscaled data to a new NetCDF file\n",
    "new_ds.to_netcdf(output_file)"
   ]
  },
  {
   "cell_type": "code",
   "execution_count": null,
   "id": "2767be3e",
   "metadata": {},
   "outputs": [],
   "source": [
    "#FOR SOIL SWVL2========================================================================================================="
   ]
  },
  {
   "cell_type": "code",
   "execution_count": null,
   "id": "3eb3a7b7",
   "metadata": {
    "scrolled": true
   },
   "outputs": [],
   "source": [
    "# Loaded the NetCDF file\n",
    "input_file = \"Soil.nc\"\n",
    "output_file = \"Soil_swvl2_confirmed.nc\"\n",
    "ds = xr.open_dataset(input_file)\n",
    "#ds"
   ]
  },
  {
   "cell_type": "code",
   "execution_count": null,
   "id": "45ba9436",
   "metadata": {},
   "outputs": [],
   "source": [
    "# Got the existing coordinates and SWVL2 data\n",
    "lons = ds.longitude.values\n",
    "lats = ds.latitude.values\n",
    "swvl2 = ds.swvl2.values #soil skin layer"
   ]
  },
  {
   "cell_type": "code",
   "execution_count": null,
   "id": "943b03f4",
   "metadata": {},
   "outputs": [],
   "source": [
    "# Created the new grid with 0.25-degree resolution\n",
    "new_lons = np.arange(-14.875, lons.max(), 0.25)#-14.875 is used to resample the coordinates to match both GRACE & rech data\n",
    "new_lats = np.arange(25.125, lats.max(), 0.25)#25.125 is used to resample the coordinates to match both GRACE & rech data\n",
    "new_lons, new_lats = np.meshgrid(new_lons, new_lats)"
   ]
  },
  {
   "cell_type": "code",
   "execution_count": null,
   "id": "13701665",
   "metadata": {},
   "outputs": [],
   "source": [
    "# Created a meshgrid of the original coordinates\n",
    "lons_mesh, lats_mesh = np.meshgrid(lons, lats)"
   ]
  },
  {
   "cell_type": "code",
   "execution_count": null,
   "id": "27dd0f03",
   "metadata": {},
   "outputs": [],
   "source": [
    "# Performed the interpolation using griddata\n",
    "new_swvl2 = np.empty((swvl2.shape[0], new_lats.shape[0], new_lons.shape[1]))\n",
    "for t in range(swvl2.shape[0]):\n",
    "    new_swvl2[t] = griddata(\n",
    "        (lons_mesh.ravel(), lats_mesh.ravel()),\n",
    "        swvl2[t].ravel(),\n",
    "        (new_lons, new_lats),\n",
    "        method=\"linear\",\n",
    "        fill_value=np.nan,\n",
    "    )"
   ]
  },
  {
   "cell_type": "code",
   "execution_count": null,
   "id": "bfb07553",
   "metadata": {},
   "outputs": [],
   "source": [
    "# Created a new xarray.Dataset with the upscaled data\n",
    "new_ds = xr.Dataset(\n",
    "    {\n",
    "        \"swvl2\": ((\"time\", \"latitude\", \"longitude\"), new_swvl2)\n",
    "    },\n",
    "    coords={\n",
    "        \"time\": ds.time.values,\n",
    "        \"latitude\": ((\"latitude\",), new_lats[:, 0]),\n",
    "        \"longitude\": ((\"longitude\",), new_lons[0, :]),\n",
    "    },\n",
    ")"
   ]
  },
  {
   "cell_type": "code",
   "execution_count": null,
   "id": "90561263",
   "metadata": {},
   "outputs": [],
   "source": [
    "# Saved the upscaled data to a new NetCDF file\n",
    "new_ds.to_netcdf(output_file)"
   ]
  },
  {
   "cell_type": "code",
   "execution_count": null,
   "id": "2f0036a9",
   "metadata": {},
   "outputs": [],
   "source": []
  },
  {
   "cell_type": "code",
   "execution_count": null,
   "id": "324e1b3b",
   "metadata": {},
   "outputs": [],
   "source": [
    "#FOR SOIL SWVL3========================================================================================================="
   ]
  },
  {
   "cell_type": "code",
   "execution_count": null,
   "id": "8ee2089a",
   "metadata": {
    "scrolled": true
   },
   "outputs": [],
   "source": [
    "# Loaded the NetCDF file\n",
    "input_file = \"Soil.nc\"\n",
    "output_file = \"Soil_swvl3_confirmed.nc\"\n",
    "ds = xr.open_dataset(input_file)\n",
    "#ds"
   ]
  },
  {
   "cell_type": "code",
   "execution_count": null,
   "id": "9974eaf4",
   "metadata": {},
   "outputs": [],
   "source": [
    "# Got the existing coordinates and SWVL3 data\n",
    "lons = ds.longitude.values\n",
    "lats = ds.latitude.values\n",
    "swvl3 = ds.swvl3.values #soil skin layer"
   ]
  },
  {
   "cell_type": "code",
   "execution_count": null,
   "id": "03815039",
   "metadata": {},
   "outputs": [],
   "source": [
    "# Created the new grid with 0.25-degree resolution\n",
    "new_lons = np.arange(-14.875, lons.max(), 0.25)#-14.875 is used to resample the coordinates to match both GRACE & rech data\n",
    "new_lats = np.arange(25.125, lats.max(), 0.25)#25.125 is used to resample the coordinates to match both GRACE & rech data\n",
    "new_lons, new_lats = np.meshgrid(new_lons, new_lats)"
   ]
  },
  {
   "cell_type": "code",
   "execution_count": null,
   "id": "87c0966b",
   "metadata": {},
   "outputs": [],
   "source": [
    "# Created a meshgrid of the original coordinates\n",
    "lons_mesh, lats_mesh = np.meshgrid(lons, lats)"
   ]
  },
  {
   "cell_type": "code",
   "execution_count": null,
   "id": "38673539",
   "metadata": {},
   "outputs": [],
   "source": [
    "# Performed the interpolation using griddata\n",
    "new_swvl3 = np.empty((swvl3.shape[0], new_lats.shape[0], new_lons.shape[1]))\n",
    "for t in range(swvl3.shape[0]):\n",
    "    new_swvl3[t] = griddata(\n",
    "        (lons_mesh.ravel(), lats_mesh.ravel()),\n",
    "        swvl3[t].ravel(),\n",
    "        (new_lons, new_lats),\n",
    "        method=\"linear\",\n",
    "        fill_value=np.nan,\n",
    "    )"
   ]
  },
  {
   "cell_type": "code",
   "execution_count": null,
   "id": "06466a2e",
   "metadata": {},
   "outputs": [],
   "source": [
    "# Created a new xarray.Dataset with the upscaled data\n",
    "new_ds = xr.Dataset(\n",
    "    {\n",
    "        \"swvl3\": ((\"time\", \"latitude\", \"longitude\"), new_swvl3)\n",
    "    },\n",
    "    coords={\n",
    "        \"time\": ds.time.values,\n",
    "        \"latitude\": ((\"latitude\",), new_lats[:, 0]),\n",
    "        \"longitude\": ((\"longitude\",), new_lons[0, :]),\n",
    "    },\n",
    ")"
   ]
  },
  {
   "cell_type": "code",
   "execution_count": null,
   "id": "3856f8da",
   "metadata": {},
   "outputs": [],
   "source": [
    "# Saved the upscaled data to a new NetCDF file\n",
    "new_ds.to_netcdf(output_file)"
   ]
  },
  {
   "cell_type": "code",
   "execution_count": null,
   "id": "397359e3",
   "metadata": {},
   "outputs": [],
   "source": []
  },
  {
   "cell_type": "code",
   "execution_count": null,
   "id": "fe46a080",
   "metadata": {},
   "outputs": [],
   "source": [
    "#FOR SOIL SWVL4========================================================================================================="
   ]
  },
  {
   "cell_type": "code",
   "execution_count": null,
   "id": "853efcc3",
   "metadata": {
    "scrolled": true
   },
   "outputs": [],
   "source": [
    "# Loaded the NetCDF file\n",
    "input_file = \"Soil.nc\"\n",
    "output_file = \"Soil_swvl4_confirmed.nc\"\n",
    "ds = xr.open_dataset(input_file)\n",
    "#ds"
   ]
  },
  {
   "cell_type": "code",
   "execution_count": null,
   "id": "9c640a50",
   "metadata": {},
   "outputs": [],
   "source": [
    "# Got the existing coordinates and SWVL4 data\n",
    "lons = ds.longitude.values\n",
    "lats = ds.latitude.values\n",
    "swvl4 = ds.swvl4.values #soil skin layer"
   ]
  },
  {
   "cell_type": "code",
   "execution_count": null,
   "id": "ebe1cf4e",
   "metadata": {},
   "outputs": [],
   "source": [
    "# Created the new grid with 0.25-degree resolution\n",
    "new_lons = np.arange(-14.875, lons.max(), 0.25)#-14.875 is used to resample the coordinates to match both GRACE & rech data\n",
    "new_lats = np.arange(25.125, lats.max(), 0.25)#25.125 is used to resample the coordinates to match both GRACE & rech data\n",
    "new_lons, new_lats = np.meshgrid(new_lons, new_lats)"
   ]
  },
  {
   "cell_type": "code",
   "execution_count": null,
   "id": "ae8f19d7",
   "metadata": {},
   "outputs": [],
   "source": [
    "# Created a meshgrid of the original coordinates\n",
    "lons_mesh, lats_mesh = np.meshgrid(lons, lats)"
   ]
  },
  {
   "cell_type": "code",
   "execution_count": null,
   "id": "47f9cb8e",
   "metadata": {},
   "outputs": [],
   "source": [
    "# Performed the interpolation using griddata\n",
    "new_swvl4 = np.empty((swvl4.shape[0], new_lats.shape[0], new_lons.shape[1]))\n",
    "for t in range(swvl4.shape[0]):\n",
    "    new_swvl4[t] = griddata(\n",
    "        (lons_mesh.ravel(), lats_mesh.ravel()),\n",
    "        swvl4[t].ravel(),\n",
    "        (new_lons, new_lats),\n",
    "        method=\"linear\",\n",
    "        fill_value=np.nan,\n",
    "    )"
   ]
  },
  {
   "cell_type": "code",
   "execution_count": null,
   "id": "6b5ca2ee",
   "metadata": {},
   "outputs": [],
   "source": [
    "# Created a new xarray.Dataset with the upscaled data\n",
    "new_ds = xr.Dataset(\n",
    "    {\n",
    "        \"swvl4\": ((\"time\", \"latitude\", \"longitude\"), new_swvl4)\n",
    "    },\n",
    "    coords={\n",
    "        \"time\": ds.time.values,\n",
    "        \"latitude\": ((\"latitude\",), new_lats[:, 0]),\n",
    "        \"longitude\": ((\"longitude\",), new_lons[0, :]),\n",
    "    },\n",
    ")"
   ]
  },
  {
   "cell_type": "code",
   "execution_count": null,
   "id": "d2426c14",
   "metadata": {},
   "outputs": [],
   "source": [
    "# Saved the upscaled data to a new NetCDF file\n",
    "new_ds.to_netcdf(output_file)"
   ]
  },
  {
   "cell_type": "code",
   "execution_count": null,
   "id": "04d46aee",
   "metadata": {},
   "outputs": [],
   "source": []
  },
  {
   "cell_type": "code",
   "execution_count": null,
   "id": "c4effbac",
   "metadata": {},
   "outputs": [],
   "source": [
    "#FOR SNOW WATER EQUIVALENT========================================================================================================="
   ]
  },
  {
   "cell_type": "code",
   "execution_count": null,
   "id": "935f03f8",
   "metadata": {
    "scrolled": true
   },
   "outputs": [],
   "source": [
    "# Loaded the NetCDF file\n",
    "input_file = \"Snow_depth.nc\"\n",
    "output_file = \"Snow_water_confirmed.nc\"\n",
    "ds = xr.open_dataset(input_file)\n",
    "#ds"
   ]
  },
  {
   "cell_type": "code",
   "execution_count": null,
   "id": "b79bfe79",
   "metadata": {},
   "outputs": [],
   "source": [
    "# Got the existing coordinates and swe data\n",
    "lons = ds.longitude.values\n",
    "lats = ds.latitude.values\n",
    "sd = ds.sd.values #soil skin layer"
   ]
  },
  {
   "cell_type": "code",
   "execution_count": null,
   "id": "92b810b5",
   "metadata": {},
   "outputs": [],
   "source": [
    "# Created the new grid with 0.25-degree resolution\n",
    "new_lons = np.arange(-14.875, lons.max(), 0.25)#-14.875 is used to resample the coordinates to match both GRACE & rech data\n",
    "new_lats = np.arange(25.125, lats.max(), 0.25)#25.125 is used to resample the coordinates to match both GRACE & rech data\n",
    "new_lons, new_lats = np.meshgrid(new_lons, new_lats)"
   ]
  },
  {
   "cell_type": "code",
   "execution_count": null,
   "id": "038c92dd",
   "metadata": {},
   "outputs": [],
   "source": [
    "# Created a meshgrid of the original coordinates\n",
    "lons_mesh, lats_mesh = np.meshgrid(lons, lats)"
   ]
  },
  {
   "cell_type": "code",
   "execution_count": null,
   "id": "6166692b",
   "metadata": {},
   "outputs": [],
   "source": [
    "# Performed the interpolation using griddata\n",
    "new_sd = np.empty((sd.shape[0], new_lats.shape[0], new_lons.shape[1]))\n",
    "for t in range(sd.shape[0]):\n",
    "    new_sd[t] = griddata(\n",
    "        (lons_mesh.ravel(), lats_mesh.ravel()),\n",
    "        sd[t].ravel(),\n",
    "        (new_lons, new_lats),\n",
    "        method=\"linear\",\n",
    "        fill_value=np.nan,\n",
    "    )"
   ]
  },
  {
   "cell_type": "code",
   "execution_count": null,
   "id": "3c75fed5",
   "metadata": {},
   "outputs": [],
   "source": [
    "# Created a new xarray.Dataset with the upscaled data\n",
    "new_ds = xr.Dataset(\n",
    "    {\n",
    "        \"sd\": ((\"time\", \"latitude\", \"longitude\"), new_sd)\n",
    "    },\n",
    "    coords={\n",
    "        \"time\": ds.time.values,\n",
    "        \"latitude\": ((\"latitude\",), new_lats[:, 0]),\n",
    "        \"longitude\": ((\"longitude\",), new_lons[0, :]),\n",
    "    },\n",
    ")"
   ]
  },
  {
   "cell_type": "code",
   "execution_count": null,
   "id": "63bc3349",
   "metadata": {},
   "outputs": [],
   "source": [
    "# Saved the upscaled data to a new NetCDF file\n",
    "new_ds.to_netcdf(output_file)"
   ]
  }
 ],
 "metadata": {
  "kernelspec": {
   "display_name": "Python 3 (ipykernel)",
   "language": "python",
   "name": "python3"
  },
  "language_info": {
   "codemirror_mode": {
    "name": "ipython",
    "version": 3
   },
   "file_extension": ".py",
   "mimetype": "text/x-python",
   "name": "python",
   "nbconvert_exporter": "python",
   "pygments_lexer": "ipython3",
   "version": "3.9.13"
  }
 },
 "nbformat": 4,
 "nbformat_minor": 5
}
